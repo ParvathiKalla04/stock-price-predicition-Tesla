{
  "nbformat": 4,
  "nbformat_minor": 0,
  "metadata": {
    "colab": {
      "name": "TSLA.ipynb",
      "provenance": []
    },
    "kernelspec": {
      "name": "python3",
      "display_name": "Python 3"
    },
    "language_info": {
      "name": "python"
    }
  },
  "cells": [
    {
      "cell_type": "code",
      "metadata": {
        "colab": {
          "base_uri": "https://localhost:8080/",
          "height": 17
        },
        "id": "lI05S1R7VZk0",
        "outputId": "982eac0d-15c3-49aa-9733-6aa3a4d572f6"
      },
      "source": [
        "#Importing libraries\n",
        "#Importing Libraries\n",
        "import pandas as pd\n",
        "import numpy as np\n",
        "import seaborn as sns\n",
        "import matplotlib.pyplot as plt\n",
        "get_ipython().run_line_magic('matplotlib', 'inline')\n",
        "\n",
        "import plotly.graph_objs as go\n",
        "from plotly.offline import plot\n",
        "\n",
        "#for plotting\n",
        "from plotly.offline import download_plotlyjs, init_notebook_mode, plot, iplot\n",
        "init_notebook_mode(connected=True)"
      ],
      "execution_count": 1,
      "outputs": [
        {
          "output_type": "display_data",
          "data": {
            "text/html": [
              "        <script type=\"text/javascript\">\n",
              "        window.PlotlyConfig = {MathJaxConfig: 'local'};\n",
              "        if (window.MathJax) {MathJax.Hub.Config({SVG: {font: \"STIX-Web\"}});}\n",
              "        if (typeof require !== 'undefined') {\n",
              "        require.undef(\"plotly\");\n",
              "        requirejs.config({\n",
              "            paths: {\n",
              "                'plotly': ['https://cdn.plot.ly/plotly-latest.min']\n",
              "            }\n",
              "        });\n",
              "        require(['plotly'], function(Plotly) {\n",
              "            window._Plotly = Plotly;\n",
              "        });\n",
              "        }\n",
              "        </script>\n",
              "        "
            ]
          },
          "metadata": {
            "tags": []
          }
        }
      ]
    },
    {
      "cell_type": "code",
      "metadata": {
        "colab": {
          "resources": {
            "http://localhost:8080/nbextensions/google.colab/files.js": {
              "data": "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",
              "ok": true,
              "headers": [
                [
                  "content-type",
                  "application/javascript"
                ]
              ],
              "status": 200,
              "status_text": ""
            }
          },
          "base_uri": "https://localhost:8080/",
          "height": 72
        },
        "id": "EdgupII-ViVK",
        "outputId": "4dcdbdad-35a6-4736-a773-405f8d9402af"
      },
      "source": [
        "from google.colab import files\n",
        "uploaded = files.upload() "
      ],
      "execution_count": 2,
      "outputs": [
        {
          "output_type": "display_data",
          "data": {
            "text/html": [
              "\n",
              "     <input type=\"file\" id=\"files-7749338e-bc64-4828-a3a6-47561cf592ea\" name=\"files[]\" multiple disabled\n",
              "        style=\"border:none\" />\n",
              "     <output id=\"result-7749338e-bc64-4828-a3a6-47561cf592ea\">\n",
              "      Upload widget is only available when the cell has been executed in the\n",
              "      current browser session. Please rerun this cell to enable.\n",
              "      </output>\n",
              "      <script src=\"/nbextensions/google.colab/files.js\"></script> "
            ],
            "text/plain": [
              "<IPython.core.display.HTML object>"
            ]
          },
          "metadata": {
            "tags": []
          }
        },
        {
          "output_type": "stream",
          "text": [
            "Saving HistoricalData_TSLA.csv to HistoricalData_TSLA.csv\n"
          ],
          "name": "stdout"
        }
      ]
    },
    {
      "cell_type": "code",
      "metadata": {
        "colab": {
          "base_uri": "https://localhost:8080/"
        },
        "id": "8ENqIhzWVtDj",
        "outputId": "eada2aea-3b2e-46ec-8879-fb656cb73fd6"
      },
      "source": [
        "#Reading data\n",
        "import io\n",
        "tsla = pd.read_csv(io.BytesIO(uploaded['HistoricalData_TSLA.csv']),encoding='ISO-8859-1')  \n",
        "print(tsla)"
      ],
      "execution_count": 3,
      "outputs": [
        {
          "output_type": "stream",
          "text": [
            "            Date Close/Last    Volume      Open     High        Low\n",
            "0     06/09/2021    $598.78  16584570   $602.17  $611.79  $597.6301\n",
            "1     06/08/2021    $603.59  26053410   $623.01  $623.09     $595.5\n",
            "2     06/07/2021    $605.13  22543680  $591.825     $610    $582.88\n",
            "3     06/04/2021    $599.05  24036900   $579.71  $600.61     $577.2\n",
            "4     06/03/2021    $572.84  30111890    $601.8  $604.55    $571.22\n",
            "...          ...        ...       ...       ...      ...        ...\n",
            "2511  06/16/2011       $5.3   9210620    $5.534     $5.6     $5.148\n",
            "2512  06/15/2011     $5.464   6723390    $5.688    $5.69     $5.414\n",
            "2513  06/14/2011      $5.72   7866000    $5.708    $5.94     $5.704\n",
            "2514  06/13/2011     $5.686   8566960    $5.614   $5.776     $5.576\n",
            "2515  06/10/2011     $5.572   7832660    $5.504  $5.6598      $5.47\n",
            "\n",
            "[2516 rows x 6 columns]\n"
          ],
          "name": "stdout"
        }
      ]
    },
    {
      "cell_type": "code",
      "metadata": {
        "colab": {
          "base_uri": "https://localhost:8080/",
          "height": 359
        },
        "id": "DbUFn9fdWDPM",
        "outputId": "34a9266f-12ec-4570-b0ab-36c2b07ffbb2"
      },
      "source": [
        "tsla.head(10)"
      ],
      "execution_count": 4,
      "outputs": [
        {
          "output_type": "execute_result",
          "data": {
            "text/html": [
              "<div>\n",
              "<style scoped>\n",
              "    .dataframe tbody tr th:only-of-type {\n",
              "        vertical-align: middle;\n",
              "    }\n",
              "\n",
              "    .dataframe tbody tr th {\n",
              "        vertical-align: top;\n",
              "    }\n",
              "\n",
              "    .dataframe thead th {\n",
              "        text-align: right;\n",
              "    }\n",
              "</style>\n",
              "<table border=\"1\" class=\"dataframe\">\n",
              "  <thead>\n",
              "    <tr style=\"text-align: right;\">\n",
              "      <th></th>\n",
              "      <th>Date</th>\n",
              "      <th>Close/Last</th>\n",
              "      <th>Volume</th>\n",
              "      <th>Open</th>\n",
              "      <th>High</th>\n",
              "      <th>Low</th>\n",
              "    </tr>\n",
              "  </thead>\n",
              "  <tbody>\n",
              "    <tr>\n",
              "      <th>0</th>\n",
              "      <td>06/09/2021</td>\n",
              "      <td>$598.78</td>\n",
              "      <td>16584570</td>\n",
              "      <td>$602.17</td>\n",
              "      <td>$611.79</td>\n",
              "      <td>$597.6301</td>\n",
              "    </tr>\n",
              "    <tr>\n",
              "      <th>1</th>\n",
              "      <td>06/08/2021</td>\n",
              "      <td>$603.59</td>\n",
              "      <td>26053410</td>\n",
              "      <td>$623.01</td>\n",
              "      <td>$623.09</td>\n",
              "      <td>$595.5</td>\n",
              "    </tr>\n",
              "    <tr>\n",
              "      <th>2</th>\n",
              "      <td>06/07/2021</td>\n",
              "      <td>$605.13</td>\n",
              "      <td>22543680</td>\n",
              "      <td>$591.825</td>\n",
              "      <td>$610</td>\n",
              "      <td>$582.88</td>\n",
              "    </tr>\n",
              "    <tr>\n",
              "      <th>3</th>\n",
              "      <td>06/04/2021</td>\n",
              "      <td>$599.05</td>\n",
              "      <td>24036900</td>\n",
              "      <td>$579.71</td>\n",
              "      <td>$600.61</td>\n",
              "      <td>$577.2</td>\n",
              "    </tr>\n",
              "    <tr>\n",
              "      <th>4</th>\n",
              "      <td>06/03/2021</td>\n",
              "      <td>$572.84</td>\n",
              "      <td>30111890</td>\n",
              "      <td>$601.8</td>\n",
              "      <td>$604.55</td>\n",
              "      <td>$571.22</td>\n",
              "    </tr>\n",
              "    <tr>\n",
              "      <th>5</th>\n",
              "      <td>06/02/2021</td>\n",
              "      <td>$605.12</td>\n",
              "      <td>23302780</td>\n",
              "      <td>$620.13</td>\n",
              "      <td>$623.36</td>\n",
              "      <td>$599.14</td>\n",
              "    </tr>\n",
              "    <tr>\n",
              "      <th>6</th>\n",
              "      <td>06/01/2021</td>\n",
              "      <td>$623.9</td>\n",
              "      <td>18084890</td>\n",
              "      <td>$627.8</td>\n",
              "      <td>$633.8</td>\n",
              "      <td>$620.55</td>\n",
              "    </tr>\n",
              "    <tr>\n",
              "      <th>7</th>\n",
              "      <td>05/28/2021</td>\n",
              "      <td>$625.22</td>\n",
              "      <td>22737040</td>\n",
              "      <td>$628.5</td>\n",
              "      <td>$635.59</td>\n",
              "      <td>$622.38</td>\n",
              "    </tr>\n",
              "    <tr>\n",
              "      <th>8</th>\n",
              "      <td>05/27/2021</td>\n",
              "      <td>$630.85</td>\n",
              "      <td>26370590</td>\n",
              "      <td>$620.24</td>\n",
              "      <td>$631.13</td>\n",
              "      <td>$616.21</td>\n",
              "    </tr>\n",
              "    <tr>\n",
              "      <th>9</th>\n",
              "      <td>05/26/2021</td>\n",
              "      <td>$619.13</td>\n",
              "      <td>28639310</td>\n",
              "      <td>$607.56</td>\n",
              "      <td>$626.17</td>\n",
              "      <td>$601.5</td>\n",
              "    </tr>\n",
              "  </tbody>\n",
              "</table>\n",
              "</div>"
            ],
            "text/plain": [
              "         Date Close/Last    Volume      Open     High        Low\n",
              "0  06/09/2021    $598.78  16584570   $602.17  $611.79  $597.6301\n",
              "1  06/08/2021    $603.59  26053410   $623.01  $623.09     $595.5\n",
              "2  06/07/2021    $605.13  22543680  $591.825     $610    $582.88\n",
              "3  06/04/2021    $599.05  24036900   $579.71  $600.61     $577.2\n",
              "4  06/03/2021    $572.84  30111890    $601.8  $604.55    $571.22\n",
              "5  06/02/2021    $605.12  23302780   $620.13  $623.36    $599.14\n",
              "6  06/01/2021     $623.9  18084890    $627.8   $633.8    $620.55\n",
              "7  05/28/2021    $625.22  22737040    $628.5  $635.59    $622.38\n",
              "8  05/27/2021    $630.85  26370590   $620.24  $631.13    $616.21\n",
              "9  05/26/2021    $619.13  28639310   $607.56  $626.17     $601.5"
            ]
          },
          "metadata": {
            "tags": []
          },
          "execution_count": 4
        }
      ]
    },
    {
      "cell_type": "code",
      "metadata": {
        "colab": {
          "base_uri": "https://localhost:8080/",
          "height": 204
        },
        "id": "H50dElwOWMai",
        "outputId": "87b79c01-7611-4c74-92cc-f22b7d2948b7"
      },
      "source": [
        "tsla.tail()"
      ],
      "execution_count": 5,
      "outputs": [
        {
          "output_type": "execute_result",
          "data": {
            "text/html": [
              "<div>\n",
              "<style scoped>\n",
              "    .dataframe tbody tr th:only-of-type {\n",
              "        vertical-align: middle;\n",
              "    }\n",
              "\n",
              "    .dataframe tbody tr th {\n",
              "        vertical-align: top;\n",
              "    }\n",
              "\n",
              "    .dataframe thead th {\n",
              "        text-align: right;\n",
              "    }\n",
              "</style>\n",
              "<table border=\"1\" class=\"dataframe\">\n",
              "  <thead>\n",
              "    <tr style=\"text-align: right;\">\n",
              "      <th></th>\n",
              "      <th>Date</th>\n",
              "      <th>Close/Last</th>\n",
              "      <th>Volume</th>\n",
              "      <th>Open</th>\n",
              "      <th>High</th>\n",
              "      <th>Low</th>\n",
              "    </tr>\n",
              "  </thead>\n",
              "  <tbody>\n",
              "    <tr>\n",
              "      <th>2511</th>\n",
              "      <td>06/16/2011</td>\n",
              "      <td>$5.3</td>\n",
              "      <td>9210620</td>\n",
              "      <td>$5.534</td>\n",
              "      <td>$5.6</td>\n",
              "      <td>$5.148</td>\n",
              "    </tr>\n",
              "    <tr>\n",
              "      <th>2512</th>\n",
              "      <td>06/15/2011</td>\n",
              "      <td>$5.464</td>\n",
              "      <td>6723390</td>\n",
              "      <td>$5.688</td>\n",
              "      <td>$5.69</td>\n",
              "      <td>$5.414</td>\n",
              "    </tr>\n",
              "    <tr>\n",
              "      <th>2513</th>\n",
              "      <td>06/14/2011</td>\n",
              "      <td>$5.72</td>\n",
              "      <td>7866000</td>\n",
              "      <td>$5.708</td>\n",
              "      <td>$5.94</td>\n",
              "      <td>$5.704</td>\n",
              "    </tr>\n",
              "    <tr>\n",
              "      <th>2514</th>\n",
              "      <td>06/13/2011</td>\n",
              "      <td>$5.686</td>\n",
              "      <td>8566960</td>\n",
              "      <td>$5.614</td>\n",
              "      <td>$5.776</td>\n",
              "      <td>$5.576</td>\n",
              "    </tr>\n",
              "    <tr>\n",
              "      <th>2515</th>\n",
              "      <td>06/10/2011</td>\n",
              "      <td>$5.572</td>\n",
              "      <td>7832660</td>\n",
              "      <td>$5.504</td>\n",
              "      <td>$5.6598</td>\n",
              "      <td>$5.47</td>\n",
              "    </tr>\n",
              "  </tbody>\n",
              "</table>\n",
              "</div>"
            ],
            "text/plain": [
              "            Date Close/Last   Volume    Open     High     Low\n",
              "2511  06/16/2011       $5.3  9210620  $5.534     $5.6  $5.148\n",
              "2512  06/15/2011     $5.464  6723390  $5.688    $5.69  $5.414\n",
              "2513  06/14/2011      $5.72  7866000  $5.708    $5.94  $5.704\n",
              "2514  06/13/2011     $5.686  8566960  $5.614   $5.776  $5.576\n",
              "2515  06/10/2011     $5.572  7832660  $5.504  $5.6598   $5.47"
            ]
          },
          "metadata": {
            "tags": []
          },
          "execution_count": 5
        }
      ]
    },
    {
      "cell_type": "code",
      "metadata": {
        "colab": {
          "base_uri": "https://localhost:8080/"
        },
        "id": "k4pxIlgoWX3t",
        "outputId": "a94b51fd-8181-4f4a-9c02-9609b29e525d"
      },
      "source": [
        "tsla.info()"
      ],
      "execution_count": 7,
      "outputs": [
        {
          "output_type": "stream",
          "text": [
            "<class 'pandas.core.frame.DataFrame'>\n",
            "RangeIndex: 2516 entries, 0 to 2515\n",
            "Data columns (total 6 columns):\n",
            " #   Column      Non-Null Count  Dtype \n",
            "---  ------      --------------  ----- \n",
            " 0   Date        2516 non-null   object\n",
            " 1   Close/Last  2516 non-null   object\n",
            " 2   Volume      2516 non-null   int64 \n",
            " 3   Open        2516 non-null   object\n",
            " 4   High        2516 non-null   object\n",
            " 5   Low         2516 non-null   object\n",
            "dtypes: int64(1), object(5)\n",
            "memory usage: 118.1+ KB\n"
          ],
          "name": "stdout"
        }
      ]
    },
    {
      "cell_type": "code",
      "metadata": {
        "colab": {
          "base_uri": "https://localhost:8080/"
        },
        "id": "iz44brrDWdyg",
        "outputId": "66e5f447-08e5-49b8-b33b-f28082247c1d"
      },
      "source": [
        "tsla['Date'] = pd.to_datetime(tsla['Date'])\n",
        "#convert object type to float\n",
        "tsla=tsla.rename(columns={'Close/Last':'Close'})\n",
        "tsla['Close']=tsla['Close'].replace('[\\$]','',regex=True).astype(float)\n",
        "tsla[tsla.columns[3:]]=tsla[tsla.columns[3:]].replace('[\\$]','',regex=True).astype(float)\n",
        "tsla.info()"
      ],
      "execution_count": 8,
      "outputs": [
        {
          "output_type": "stream",
          "text": [
            "<class 'pandas.core.frame.DataFrame'>\n",
            "RangeIndex: 2516 entries, 0 to 2515\n",
            "Data columns (total 6 columns):\n",
            " #   Column  Non-Null Count  Dtype         \n",
            "---  ------  --------------  -----         \n",
            " 0   Date    2516 non-null   datetime64[ns]\n",
            " 1   Close   2516 non-null   float64       \n",
            " 2   Volume  2516 non-null   int64         \n",
            " 3   Open    2516 non-null   float64       \n",
            " 4   High    2516 non-null   float64       \n",
            " 5   Low     2516 non-null   float64       \n",
            "dtypes: datetime64[ns](1), float64(4), int64(1)\n",
            "memory usage: 118.1 KB\n"
          ],
          "name": "stdout"
        }
      ]
    },
    {
      "cell_type": "code",
      "metadata": {
        "colab": {
          "base_uri": "https://localhost:8080/"
        },
        "id": "j57JaxhPW_O6",
        "outputId": "4084a367-ac8b-46f0-b40f-4004ae9849b7"
      },
      "source": [
        "print(f'Dataframe contains stock prices from {tsla.Date.min()} to {tsla.Date.max()}')\n",
        "print(f'Total no.of days = {(tsla.Date.max()- tsla.Date.min()).days} days')"
      ],
      "execution_count": 9,
      "outputs": [
        {
          "output_type": "stream",
          "text": [
            "Dataframe contains stock prices from 2011-06-10 00:00:00 to 2021-06-09 00:00:00\n",
            "Total no.of days = 3652 days\n"
          ],
          "name": "stdout"
        }
      ]
    },
    {
      "cell_type": "code",
      "metadata": {
        "colab": {
          "base_uri": "https://localhost:8080/",
          "height": 297
        },
        "id": "J4LbxpoPXejy",
        "outputId": "55a23705-0ba8-47f3-fa22-ca67f6d96a7f"
      },
      "source": [
        "tsla.describe()"
      ],
      "execution_count": 11,
      "outputs": [
        {
          "output_type": "execute_result",
          "data": {
            "text/html": [
              "<div>\n",
              "<style scoped>\n",
              "    .dataframe tbody tr th:only-of-type {\n",
              "        vertical-align: middle;\n",
              "    }\n",
              "\n",
              "    .dataframe tbody tr th {\n",
              "        vertical-align: top;\n",
              "    }\n",
              "\n",
              "    .dataframe thead th {\n",
              "        text-align: right;\n",
              "    }\n",
              "</style>\n",
              "<table border=\"1\" class=\"dataframe\">\n",
              "  <thead>\n",
              "    <tr style=\"text-align: right;\">\n",
              "      <th></th>\n",
              "      <th>Close</th>\n",
              "      <th>Volume</th>\n",
              "      <th>Open</th>\n",
              "      <th>High</th>\n",
              "      <th>Low</th>\n",
              "    </tr>\n",
              "  </thead>\n",
              "  <tbody>\n",
              "    <tr>\n",
              "      <th>count</th>\n",
              "      <td>2516.000000</td>\n",
              "      <td>2.516000e+03</td>\n",
              "      <td>2516.000000</td>\n",
              "      <td>2516.000000</td>\n",
              "      <td>2516.000000</td>\n",
              "    </tr>\n",
              "    <tr>\n",
              "      <th>mean</th>\n",
              "      <td>94.310514</td>\n",
              "      <td>3.407957e+07</td>\n",
              "      <td>94.287201</td>\n",
              "      <td>96.488776</td>\n",
              "      <td>92.014969</td>\n",
              "    </tr>\n",
              "    <tr>\n",
              "      <th>std</th>\n",
              "      <td>162.504123</td>\n",
              "      <td>2.891964e+07</td>\n",
              "      <td>162.519434</td>\n",
              "      <td>166.806403</td>\n",
              "      <td>158.166102</td>\n",
              "    </tr>\n",
              "    <tr>\n",
              "      <th>min</th>\n",
              "      <td>4.390000</td>\n",
              "      <td>1.197975e+06</td>\n",
              "      <td>4.386000</td>\n",
              "      <td>4.622000</td>\n",
              "      <td>4.300000</td>\n",
              "    </tr>\n",
              "    <tr>\n",
              "      <th>25%</th>\n",
              "      <td>33.384000</td>\n",
              "      <td>1.573979e+07</td>\n",
              "      <td>33.667500</td>\n",
              "      <td>34.318000</td>\n",
              "      <td>32.628775</td>\n",
              "    </tr>\n",
              "    <tr>\n",
              "      <th>50%</th>\n",
              "      <td>47.038000</td>\n",
              "      <td>2.738053e+07</td>\n",
              "      <td>47.009000</td>\n",
              "      <td>47.798000</td>\n",
              "      <td>46.160000</td>\n",
              "    </tr>\n",
              "    <tr>\n",
              "      <th>75%</th>\n",
              "      <td>65.046000</td>\n",
              "      <td>4.280184e+07</td>\n",
              "      <td>64.774500</td>\n",
              "      <td>65.869500</td>\n",
              "      <td>63.638500</td>\n",
              "    </tr>\n",
              "    <tr>\n",
              "      <th>max</th>\n",
              "      <td>883.090000</td>\n",
              "      <td>3.046938e+08</td>\n",
              "      <td>891.380000</td>\n",
              "      <td>900.400000</td>\n",
              "      <td>871.600000</td>\n",
              "    </tr>\n",
              "  </tbody>\n",
              "</table>\n",
              "</div>"
            ],
            "text/plain": [
              "             Close        Volume         Open         High          Low\n",
              "count  2516.000000  2.516000e+03  2516.000000  2516.000000  2516.000000\n",
              "mean     94.310514  3.407957e+07    94.287201    96.488776    92.014969\n",
              "std     162.504123  2.891964e+07   162.519434   166.806403   158.166102\n",
              "min       4.390000  1.197975e+06     4.386000     4.622000     4.300000\n",
              "25%      33.384000  1.573979e+07    33.667500    34.318000    32.628775\n",
              "50%      47.038000  2.738053e+07    47.009000    47.798000    46.160000\n",
              "75%      65.046000  4.280184e+07    64.774500    65.869500    63.638500\n",
              "max     883.090000  3.046938e+08   891.380000   900.400000   871.600000"
            ]
          },
          "metadata": {
            "tags": []
          },
          "execution_count": 11
        }
      ]
    },
    {
      "cell_type": "code",
      "metadata": {
        "colab": {
          "base_uri": "https://localhost:8080/",
          "height": 422
        },
        "id": "9P0FdP2BXk89",
        "outputId": "4a8fb43b-73d7-4583-acba-81d80e7e41f1"
      },
      "source": [
        "#Outlier detection\n",
        "plt.figure(figsize=(10,5))\n",
        "sns.distplot(tsla['Close'],color = 'gold')\n",
        "plt.show()"
      ],
      "execution_count": 13,
      "outputs": [
        {
          "output_type": "stream",
          "text": [
            "/usr/local/lib/python3.7/dist-packages/seaborn/distributions.py:2557: FutureWarning:\n",
            "\n",
            "`distplot` is a deprecated function and will be removed in a future version. Please adapt your code to use either `displot` (a figure-level function with similar flexibility) or `histplot` (an axes-level function for histograms).\n",
            "\n"
          ],
          "name": "stderr"
        },
        {
          "output_type": "display_data",
          "data": {
            "image/png": "[encoded data removed]",
            "text/plain": [
              "<Figure size 720x360 with 1 Axes>"
            ]
          },
          "metadata": {
            "tags": [],
            "needs_background": "light"
          }
        }
      ]
    },
    {
      "cell_type": "code",
      "metadata": {
        "colab": {
          "base_uri": "https://localhost:8080/",
          "height": 384
        },
        "id": "iqe5dB_lXthE",
        "outputId": "9835f761-8c32-4c70-81de-b413ba7717bb"
      },
      "source": [
        "sns.boxplot(tsla['Close'])"
      ],
      "execution_count": 14,
      "outputs": [
        {
          "output_type": "stream",
          "text": [
            "/usr/local/lib/python3.7/dist-packages/seaborn/_decorators.py:43: FutureWarning:\n",
            "\n",
            "Pass the following variable as a keyword arg: x. From version 0.12, the only valid positional argument will be `data`, and passing other arguments without an explicit keyword will result in an error or misinterpretation.\n",
            "\n"
          ],
          "name": "stderr"
        },
        {
          "output_type": "execute_result",
          "data": {
            "text/plain": [
              "<matplotlib.axes._subplots.AxesSubplot at 0x7f5f6e7dfb90>"
            ]
          },
          "metadata": {
            "tags": []
          },
          "execution_count": 14
        },
        {
          "output_type": "display_data",
          "data": {
            "image/png": "[encoded data removed]",
            "text/plain": [
              "<Figure size 432x288 with 1 Axes>"
            ]
          },
          "metadata": {
            "tags": [],
            "needs_background": "light"
          }
        }
      ]
    },
    {
      "cell_type": "code",
      "metadata": {
        "colab": {
          "base_uri": "https://localhost:8080/",
          "height": 296
        },
        "id": "QRiTHdckX5Sl",
        "outputId": "f5de8b67-6a19-41d2-da4e-3c5459752cd2"
      },
      "source": [
        "col = ['Open','High','Low','Close']\n",
        "ft = tsla[col]\n",
        "sns.boxplot(x=\"variable\", y=\"value\",data=pd.melt(ft))"
      ],
      "execution_count": 15,
      "outputs": [
        {
          "output_type": "execute_result",
          "data": {
            "text/plain": [
              "<matplotlib.axes._subplots.AxesSubplot at 0x7f5f6bdecb10>"
            ]
          },
          "metadata": {
            "tags": []
          },
          "execution_count": 15
        },
        {
          "output_type": "display_data",
          "data": {
            "image/png": "[encoded data removed]",
            "text/plain": [
              "<Figure size 432x288 with 1 Axes>"
            ]
          },
          "metadata": {
            "tags": [],
            "needs_background": "light"
          }
        }
      ]
    },
    {
      "cell_type": "code",
      "metadata": {
        "colab": {
          "base_uri": "https://localhost:8080/"
        },
        "id": "Co_6JSvGYBty",
        "outputId": "6620e386-0b3f-466d-ba34-86e4a19b9142"
      },
      "source": [
        "Q1=tsla[\"Close\"].quantile(0.25)\n",
        "Q3=tsla[\"Close\"].quantile(0.75)\n",
        "print(Q1,Q3)\n",
        "iqr=Q3-Q1\n",
        "iqr"
      ],
      "execution_count": 16,
      "outputs": [
        {
          "output_type": "stream",
          "text": [
            "33.384 65.046\n"
          ],
          "name": "stdout"
        },
        {
          "output_type": "execute_result",
          "data": {
            "text/plain": [
              "31.662000000000006"
            ]
          },
          "metadata": {
            "tags": []
          },
          "execution_count": 16
        }
      ]
    },
    {
      "cell_type": "code",
      "metadata": {
        "colab": {
          "base_uri": "https://localhost:8080/"
        },
        "id": "V7Hs1uJEYLW8",
        "outputId": "9be1c1c8-fdd5-4447-a92f-37ebb5913c62"
      },
      "source": [
        "upper_limit = Q3 + 1.5 * iqr\n",
        "lower_limit = Q1 - 1.5 * iqr\n",
        "print(upper_limit,lower_limit)"
      ],
      "execution_count": 17,
      "outputs": [
        {
          "output_type": "stream",
          "text": [
            "112.53900000000002 -14.109000000000009\n"
          ],
          "name": "stdout"
        }
      ]
    },
    {
      "cell_type": "code",
      "metadata": {
        "colab": {
          "base_uri": "https://localhost:8080/"
        },
        "id": "JwuSE13_YSQm",
        "outputId": "4c81fc7d-7b2a-4c11-9305-62a657e0456d"
      },
      "source": [
        "new_df = tsla[tsla['Close'] < lower_limit] \n",
        "new_df.shape"
      ],
      "execution_count": 18,
      "outputs": [
        {
          "output_type": "execute_result",
          "data": {
            "text/plain": [
              "(0, 6)"
            ]
          },
          "metadata": {
            "tags": []
          },
          "execution_count": 18
        }
      ]
    },
    {
      "cell_type": "code",
      "metadata": {
        "colab": {
          "base_uri": "https://localhost:8080/"
        },
        "id": "p1SR_beVYbr_",
        "outputId": "94fdf8bb-5b5a-4bba-c0b3-d537686e47df"
      },
      "source": [
        "new_df = tsla[tsla['Close'] > upper_limit] \n",
        "new_df.shape"
      ],
      "execution_count": 19,
      "outputs": [
        {
          "output_type": "execute_result",
          "data": {
            "text/plain": [
              "(328, 6)"
            ]
          },
          "metadata": {
            "tags": []
          },
          "execution_count": 19
        }
      ]
    },
    {
      "cell_type": "code",
      "metadata": {
        "colab": {
          "base_uri": "https://localhost:8080/"
        },
        "id": "tksqlePcYkPW",
        "outputId": "0cfd3758-4f2c-472d-e0da-198738508b3c"
      },
      "source": [
        "new_df = tsla[tsla['Close'] < upper_limit] \n",
        "new_df.shape"
      ],
      "execution_count": 20,
      "outputs": [
        {
          "output_type": "execute_result",
          "data": {
            "text/plain": [
              "(2188, 6)"
            ]
          },
          "metadata": {
            "tags": []
          },
          "execution_count": 20
        }
      ]
    },
    {
      "cell_type": "code",
      "metadata": {
        "colab": {
          "base_uri": "https://localhost:8080/",
          "height": 789
        },
        "id": "_a7T8IQIYtFg",
        "outputId": "207bcd52-28c0-4f68-8000-83625ea1de08"
      },
      "source": [
        "plt.figure(figsize=(16,8))\n",
        "plt.subplot(2,2,1)\n",
        "sns.distplot(tsla['Close'])\n",
        "plt.subplot(2,2,2)\n",
        "sns.boxplot(tsla['Close'])\n",
        "plt.subplot(2,2,3)\n",
        "sns.distplot(new_df['Close'])\n",
        "plt.subplot(2,2,4)\n",
        "sns.boxplot(new_df['Close'])\n",
        "plt.show()"
      ],
      "execution_count": 21,
      "outputs": [
        {
          "output_type": "stream",
          "text": [
            "/usr/local/lib/python3.7/dist-packages/seaborn/distributions.py:2557: FutureWarning:\n",
            "\n",
            "`distplot` is a deprecated function and will be removed in a future version. Please adapt your code to use either `displot` (a figure-level function with similar flexibility) or `histplot` (an axes-level function for histograms).\n",
            "\n",
            "/usr/local/lib/python3.7/dist-packages/seaborn/_decorators.py:43: FutureWarning:\n",
            "\n",
            "Pass the following variable as a keyword arg: x. From version 0.12, the only valid positional argument will be `data`, and passing other arguments without an explicit keyword will result in an error or misinterpretation.\n",
            "\n",
            "/usr/local/lib/python3.7/dist-packages/seaborn/distributions.py:2557: FutureWarning:\n",
            "\n",
            "`distplot` is a deprecated function and will be removed in a future version. Please adapt your code to use either `displot` (a figure-level function with similar flexibility) or `histplot` (an axes-level function for histograms).\n",
            "\n",
            "/usr/local/lib/python3.7/dist-packages/seaborn/_decorators.py:43: FutureWarning:\n",
            "\n",
            "Pass the following variable as a keyword arg: x. From version 0.12, the only valid positional argument will be `data`, and passing other arguments without an explicit keyword will result in an error or misinterpretation.\n",
            "\n"
          ],
          "name": "stderr"
        },
        {
          "output_type": "display_data",
          "data": {
            "image/png": "[encoded data removed]",
            "text/plain": [
              "<Figure size 1152x576 with 4 Axes>"
            ]
          },
          "metadata": {
            "tags": [],
            "needs_background": "light"
          }
        }
      ]
    },
    {
      "cell_type": "code",
      "metadata": {
        "id": "E1-f92aMY4RL"
      },
      "source": [
        "new_df_cap = tsla.copy()\n",
        "new_df_cap['Close'] = np.where(\n",
        "    new_df_cap['Close'] > upper_limit,upper_limit,\n",
        "    np.where(new_df_cap['Close'] < lower_limit,lower_limit,\n",
        "        new_df_cap['Close']\n",
        "    )\n",
        ")"
      ],
      "execution_count": 22,
      "outputs": []
    },
    {
      "cell_type": "code",
      "metadata": {
        "colab": {
          "base_uri": "https://localhost:8080/",
          "height": 789
        },
        "id": "HuYCXRvSZMQX",
        "outputId": "4eaf4a95-d8ee-4f3c-9f58-f18bf1d5624d"
      },
      "source": [
        "plt.figure(figsize=(16,8))\n",
        "plt.subplot(2,2,1)\n",
        "sns.distplot(tsla['Close'])\n",
        "plt.subplot(2,2,2)\n",
        "sns.boxplot(tsla['Close'])\n",
        "plt.subplot(2,2,3)\n",
        "sns.distplot(new_df_cap['Close'])\n",
        "plt.subplot(2,2,4)\n",
        "sns.boxplot(new_df_cap['Close'])\n",
        "plt.show()"
      ],
      "execution_count": 23,
      "outputs": [
        {
          "output_type": "stream",
          "text": [
            "/usr/local/lib/python3.7/dist-packages/seaborn/distributions.py:2557: FutureWarning:\n",
            "\n",
            "`distplot` is a deprecated function and will be removed in a future version. Please adapt your code to use either `displot` (a figure-level function with similar flexibility) or `histplot` (an axes-level function for histograms).\n",
            "\n",
            "/usr/local/lib/python3.7/dist-packages/seaborn/_decorators.py:43: FutureWarning:\n",
            "\n",
            "Pass the following variable as a keyword arg: x. From version 0.12, the only valid positional argument will be `data`, and passing other arguments without an explicit keyword will result in an error or misinterpretation.\n",
            "\n",
            "/usr/local/lib/python3.7/dist-packages/seaborn/distributions.py:2557: FutureWarning:\n",
            "\n",
            "`distplot` is a deprecated function and will be removed in a future version. Please adapt your code to use either `displot` (a figure-level function with similar flexibility) or `histplot` (an axes-level function for histograms).\n",
            "\n",
            "/usr/local/lib/python3.7/dist-packages/seaborn/_decorators.py:43: FutureWarning:\n",
            "\n",
            "Pass the following variable as a keyword arg: x. From version 0.12, the only valid positional argument will be `data`, and passing other arguments without an explicit keyword will result in an error or misinterpretation.\n",
            "\n"
          ],
          "name": "stderr"
        },
        {
          "output_type": "display_data",
          "data": {
            "image/png": "[encoded data removed]",
            "text/plain": [
              "<Figure size 1152x576 with 4 Axes>"
            ]
          },
          "metadata": {
            "tags": [],
            "needs_background": "light"
          }
        }
      ]
    },
    {
      "cell_type": "code",
      "metadata": {
        "colab": {
          "base_uri": "https://localhost:8080/",
          "height": 296
        },
        "id": "7UPs1SOkZdG3",
        "outputId": "bc2d2207-25fc-4b44-96f7-6609476a92ba"
      },
      "source": [
        "col = ['Open','High','Low','Close']\n",
        "ft = tsla[col]\n",
        "sns.boxplot(x=\"variable\", y=\"value\",data=pd.melt(ft))"
      ],
      "execution_count": 25,
      "outputs": [
        {
          "output_type": "execute_result",
          "data": {
            "text/plain": [
              "<matplotlib.axes._subplots.AxesSubplot at 0x7f5f6b794b50>"
            ]
          },
          "metadata": {
            "tags": []
          },
          "execution_count": 25
        },
        {
          "output_type": "display_data",
          "data": {
            "image/png": "[encoded data removed]",
            "text/plain": [
              "<Figure size 432x288 with 1 Axes>"
            ]
          },
          "metadata": {
            "tags": [],
            "needs_background": "light"
          }
        }
      ]
    },
    {
      "cell_type": "code",
      "metadata": {
        "colab": {
          "base_uri": "https://localhost:8080/",
          "height": 542
        },
        "id": "lDwlbez7Zo8y",
        "outputId": "1e8313bc-b830-4562-cacf-742a9b56c69b"
      },
      "source": [
        "#Layout for the plot\n",
        "layout=go.Layout(title='Stock prices of Tesla',xaxis=dict(title='Date',titlefont=dict(family='Courier New, monospace',size=19,color='#7f7f7f')) ,\n",
        "                 yaxis=dict(title='Close',titlefont=dict(family='Courier New, monospace',size=19,color='#7f7f7f')))\n",
        "tsla_data = [{'x':tsla['Date'], 'y':tsla['Close']}]\n",
        "plot = go.Figure(data=tsla_data,layout=layout)\n",
        "plot.show(renderer=\"colab\")"
      ],
      "execution_count": 26,
      "outputs": [
        {
          "output_type": "display_data",
          "data": {
            "text/html": [
              "<html>\n",
              "<head><meta charset=\"utf-8\" /></head>\n",
              "<body>\n",
              "    <div>\n",
              "            <script src=\"https://cdnjs.cloudflare.com/ajax/libs/mathjax/2.7.5/MathJax.js?config=TeX-AMS-MML_SVG\"></script><script type=\"text/javascript\">if (window.MathJax) {MathJax.Hub.Config({SVG: {font: \"STIX-Web\"}});}</script>\n",
              "                <script type=\"text/javascript\">window.PlotlyConfig = {MathJaxConfig: 'local'};</script>\n",
              "        <script src=\"https://cdn.plot.ly/plotly-latest.min.js\"></script>    \n",
              "            <div id=\"bbcf957f-da5c-473e-8fd9-7b4b8edb16d6\" class=\"plotly-graph-div\" style=\"height:525px; width:100%;\"></div>\n",
              "            <script type=\"text/javascript\">\n",
              "                \n",
              "                    window.PLOTLYENV=window.PLOTLYENV || {};\n",
              "                    \n",
              "                if (document.getElementById(\"bbcf957f-da5c-473e-8fd9-7b4b8edb16d6\")) {\n",
              "                    Plotly.newPlot(\n",
              "                        'bbcf957f-da5c-473e-8fd9-7b4b8edb16d6',\n",
              "                        [{\"type\": \"scatter\", \"x\": [\"2021-06-09T00:00:00\", \"2021-06-08T00:00:00\", \"2021-06-07T00:00:00\", \"2021-06-04T00:00:00\", \"2021-06-03T00:00:00\", \"2021-06-02T00:00:00\", \"2021-06-01T00:00:00\", \"2021-05-28T00:00:00\", \"2021-05-27T00:00:00\", \"2021-05-26T00:00:00\", \"2021-05-25T00:00:00\", \"2021-05-24T00:00:00\", \"2021-05-21T00:00:00\", \"2021-05-20T00:00:00\", \"2021-05-19T00:00:00\", \"2021-05-18T00:00:00\", \"2021-05-17T00:00:00\", \"2021-05-14T00:00:00\", \"2021-05-13T00:00:00\", \"2021-05-12T00:00:00\", \"2021-05-11T00:00:00\", \"2021-05-10T00:00:00\", \"2021-05-07T00:00:00\", \"2021-05-06T00:00:00\", \"2021-05-05T00:00:00\", \"2021-05-04T00:00:00\", \"2021-05-03T00:00:00\", \"2021-04-30T00:00:00\", \"2021-04-29T00:00:00\", \"2021-04-28T00:00:00\", \"2021-04-27T00:00:00\", \"2021-04-26T00:00:00\", \"2021-04-23T00:00:00\", \"2021-04-22T00:00:00\", \"2021-04-21T00:00:00\", \"2021-04-20T00:00:00\", \"2021-04-19T00:00:00\", \"2021-04-16T00:00:00\", \"2021-04-15T00:00:00\", \"2021-04-14T00:00:00\", \"2021-04-13T00:00:00\", \"2021-04-12T00:00:00\", \"2021-04-09T00:00:00\", \"2021-04-08T00:00:00\", \"2021-04-07T00:00:00\", \"2021-04-06T00:00:00\", \"2021-04-05T00:00:00\", \"2021-04-01T00:00:00\", \"2021-03-31T00:00:00\", \"2021-03-30T00:00:00\", \"2021-03-29T00:00:00\", \"2021-03-26T00:00:00\", \"2021-03-25T00:00:00\", \"2021-03-24T00:00:00\", \"2021-03-23T00:00:00\", \"2021-03-22T00:00:00\", \"2021-03-19T00:00:00\", \"2021-03-18T00:00:00\", \"2021-03-17T00:00:00\", \"2021-03-16T00:00:00\", \"2021-03-15T00:00:00\", \"2021-03-12T00:00:00\", \"2021-03-11T00:00:00\", \"2021-03-10T00:00:00\", \"2021-03-09T00:00:00\", \"2021-03-08T00:00:00\", \"2021-03-05T00:00:00\", \"2021-03-04T00:00:00\", \"2021-03-03T00:00:00\", \"2021-03-02T00:00:00\", \"2021-03-01T00:00:00\", \"2021-02-26T00:00:00\", \"2021-02-25T00:00:00\", \"2021-02-24T00:00:00\", \"2021-02-23T00:00:00\", \"2021-02-22T00:00:00\", \"2021-02-19T00:00:00\", \"2021-02-18T00:00:00\", \"2021-02-17T00:00:00\", \"2021-02-16T00:00:00\", \"2021-02-12T00:00:00\", \"2021-02-11T00:00:00\", \"2021-02-10T00:00:00\", \"2021-02-09T00:00:00\", \"2021-02-08T00:00:00\", \"2021-02-05T00:00:00\", \"2021-02-04T00:00:00\", \"2021-02-03T00:00:00\", \"2021-02-02T00:00:00\", \"2021-02-01T00:00:00\", \"2021-01-29T00:00:00\", \"2021-01-28T00:00:00\", \"2021-01-27T00:00:00\", \"2021-01-26T00:00:00\", \"2021-01-25T00:00:00\", \"2021-01-22T00:00:00\", \"2021-01-21T00:00:00\", \"2021-01-20T00:00:00\", \"2021-01-19T00:00:00\", \"2021-01-15T00:00:00\", \"2021-01-14T00:00:00\", \"2021-01-13T00:00:00\", \"2021-01-12T00:00:00\", \"2021-01-11T00:00:00\", \"2021-01-08T00:00:00\", \"2021-01-07T00:00:00\", \"2021-01-06T00:00:00\", \"2021-01-05T00:00:00\", \"2021-01-04T00:00:00\", \"2020-12-31T00:00:00\", \"2020-12-30T00:00:00\", \"2020-12-29T00:00:00\", \"2020-12-28T00:00:00\", \"2020-12-24T00:00:00\", \"2020-12-23T00:00:00\", \"2020-12-22T00:00:00\", \"2020-12-21T00:00:00\", \"2020-12-18T00:00:00\", \"2020-12-17T00:00:00\", \"2020-12-16T00:00:00\", \"2020-12-15T00:00:00\", \"2020-12-14T00:00:00\", \"2020-12-11T00:00:00\", \"2020-12-10T00:00:00\", \"2020-12-09T00:00:00\", \"2020-12-08T00:00:00\", \"2020-12-07T00:00:00\", \"2020-12-04T00:00:00\", \"2020-12-03T00:00:00\", \"2020-12-02T00:00:00\", \"2020-12-01T00:00:00\", \"2020-11-30T00:00:00\", \"2020-11-27T00:00:00\", \"2020-11-25T00:00:00\", \"2020-11-24T00:00:00\", \"2020-11-23T00:00:00\", \"2020-11-20T00:00:00\", \"2020-11-19T00:00:00\", \"2020-11-18T00:00:00\", \"2020-11-17T00:00:00\", \"2020-11-16T00:00:00\", \"2020-11-13T00:00:00\", \"2020-11-12T00:00:00\", \"2020-11-11T00:00:00\", \"2020-11-10T00:00:00\", \"2020-11-09T00:00:00\", \"2020-11-06T00:00:00\", \"2020-11-05T00:00:00\", \"2020-11-04T00:00:00\", \"2020-11-03T00:00:00\", \"2020-11-02T00:00:00\", \"2020-10-30T00:00:00\", \"2020-10-29T00:00:00\", \"2020-10-28T00:00:00\", \"2020-10-27T00:00:00\", \"2020-10-26T00:00:00\", \"2020-10-23T00:00:00\", \"2020-10-22T00:00:00\", \"2020-10-21T00:00:00\", \"2020-10-20T00:00:00\", \"2020-10-19T00:00:00\", \"2020-10-16T00:00:00\", \"2020-10-15T00:00:00\", \"2020-10-14T00:00:00\", \"2020-10-13T00:00:00\", \"2020-10-12T00:00:00\", \"2020-10-09T00:00:00\", \"2020-10-08T00:00:00\", \"2020-10-07T00:00:00\", \"2020-10-06T00:00:00\", \"2020-10-05T00:00:00\", \"2020-10-02T00:00:00\", \"2020-10-01T00:00:00\", \"2020-09-30T00:00:00\", \"2020-09-29T00:00:00\", \"2020-09-28T00:00:00\", \"2020-09-25T00:00:00\", \"2020-09-24T00:00:00\", \"2020-09-23T00:00:00\", \"2020-09-22T00:00:00\", \"2020-09-21T00:00:00\", \"2020-09-18T00:00:00\", \"2020-09-17T00:00:00\", \"2020-09-16T00:00:00\", \"2020-09-15T00:00:00\", \"2020-09-14T00:00:00\", \"2020-09-11T00:00:00\", \"2020-09-10T00:00:00\", \"2020-09-09T00:00:00\", \"2020-09-08T00:00:00\", \"2020-09-04T00:00:00\", \"2020-09-03T00:00:00\", \"2020-09-02T00:00:00\", \"2020-09-01T00:00:00\", \"2020-08-31T00:00:00\", \"2020-08-28T00:00:00\", \"2020-08-27T00:00:00\", \"2020-08-26T00:00:00\", \"2020-08-25T00:00:00\", \"2020-08-24T00:00:00\", \"2020-08-21T00:00:00\", \"2020-08-20T00:00:00\", \"2020-08-19T00:00:00\", \"2020-08-18T00:00:00\", \"2020-08-17T00:00:00\", \"2020-08-14T00:00:00\", \"2020-08-13T00:00:00\", \"2020-08-12T00:00:00\", \"2020-08-11T00:00:00\", \"2020-08-10T00:00:00\", \"2020-08-07T00:00:00\", \"2020-08-06T00:00:00\", \"2020-08-05T00:00:00\", \"2020-08-04T00:00:00\", \"2020-08-03T00:00:00\", \"2020-07-31T00:00:00\", \"2020-07-30T00:00:00\", \"2020-07-29T00:00:00\", \"2020-07-28T00:00:00\", \"2020-07-27T00:00:00\", \"2020-07-24T00:00:00\", \"2020-07-23T00:00:00\", \"2020-07-22T00:00:00\", \"2020-07-21T00:00:00\", \"2020-07-20T00:00:00\", \"2020-07-17T00:00:00\", \"2020-07-16T00:00:00\", \"2020-07-15T00:00:00\", \"2020-07-14T00:00:00\", \"2020-07-13T00:00:00\", \"2020-07-10T00:00:00\", \"2020-07-09T00:00:00\", \"2020-07-08T00:00:00\", \"2020-07-07T00:00:00\", \"2020-07-06T00:00:00\", \"2020-07-02T00:00:00\", \"2020-07-01T00:00:00\", \"2020-06-30T00:00:00\", \"2020-06-29T00:00:00\", \"2020-06-26T00:00:00\", \"2020-06-25T00:00:00\", \"2020-06-24T00:00:00\", \"2020-06-23T00:00:00\", \"2020-06-22T00:00:00\", \"2020-06-19T00:00:00\", \"2020-06-18T00:00:00\", \"2020-06-17T00:00:00\", \"2020-06-16T00:00:00\", \"2020-06-15T00:00:00\", \"2020-06-12T00:00:00\", \"2020-06-11T00:00:00\", \"2020-06-10T00:00:00\", \"2020-06-09T00:00:00\", \"2020-06-08T00:00:00\", \"2020-06-05T00:00:00\", \"2020-06-04T00:00:00\", \"2020-06-03T00:00:00\", \"2020-06-02T00:00:00\", \"2020-06-01T00:00:00\", \"2020-05-29T00:00:00\", \"2020-05-28T00:00:00\", \"2020-05-27T00:00:00\", \"2020-05-26T00:00:00\", \"2020-05-22T00:00:00\", \"2020-05-21T00:00:00\", \"2020-05-20T00:00:00\", \"2020-05-19T00:00:00\", \"2020-05-18T00:00:00\", \"2020-05-15T00:00:00\", \"2020-05-14T00:00:00\", \"2020-05-13T00:00:00\", \"2020-05-12T00:00:00\", \"2020-05-11T00:00:00\", \"2020-05-08T00:00:00\", \"2020-05-07T00:00:00\", \"2020-05-06T00:00:00\", \"2020-05-05T00:00:00\", \"2020-05-04T00:00:00\", \"2020-05-01T00:00:00\", \"2020-04-30T00:00:00\", \"2020-04-29T00:00:00\", \"2020-04-28T00:00:00\", \"2020-04-27T00:00:00\", \"2020-04-24T00:00:00\", \"2020-04-23T00:00:00\", \"2020-04-22T00:00:00\", \"2020-04-21T00:00:00\", \"2020-04-20T00:00:00\", \"2020-04-17T00:00:00\", \"2020-04-16T00:00:00\", \"2020-04-15T00:00:00\", \"2020-04-14T00:00:00\", \"2020-04-13T00:00:00\", \"2020-04-09T00:00:00\", \"2020-04-08T00:00:00\", \"2020-04-07T00:00:00\", \"2020-04-06T00:00:00\", \"2020-04-03T00:00:00\", \"2020-04-02T00:00:00\", \"2020-04-01T00:00:00\", \"2020-03-31T00:00:00\", \"2020-03-30T00:00:00\", \"2020-03-27T00:00:00\", \"2020-03-26T00:00:00\", \"2020-03-25T00:00:00\", \"2020-03-24T00:00:00\", \"2020-03-23T00:00:00\", \"2020-03-20T00:00:00\", \"2020-03-19T00:00:00\", \"2020-03-18T00:00:00\", \"2020-03-17T00:00:00\", \"2020-03-16T00:00:00\", \"2020-03-13T00:00:00\", \"2020-03-12T00:00:00\", \"2020-03-11T00:00:00\", \"2020-03-10T00:00:00\", \"2020-03-09T00:00:00\", \"2020-03-06T00:00:00\", \"2020-03-05T00:00:00\", \"2020-03-04T00:00:00\", \"2020-03-03T00:00:00\", \"2020-03-02T00:00:00\", \"2020-02-28T00:00:00\", \"2020-02-27T00:00:00\", \"2020-02-26T00:00:00\", \"2020-02-25T00:00:00\", \"2020-02-24T00:00:00\", \"2020-02-21T00:00:00\", \"2020-02-20T00:00:00\", \"2020-02-19T00:00:00\", \"2020-02-18T00:00:00\", \"2020-02-14T00:00:00\", \"2020-02-13T00:00:00\", \"2020-02-12T00:00:00\", \"2020-02-11T00:00:00\", \"2020-02-10T00:00:00\", \"2020-02-07T00:00:00\", \"2020-02-06T00:00:00\", \"2020-02-05T00:00:00\", \"2020-02-04T00:00:00\", \"2020-02-03T00:00:00\", \"2020-01-31T00:00:00\", \"2020-01-30T00:00:00\", \"2020-01-29T00:00:00\", \"2020-01-28T00:00:00\", \"2020-01-27T00:00:00\", \"2020-01-24T00:00:00\", \"2020-01-23T00:00:00\", \"2020-01-22T00:00:00\", \"2020-01-21T00:00:00\", \"2020-01-17T00:00:00\", \"2020-01-16T00:00:00\", \"2020-01-15T00:00:00\", \"2020-01-14T00:00:00\", \"2020-01-13T00:00:00\", \"2020-01-10T00:00:00\", \"2020-01-09T00:00:00\", \"2020-01-08T00:00:00\", \"2020-01-07T00:00:00\", \"2020-01-06T00:00:00\", \"2020-01-03T00:00:00\", \"2020-01-02T00:00:00\", \"2019-12-31T00:00:00\", \"2019-12-30T00:00:00\", \"2019-12-27T00:00:00\", \"2019-12-26T00:00:00\", \"2019-12-24T00:00:00\", \"2019-12-23T00:00:00\", \"2019-12-20T00:00:00\", \"2019-12-19T00:00:00\", \"2019-12-18T00:00:00\", \"2019-12-17T00:00:00\", \"2019-12-16T00:00:00\", \"2019-12-13T00:00:00\", \"2019-12-12T00:00:00\", \"2019-12-11T00:00:00\", \"2019-12-10T00:00:00\", \"2019-12-09T00:00:00\", \"2019-12-06T00:00:00\", \"2019-12-05T00:00:00\", \"2019-12-04T00:00:00\", \"2019-12-03T00:00:00\", \"2019-12-02T00:00:00\", \"2019-11-29T00:00:00\", \"2019-11-27T00:00:00\", \"2019-11-26T00:00:00\", \"2019-11-25T00:00:00\", \"2019-11-22T00:00:00\", \"2019-11-21T00:00:00\", \"2019-11-20T00:00:00\", \"2019-11-19T00:00:00\", \"2019-11-18T00:00:00\", \"2019-11-15T00:00:00\", \"2019-11-14T00:00:00\", \"2019-11-13T00:00:00\", \"2019-11-12T00:00:00\", \"2019-11-11T00:00:00\", \"2019-11-08T00:00:00\", \"2019-11-07T00:00:00\", \"2019-11-06T00:00:00\", \"2019-11-05T00:00:00\", \"2019-11-04T00:00:00\", \"2019-11-01T00:00:00\", \"2019-10-31T00:00:00\", \"2019-10-30T00:00:00\", \"2019-10-29T00:00:00\", \"2019-10-28T00:00:00\", \"2019-10-25T00:00:00\", \"2019-10-24T00:00:00\", \"2019-10-23T00:00:00\", \"2019-10-22T00:00:00\", \"2019-10-21T00:00:00\", \"2019-10-18T00:00:00\", \"2019-10-17T00:00:00\", \"2019-10-16T00:00:00\", \"2019-10-15T00:00:00\", \"2019-10-14T00:00:00\", \"2019-10-11T00:00:00\", \"2019-10-10T00:00:00\", \"2019-10-09T00:00:00\", \"2019-10-08T00:00:00\", \"2019-10-07T00:00:00\", \"2019-10-04T00:00:00\", \"2019-10-03T00:00:00\", \"2019-10-02T00:00:00\", \"2019-10-01T00:00:00\", \"2019-09-30T00:00:00\", \"2019-09-27T00:00:00\", \"2019-09-26T00:00:00\", \"2019-09-25T00:00:00\", \"2019-09-24T00:00:00\", \"2019-09-23T00:00:00\", \"2019-09-20T00:00:00\", \"2019-09-19T00:00:00\", \"2019-09-18T00:00:00\", \"2019-09-17T00:00:00\", \"2019-09-16T00:00:00\", \"2019-09-13T00:00:00\", \"2019-09-12T00:00:00\", \"2019-09-11T00:00:00\", \"2019-09-10T00:00:00\", \"2019-09-09T00:00:00\", \"2019-09-06T00:00:00\", \"2019-09-05T00:00:00\", \"2019-09-04T00:00:00\", \"2019-09-03T00:00:00\", \"2019-08-30T00:00:00\", \"2019-08-29T00:00:00\", \"2019-08-28T00:00:00\", \"2019-08-27T00:00:00\", \"2019-08-26T00:00:00\", \"2019-08-23T00:00:00\", \"2019-08-22T00:00:00\", \"2019-08-21T00:00:00\", \"2019-08-20T00:00:00\", \"2019-08-19T00:00:00\", \"2019-08-16T00:00:00\", \"2019-08-15T00:00:00\", \"2019-08-14T00:00:00\", \"2019-08-13T00:00:00\", \"2019-08-12T00:00:00\", \"2019-08-09T00:00:00\", \"2019-08-08T00:00:00\", \"2019-08-07T00:00:00\", \"2019-08-06T00:00:00\", \"2019-08-05T00:00:00\", \"2019-08-02T00:00:00\", \"2019-08-01T00:00:00\", \"2019-07-31T00:00:00\", \"2019-07-30T00:00:00\", \"2019-07-29T00:00:00\", \"2019-07-26T00:00:00\", \"2019-07-25T00:00:00\", \"2019-07-24T00:00:00\", \"2019-07-23T00:00:00\", \"2019-07-22T00:00:00\", \"2019-07-19T00:00:00\", \"2019-07-18T00:00:00\", \"2019-07-17T00:00:00\", \"2019-07-16T00:00:00\", \"2019-07-15T00:00:00\", \"2019-07-12T00:00:00\", \"2019-07-11T00:00:00\", \"2019-07-10T00:00:00\", \"2019-07-09T00:00:00\", \"2019-07-08T00:00:00\", \"2019-07-05T00:00:00\", \"2019-07-03T00:00:00\", \"2019-07-02T00:00:00\", \"2019-07-01T00:00:00\", \"2019-06-28T00:00:00\", \"2019-06-27T00:00:00\", \"2019-06-26T00:00:00\", \"2019-06-25T00:00:00\", \"2019-06-24T00:00:00\", \"2019-06-21T00:00:00\", \"2019-06-20T00:00:00\", \"2019-06-19T00:00:00\", \"2019-06-18T00:00:00\", \"2019-06-17T00:00:00\", \"2019-06-14T00:00:00\", \"2019-06-13T00:00:00\", \"2019-06-12T00:00:00\", \"2019-06-11T00:00:00\", \"2019-06-10T00:00:00\", \"2019-06-07T00:00:00\", \"2019-06-06T00:00:00\", \"2019-06-05T00:00:00\", \"2019-06-04T00:00:00\", \"2019-06-03T00:00:00\", \"2019-05-31T00:00:00\", \"2019-05-30T00:00:00\", \"2019-05-29T00:00:00\", \"2019-05-28T00:00:00\", \"2019-05-24T00:00:00\", \"2019-05-23T00:00:00\", \"2019-05-22T00:00:00\", \"2019-05-21T00:00:00\", \"2019-05-20T00:00:00\", \"2019-05-17T00:00:00\", \"2019-05-16T00:00:00\", \"2019-05-15T00:00:00\", \"2019-05-14T00:00:00\", \"2019-05-13T00:00:00\", \"2019-05-10T00:00:00\", \"2019-05-09T00:00:00\", \"2019-05-08T00:00:00\", \"2019-05-07T00:00:00\", \"2019-05-06T00:00:00\", \"2019-05-03T00:00:00\", \"2019-05-02T00:00:00\", \"2019-05-01T00:00:00\", \"2019-04-30T00:00:00\", \"2019-04-29T00:00:00\", \"2019-04-26T00:00:00\", \"2019-04-25T00:00:00\", \"2019-04-24T00:00:00\", \"2019-04-23T00:00:00\", \"2019-04-22T00:00:00\", \"2019-04-18T00:00:00\", \"2019-04-17T00:00:00\", \"2019-04-16T00:00:00\", \"2019-04-15T00:00:00\", \"2019-04-12T00:00:00\", \"2019-04-11T00:00:00\", \"2019-04-10T00:00:00\", \"2019-04-09T00:00:00\", \"2019-04-08T00:00:00\", \"2019-04-05T00:00:00\", \"2019-04-04T00:00:00\", \"2019-04-03T00:00:00\", \"2019-04-02T00:00:00\", \"2019-04-01T00:00:00\", \"2019-03-29T00:00:00\", \"2019-03-28T00:00:00\", \"2019-03-27T00:00:00\", \"2019-03-26T00:00:00\", \"2019-03-25T00:00:00\", \"2019-03-22T00:00:00\", \"2019-03-21T00:00:00\", \"2019-03-20T00:00:00\", \"2019-03-19T00:00:00\", \"2019-03-18T00:00:00\", \"2019-03-15T00:00:00\", \"2019-03-14T00:00:00\", \"2019-03-13T00:00:00\", \"2019-03-12T00:00:00\", \"2019-03-11T00:00:00\", \"2019-03-08T00:00:00\", \"2019-03-07T00:00:00\", \"2019-03-06T00:00:00\", \"2019-03-05T00:00:00\", \"2019-03-04T00:00:00\", \"2019-03-01T00:00:00\", \"2019-02-28T00:00:00\", \"2019-02-27T00:00:00\", \"2019-02-26T00:00:00\", \"2019-02-25T00:00:00\", \"2019-02-22T00:00:00\", \"2019-02-21T00:00:00\", \"2019-02-20T00:00:00\", \"2019-02-19T00:00:00\", \"2019-02-15T00:00:00\", \"2019-02-14T00:00:00\", \"2019-02-13T00:00:00\", \"2019-02-12T00:00:00\", \"2019-02-11T00:00:00\", \"2019-02-08T00:00:00\", \"2019-02-07T00:00:00\", \"2019-02-06T00:00:00\", \"2019-02-05T00:00:00\", \"2019-02-04T00:00:00\", \"2019-02-01T00:00:00\", \"2019-01-31T00:00:00\", \"2019-01-30T00:00:00\", \"2019-01-29T00:00:00\", \"2019-01-28T00:00:00\", \"2019-01-25T00:00:00\", \"2019-01-24T00:00:00\", \"2019-01-23T00:00:00\", \"2019-01-22T00:00:00\", \"2019-01-18T00:00:00\", \"2019-01-17T00:00:00\", \"2019-01-16T00:00:00\", \"2019-01-15T00:00:00\", \"2019-01-14T00:00:00\", \"2019-01-11T00:00:00\", \"2019-01-10T00:00:00\", \"2019-01-09T00:00:00\", \"2019-01-08T00:00:00\", \"2019-01-07T00:00:00\", \"2019-01-04T00:00:00\", \"2019-01-03T00:00:00\", \"2019-01-02T00:00:00\", \"2018-12-31T00:00:00\", \"2018-12-28T00:00:00\", \"2018-12-27T00:00:00\", \"2018-12-26T00:00:00\", \"2018-12-24T00:00:00\", \"2018-12-21T00:00:00\", \"2018-12-20T00:00:00\", \"2018-12-19T00:00:00\", \"2018-12-18T00:00:00\", \"2018-12-17T00:00:00\", \"2018-12-14T00:00:00\", \"2018-12-13T00:00:00\", \"2018-12-12T00:00:00\", \"2018-12-11T00:00:00\", \"2018-12-10T00:00:00\", \"2018-12-07T00:00:00\", \"2018-12-06T00:00:00\", \"2018-12-04T00:00:00\", \"2018-12-03T00:00:00\", \"2018-11-30T00:00:00\", \"2018-11-29T00:00:00\", \"2018-11-28T00:00:00\", \"2018-11-27T00:00:00\", \"2018-11-26T00:00:00\", \"2018-11-23T00:00:00\", \"2018-11-21T00:00:00\", \"2018-11-20T00:00:00\", \"2018-11-19T00:00:00\", \"2018-11-16T00:00:00\", \"2018-11-15T00:00:00\", \"2018-11-14T00:00:00\", \"2018-11-13T00:00:00\", \"2018-11-12T00:00:00\", \"2018-11-09T00:00:00\", \"2018-11-08T00:00:00\", \"2018-11-07T00:00:00\", \"2018-11-06T00:00:00\", \"2018-11-05T00:00:00\", \"2018-11-02T00:00:00\", \"2018-11-01T00:00:00\", \"2018-10-31T00:00:00\", \"2018-10-30T00:00:00\", \"2018-10-29T00:00:00\", \"2018-10-26T00:00:00\", \"2018-10-25T00:00:00\", \"2018-10-24T00:00:00\", \"2018-10-23T00:00:00\", \"2018-10-22T00:00:00\", \"2018-10-19T00:00:00\", \"2018-10-18T00:00:00\", \"2018-10-17T00:00:00\", \"2018-10-16T00:00:00\", \"2018-10-15T00:00:00\", \"2018-10-12T00:00:00\", \"2018-10-11T00:00:00\", \"2018-10-10T00:00:00\", \"2018-10-09T00:00:00\", \"2018-10-08T00:00:00\", \"2018-10-05T00:00:00\", \"2018-10-04T00:00:00\", \"2018-10-03T00:00:00\", \"2018-10-02T00:00:00\", \"2018-10-01T00:00:00\", \"2018-09-28T00:00:00\", \"2018-09-27T00:00:00\", \"2018-09-26T00:00:00\", \"2018-09-25T00:00:00\", \"2018-09-24T00:00:00\", \"2018-09-21T00:00:00\", \"2018-09-20T00:00:00\", \"2018-09-19T00:00:00\", \"2018-09-18T00:00:00\", \"2018-09-17T00:00:00\", \"2018-09-14T00:00:00\", \"2018-09-13T00:00:00\", \"2018-09-12T00:00:00\", \"2018-09-11T00:00:00\", \"2018-09-10T00:00:00\", \"2018-09-07T00:00:00\", \"2018-09-06T00:00:00\", \"2018-09-05T00:00:00\", \"2018-09-04T00:00:00\", \"2018-08-31T00:00:00\", \"2018-08-30T00:00:00\", \"2018-08-29T00:00:00\", \"2018-08-28T00:00:00\", \"2018-08-27T00:00:00\", \"2018-08-24T00:00:00\", \"2018-08-23T00:00:00\", \"2018-08-22T00:00:00\", \"2018-08-21T00:00:00\", \"2018-08-20T00:00:00\", \"2018-08-17T00:00:00\", \"2018-08-16T00:00:00\", \"2018-08-15T00:00:00\", \"2018-08-14T00:00:00\", \"2018-08-13T00:00:00\", \"2018-08-10T00:00:00\", \"2018-08-09T00:00:00\", \"2018-08-08T00:00:00\", \"2018-08-07T00:00:00\", \"2018-08-06T00:00:00\", \"2018-08-03T00:00:00\", \"2018-08-02T00:00:00\", \"2018-08-01T00:00:00\", \"2018-07-31T00:00:00\", \"2018-07-30T00:00:00\", \"2018-07-27T00:00:00\", \"2018-07-26T00:00:00\", \"2018-07-25T00:00:00\", \"2018-07-24T00:00:00\", \"2018-07-23T00:00:00\", \"2018-07-20T00:00:00\", \"2018-07-19T00:00:00\", \"2018-07-18T00:00:00\", \"2018-07-17T00:00:00\", \"2018-07-16T00:00:00\", \"2018-07-13T00:00:00\", \"2018-07-12T00:00:00\", \"2018-07-11T00:00:00\", \"2018-07-10T00:00:00\", \"2018-07-09T00:00:00\", \"2018-07-06T00:00:00\", \"2018-07-05T00:00:00\", \"2018-07-03T00:00:00\", \"2018-07-02T00:00:00\", \"2018-06-29T00:00:00\", \"2018-06-28T00:00:00\", \"2018-06-27T00:00:00\", \"2018-06-26T00:00:00\", \"2018-06-25T00:00:00\", \"2018-06-22T00:00:00\", \"2018-06-21T00:00:00\", \"2018-06-20T00:00:00\", \"2018-06-19T00:00:00\", \"2018-06-18T00:00:00\", \"2018-06-15T00:00:00\", \"2018-06-14T00:00:00\", \"2018-06-13T00:00:00\", \"2018-06-12T00:00:00\", \"2018-06-11T00:00:00\", \"2018-06-08T00:00:00\", \"2018-06-07T00:00:00\", \"2018-06-06T00:00:00\", \"2018-06-05T00:00:00\", \"2018-06-04T00:00:00\", \"2018-06-01T00:00:00\", \"2018-05-31T00:00:00\", \"2018-05-30T00:00:00\", \"2018-05-29T00:00:00\", \"2018-05-25T00:00:00\", \"2018-05-24T00:00:00\", \"2018-05-23T00:00:00\", \"2018-05-22T00:00:00\", \"2018-05-21T00:00:00\", \"2018-05-18T00:00:00\", \"2018-05-17T00:00:00\", \"2018-05-16T00:00:00\", \"2018-05-15T00:00:00\", \"2018-05-14T00:00:00\", \"2018-05-11T00:00:00\", \"2018-05-10T00:00:00\", \"2018-05-09T00:00:00\", \"2018-05-08T00:00:00\", \"2018-05-07T00:00:00\", \"2018-05-04T00:00:00\", \"2018-05-03T00:00:00\", \"2018-05-02T00:00:00\", \"2018-05-01T00:00:00\", \"2018-04-30T00:00:00\", \"2018-04-27T00:00:00\", \"2018-04-26T00:00:00\", \"2018-04-25T00:00:00\", \"2018-04-24T00:00:00\", \"2018-04-23T00:00:00\", \"2018-04-20T00:00:00\", \"2018-04-19T00:00:00\", \"2018-04-18T00:00:00\", \"2018-04-17T00:00:00\", \"2018-04-16T00:00:00\", \"2018-04-13T00:00:00\", \"2018-04-12T00:00:00\", \"2018-04-11T00:00:00\", \"2018-04-10T00:00:00\", \"2018-04-09T00:00:00\", \"2018-04-06T00:00:00\", \"2018-04-05T00:00:00\", \"2018-04-04T00:00:00\", \"2018-04-03T00:00:00\", \"2018-04-02T00:00:00\", \"2018-03-29T00:00:00\", \"2018-03-28T00:00:00\", \"2018-03-27T00:00:00\", \"2018-03-26T00:00:00\", \"2018-03-23T00:00:00\", \"2018-03-22T00:00:00\", \"2018-03-21T00:00:00\", \"2018-03-20T00:00:00\", \"2018-03-19T00:00:00\", \"2018-03-16T00:00:00\", \"2018-03-15T00:00:00\", \"2018-03-14T00:00:00\", \"2018-03-13T00:00:00\", \"2018-03-12T00:00:00\", \"2018-03-09T00:00:00\", \"2018-03-08T00:00:00\", \"2018-03-07T00:00:00\", \"2018-03-06T00:00:00\", \"2018-03-05T00:00:00\", \"2018-03-02T00:00:00\", \"2018-03-01T00:00:00\", \"2018-02-28T00:00:00\", \"2018-02-27T00:00:00\", \"2018-02-26T00:00:00\", \"2018-02-23T00:00:00\", \"2018-02-22T00:00:00\", \"2018-02-21T00:00:00\", \"2018-02-20T00:00:00\", \"2018-02-16T00:00:00\", \"2018-02-15T00:00:00\", \"2018-02-14T00:00:00\", \"2018-02-13T00:00:00\", \"2018-02-12T00:00:00\", \"2018-02-09T00:00:00\", \"2018-02-08T00:00:00\", \"2018-02-07T00:00:00\", \"2018-02-06T00:00:00\", \"2018-02-05T00:00:00\", \"2018-02-02T00:00:00\", \"2018-02-01T00:00:00\", \"2018-01-31T00:00:00\", \"2018-01-30T00:00:00\", \"2018-01-29T00:00:00\", \"2018-01-26T00:00:00\", \"2018-01-25T00:00:00\", \"2018-01-24T00:00:00\", \"2018-01-23T00:00:00\", \"2018-01-22T00:00:00\", \"2018-01-19T00:00:00\", \"2018-01-18T00:00:00\", \"2018-01-17T00:00:00\", \"2018-01-16T00:00:00\", \"2018-01-12T00:00:00\", \"2018-01-11T00:00:00\", \"2018-01-10T00:00:00\", \"2018-01-09T00:00:00\", \"2018-01-08T00:00:00\", \"2018-01-05T00:00:00\", \"2018-01-04T00:00:00\", \"2018-01-03T00:00:00\", \"2018-01-02T00:00:00\", \"2017-12-29T00:00:00\", \"2017-12-28T00:00:00\", \"2017-12-27T00:00:00\", \"2017-12-26T00:00:00\", \"2017-12-22T00:00:00\", \"2017-12-21T00:00:00\", \"2017-12-20T00:00:00\", \"2017-12-19T00:00:00\", \"2017-12-18T00:00:00\", \"2017-12-15T00:00:00\", \"2017-12-14T00:00:00\", \"2017-12-13T00:00:00\", \"2017-12-12T00:00:00\", \"2017-12-11T00:00:00\", \"2017-12-08T00:00:00\", \"2017-12-07T00:00:00\", \"2017-12-06T00:00:00\", \"2017-12-05T00:00:00\", \"2017-12-04T00:00:00\", \"2017-12-01T00:00:00\", \"2017-11-30T00:00:00\", \"2017-11-29T00:00:00\", \"2017-11-28T00:00:00\", \"2017-11-27T00:00:00\", \"2017-11-24T00:00:00\", \"2017-11-22T00:00:00\", \"2017-11-21T00:00:00\", \"2017-11-20T00:00:00\", \"2017-11-17T00:00:00\", \"2017-11-16T00:00:00\", \"2017-11-15T00:00:00\", \"2017-11-14T00:00:00\", \"2017-11-13T00:00:00\", \"2017-11-10T00:00:00\", \"2017-11-09T00:00:00\", \"2017-11-08T00:00:00\", \"2017-11-07T00:00:00\", \"2017-11-06T00:00:00\", \"2017-11-03T00:00:00\", \"2017-11-02T00:00:00\", \"2017-11-01T00:00:00\", \"2017-10-31T00:00:00\", \"2017-10-30T00:00:00\", \"2017-10-27T00:00:00\", \"2017-10-26T00:00:00\", \"2017-10-25T00:00:00\", \"2017-10-24T00:00:00\", \"2017-10-23T00:00:00\", \"2017-10-20T00:00:00\", \"2017-10-19T00:00:00\", \"2017-10-18T00:00:00\", \"2017-10-17T00:00:00\", \"2017-10-16T00:00:00\", \"2017-10-13T00:00:00\", \"2017-10-12T00:00:00\", \"2017-10-11T00:00:00\", \"2017-10-10T00:00:00\", \"2017-10-09T00:00:00\", \"2017-10-06T00:00:00\", \"2017-10-05T00:00:00\", \"2017-10-04T00:00:00\", \"2017-10-03T00:00:00\", \"2017-10-02T00:00:00\", \"2017-09-29T00:00:00\", \"2017-09-28T00:00:00\", \"2017-09-27T00:00:00\", \"2017-09-26T00:00:00\", \"2017-09-25T00:00:00\", \"2017-09-22T00:00:00\", \"2017-09-21T00:00:00\", \"2017-09-20T00:00:00\", \"2017-09-19T00:00:00\", \"2017-09-18T00:00:00\", \"2017-09-15T00:00:00\", \"2017-09-14T00:00:00\", \"2017-09-13T00:00:00\", \"2017-09-12T00:00:00\", \"2017-09-11T00:00:00\", \"2017-09-08T00:00:00\", \"2017-09-07T00:00:00\", \"2017-09-06T00:00:00\", \"2017-09-05T00:00:00\", \"2017-09-01T00:00:00\", \"2017-08-31T00:00:00\", \"2017-08-30T00:00:00\", \"2017-08-29T00:00:00\", \"2017-08-28T00:00:00\", \"2017-08-25T00:00:00\", \"2017-08-24T00:00:00\", \"2017-08-23T00:00:00\", \"2017-08-22T00:00:00\", \"2017-08-21T00:00:00\", \"2017-08-18T00:00:00\", \"2017-08-17T00:00:00\", \"2017-08-16T00:00:00\", \"2017-08-15T00:00:00\", \"2017-08-14T00:00:00\", \"2017-08-11T00:00:00\", \"2017-08-10T00:00:00\", \"2017-08-09T00:00:00\", \"2017-08-08T00:00:00\", \"2017-08-07T00:00:00\", \"2017-08-04T00:00:00\", \"2017-08-03T00:00:00\", \"2017-08-02T00:00:00\", \"2017-08-01T00:00:00\", \"2017-07-31T00:00:00\", \"2017-07-28T00:00:00\", \"2017-07-27T00:00:00\", \"2017-07-26T00:00:00\", \"2017-07-25T00:00:00\", \"2017-07-24T00:00:00\", \"2017-07-21T00:00:00\", \"2017-07-20T00:00:00\", \"2017-07-19T00:00:00\", \"2017-07-18T00:00:00\", \"2017-07-17T00:00:00\", \"2017-07-14T00:00:00\", \"2017-07-13T00:00:00\", \"2017-07-12T00:00:00\", \"2017-07-11T00:00:00\", \"2017-07-10T00:00:00\", \"2017-07-07T00:00:00\", \"2017-07-06T00:00:00\", \"2017-07-05T00:00:00\", \"2017-07-03T00:00:00\", \"2017-06-30T00:00:00\", \"2017-06-29T00:00:00\", \"2017-06-28T00:00:00\", \"2017-06-27T00:00:00\", \"2017-06-26T00:00:00\", \"2017-06-23T00:00:00\", \"2017-06-22T00:00:00\", \"2017-06-21T00:00:00\", \"2017-06-20T00:00:00\", \"2017-06-19T00:00:00\", \"2017-06-16T00:00:00\", \"2017-06-15T00:00:00\", \"2017-06-14T00:00:00\", \"2017-06-13T00:00:00\", \"2017-06-12T00:00:00\", \"2017-06-09T00:00:00\", \"2017-06-08T00:00:00\", \"2017-06-07T00:00:00\", \"2017-06-06T00:00:00\", \"2017-06-05T00:00:00\", \"2017-06-02T00:00:00\", \"2017-06-01T00:00:00\", \"2017-05-31T00:00:00\", \"2017-05-30T00:00:00\", \"2017-05-26T00:00:00\", \"2017-05-25T00:00:00\", \"2017-05-24T00:00:00\", \"2017-05-23T00:00:00\", \"2017-05-22T00:00:00\", \"2017-05-19T00:00:00\", \"2017-05-18T00:00:00\", \"2017-05-17T00:00:00\", \"2017-05-16T00:00:00\", \"2017-05-15T00:00:00\", \"2017-05-12T00:00:00\", \"2017-05-11T00:00:00\", \"2017-05-10T00:00:00\", \"2017-05-09T00:00:00\", \"2017-05-08T00:00:00\", \"2017-05-05T00:00:00\", \"2017-05-04T00:00:00\", \"2017-05-03T00:00:00\", \"2017-05-02T00:00:00\", \"2017-05-01T00:00:00\", \"2017-04-28T00:00:00\", \"2017-04-27T00:00:00\", \"2017-04-26T00:00:00\", \"2017-04-25T00:00:00\", \"2017-04-24T00:00:00\", \"2017-04-21T00:00:00\", \"2017-04-20T00:00:00\", \"2017-04-19T00:00:00\", \"2017-04-18T00:00:00\", \"2017-04-17T00:00:00\", \"2017-04-13T00:00:00\", \"2017-04-12T00:00:00\", \"2017-04-11T00:00:00\", \"2017-04-10T00:00:00\", \"2017-04-07T00:00:00\", \"2017-04-06T00:00:00\", \"2017-04-05T00:00:00\", \"2017-04-04T00:00:00\", \"2017-04-03T00:00:00\", \"2017-03-31T00:00:00\", \"2017-03-30T00:00:00\", \"2017-03-29T00:00:00\", \"2017-03-28T00:00:00\", \"2017-03-27T00:00:00\", \"2017-03-24T00:00:00\", \"2017-03-23T00:00:00\", \"2017-03-22T00:00:00\", \"2017-03-21T00:00:00\", \"2017-03-20T00:00:00\", \"2017-03-17T00:00:00\", \"2017-03-16T00:00:00\", \"2017-03-15T00:00:00\", \"2017-03-14T00:00:00\", \"2017-03-13T00:00:00\", \"2017-03-10T00:00:00\", \"2017-03-09T00:00:00\", \"2017-03-08T00:00:00\", \"2017-03-07T00:00:00\", \"2017-03-06T00:00:00\", \"2017-03-03T00:00:00\", \"2017-03-02T00:00:00\", \"2017-03-01T00:00:00\", \"2017-02-28T00:00:00\", \"2017-02-27T00:00:00\", \"2017-02-24T00:00:00\", \"2017-02-23T00:00:00\", \"2017-02-22T00:00:00\", \"2017-02-21T00:00:00\", \"2017-02-17T00:00:00\", \"2017-02-16T00:00:00\", \"2017-02-15T00:00:00\", \"2017-02-14T00:00:00\", \"2017-02-13T00:00:00\", \"2017-02-10T00:00:00\", \"2017-02-09T00:00:00\", \"2017-02-08T00:00:00\", \"2017-02-07T00:00:00\", \"2017-02-06T00:00:00\", \"2017-02-03T00:00:00\", \"2017-02-02T00:00:00\", \"2017-02-01T00:00:00\", \"2017-01-31T00:00:00\", \"2017-01-30T00:00:00\", \"2017-01-27T00:00:00\", \"2017-01-26T00:00:00\", \"2017-01-25T00:00:00\", \"2017-01-24T00:00:00\", \"2017-01-23T00:00:00\", \"2017-01-20T00:00:00\", \"2017-01-19T00:00:00\", \"2017-01-18T00:00:00\", \"2017-01-17T00:00:00\", \"2017-01-13T00:00:00\", \"2017-01-12T00:00:00\", \"2017-01-11T00:00:00\", \"2017-01-10T00:00:00\", \"2017-01-09T00:00:00\", \"2017-01-06T00:00:00\", \"2017-01-05T00:00:00\", \"2017-01-04T00:00:00\", \"2017-01-03T00:00:00\", \"2016-12-30T00:00:00\", \"2016-12-29T00:00:00\", \"2016-12-28T00:00:00\", \"2016-12-27T00:00:00\", \"2016-12-23T00:00:00\", \"2016-12-22T00:00:00\", \"2016-12-21T00:00:00\", \"2016-12-20T00:00:00\", \"2016-12-19T00:00:00\", \"2016-12-16T00:00:00\", \"2016-12-15T00:00:00\", \"2016-12-14T00:00:00\", \"2016-12-13T00:00:00\", \"2016-12-12T00:00:00\", \"2016-12-09T00:00:00\", \"2016-12-08T00:00:00\", \"2016-12-07T00:00:00\", \"2016-12-06T00:00:00\", \"2016-12-05T00:00:00\", \"2016-12-02T00:00:00\", \"2016-12-01T00:00:00\", \"2016-11-30T00:00:00\", \"2016-11-29T00:00:00\", \"2016-11-28T00:00:00\", \"2016-11-25T00:00:00\", \"2016-11-23T00:00:00\", \"2016-11-22T00:00:00\", \"2016-11-21T00:00:00\", \"2016-11-18T00:00:00\", \"2016-11-17T00:00:00\", \"2016-11-16T00:00:00\", \"2016-11-15T00:00:00\", \"2016-11-14T00:00:00\", \"2016-11-11T00:00:00\", \"2016-11-10T00:00:00\", \"2016-11-09T00:00:00\", \"2016-11-08T00:00:00\", \"2016-11-07T00:00:00\", \"2016-11-04T00:00:00\", \"2016-11-03T00:00:00\", \"2016-11-02T00:00:00\", \"2016-11-01T00:00:00\", \"2016-10-31T00:00:00\", \"2016-10-28T00:00:00\", \"2016-10-27T00:00:00\", \"2016-10-26T00:00:00\", \"2016-10-25T00:00:00\", \"2016-10-24T00:00:00\", \"2016-10-21T00:00:00\", \"2016-10-20T00:00:00\", \"2016-10-19T00:00:00\", \"2016-10-18T00:00:00\", \"2016-10-17T00:00:00\", \"2016-10-14T00:00:00\", \"2016-10-13T00:00:00\", \"2016-10-12T00:00:00\", \"2016-10-11T00:00:00\", \"2016-10-10T00:00:00\", \"2016-10-07T00:00:00\", \"2016-10-06T00:00:00\", \"2016-10-05T00:00:00\", \"2016-10-04T00:00:00\", \"2016-10-03T00:00:00\", \"2016-09-30T00:00:00\", \"2016-09-29T00:00:00\", \"2016-09-28T00:00:00\", \"2016-09-27T00:00:00\", \"2016-09-26T00:00:00\", \"2016-09-23T00:00:00\", \"2016-09-22T00:00:00\", \"2016-09-21T00:00:00\", \"2016-09-20T00:00:00\", \"2016-09-19T00:00:00\", \"2016-09-16T00:00:00\", \"2016-09-15T00:00:00\", \"2016-09-14T00:00:00\", \"2016-09-13T00:00:00\", \"2016-09-12T00:00:00\", \"2016-09-09T00:00:00\", \"2016-09-08T00:00:00\", \"2016-09-07T00:00:00\", \"2016-09-06T00:00:00\", \"2016-09-02T00:00:00\", \"2016-09-01T00:00:00\", \"2016-08-31T00:00:00\", \"2016-08-30T00:00:00\", \"2016-08-29T00:00:00\", \"2016-08-26T00:00:00\", \"2016-08-25T00:00:00\", \"2016-08-24T00:00:00\", \"2016-08-23T00:00:00\", \"2016-08-22T00:00:00\", \"2016-08-19T00:00:00\", \"2016-08-18T00:00:00\", \"2016-08-17T00:00:00\", \"2016-08-16T00:00:00\", \"2016-08-15T00:00:00\", \"2016-08-12T00:00:00\", \"2016-08-11T00:00:00\", \"2016-08-10T00:00:00\", \"2016-08-09T00:00:00\", \"2016-08-08T00:00:00\", \"2016-08-05T00:00:00\", \"2016-08-04T00:00:00\", \"2016-08-03T00:00:00\", \"2016-08-02T00:00:00\", \"2016-08-01T00:00:00\", \"2016-07-29T00:00:00\", \"2016-07-28T00:00:00\", \"2016-07-27T00:00:00\", \"2016-07-26T00:00:00\", \"2016-07-25T00:00:00\", \"2016-07-22T00:00:00\", \"2016-07-21T00:00:00\", \"2016-07-20T00:00:00\", \"2016-07-19T00:00:00\", \"2016-07-18T00:00:00\", \"2016-07-15T00:00:00\", \"2016-07-14T00:00:00\", \"2016-07-13T00:00:00\", \"2016-07-12T00:00:00\", \"2016-07-11T00:00:00\", \"2016-07-08T00:00:00\", \"2016-07-07T00:00:00\", \"2016-07-06T00:00:00\", \"2016-07-05T00:00:00\", \"2016-07-01T00:00:00\", \"2016-06-30T00:00:00\", \"2016-06-29T00:00:00\", \"2016-06-28T00:00:00\", \"2016-06-27T00:00:00\", \"2016-06-24T00:00:00\", \"2016-06-23T00:00:00\", \"2016-06-22T00:00:00\", \"2016-06-21T00:00:00\", \"2016-06-20T00:00:00\", \"2016-06-17T00:00:00\", \"2016-06-16T00:00:00\", \"2016-06-15T00:00:00\", \"2016-06-14T00:00:00\", \"2016-06-13T00:00:00\", \"2016-06-10T00:00:00\", \"2016-06-09T00:00:00\", \"2016-06-08T00:00:00\", \"2016-06-07T00:00:00\", \"2016-06-06T00:00:00\", \"2016-06-03T00:00:00\", \"2016-06-02T00:00:00\", \"2016-06-01T00:00:00\", \"2016-05-31T00:00:00\", \"2016-05-27T00:00:00\", \"2016-05-26T00:00:00\", \"2016-05-25T00:00:00\", \"2016-05-24T00:00:00\", \"2016-05-23T00:00:00\", \"2016-05-20T00:00:00\", \"2016-05-19T00:00:00\", \"2016-05-18T00:00:00\", \"2016-05-17T00:00:00\", \"2016-05-16T00:00:00\", \"2016-05-13T00:00:00\", \"2016-05-12T00:00:00\", \"2016-05-11T00:00:00\", \"2016-05-10T00:00:00\", \"2016-05-09T00:00:00\", \"2016-05-06T00:00:00\", \"2016-05-05T00:00:00\", \"2016-05-04T00:00:00\", \"2016-05-03T00:00:00\", \"2016-05-02T00:00:00\", \"2016-04-29T00:00:00\", \"2016-04-28T00:00:00\", \"2016-04-27T00:00:00\", \"2016-04-26T00:00:00\", \"2016-04-25T00:00:00\", \"2016-04-22T00:00:00\", \"2016-04-21T00:00:00\", \"2016-04-20T00:00:00\", \"2016-04-19T00:00:00\", \"2016-04-18T00:00:00\", \"2016-04-15T00:00:00\", \"2016-04-14T00:00:00\", \"2016-04-13T00:00:00\", \"2016-04-12T00:00:00\", \"2016-04-11T00:00:00\", \"2016-04-08T00:00:00\", \"2016-04-07T00:00:00\", \"2016-04-06T00:00:00\", \"2016-04-05T00:00:00\", \"2016-04-04T00:00:00\", \"2016-04-01T00:00:00\", \"2016-03-31T00:00:00\", \"2016-03-30T00:00:00\", \"2016-03-29T00:00:00\", \"2016-03-28T00:00:00\", \"2016-03-24T00:00:00\", \"2016-03-23T00:00:00\", \"2016-03-22T00:00:00\", \"2016-03-21T00:00:00\", \"2016-03-18T00:00:00\", \"2016-03-17T00:00:00\", \"2016-03-16T00:00:00\", \"2016-03-15T00:00:00\", \"2016-03-14T00:00:00\", \"2016-03-11T00:00:00\", \"2016-03-10T00:00:00\", \"2016-03-09T00:00:00\", \"2016-03-08T00:00:00\", \"2016-03-07T00:00:00\", \"2016-03-04T00:00:00\", \"2016-03-03T00:00:00\", \"2016-03-02T00:00:00\", \"2016-03-01T00:00:00\", \"2016-02-29T00:00:00\", \"2016-02-26T00:00:00\", \"2016-02-25T00:00:00\", \"2016-02-24T00:00:00\", \"2016-02-23T00:00:00\", \"2016-02-22T00:00:00\", \"2016-02-19T00:00:00\", \"2016-02-18T00:00:00\", \"2016-02-17T00:00:00\", \"2016-02-16T00:00:00\", \"2016-02-12T00:00:00\", \"2016-02-11T00:00:00\", \"2016-02-10T00:00:00\", \"2016-02-09T00:00:00\", \"2016-02-08T00:00:00\", \"2016-02-05T00:00:00\", \"2016-02-04T00:00:00\", \"2016-02-03T00:00:00\", \"2016-02-02T00:00:00\", \"2016-02-01T00:00:00\", \"2016-01-29T00:00:00\", \"2016-01-28T00:00:00\", \"2016-01-27T00:00:00\", \"2016-01-26T00:00:00\", \"2016-01-25T00:00:00\", \"2016-01-22T00:00:00\", \"2016-01-21T00:00:00\", \"2016-01-20T00:00:00\", \"2016-01-19T00:00:00\", \"2016-01-15T00:00:00\", \"2016-01-14T00:00:00\", \"2016-01-13T00:00:00\", \"2016-01-12T00:00:00\", \"2016-01-11T00:00:00\", \"2016-01-08T00:00:00\", \"2016-01-07T00:00:00\", \"2016-01-06T00:00:00\", \"2016-01-05T00:00:00\", \"2016-01-04T00:00:00\", \"2015-12-31T00:00:00\", \"2015-12-30T00:00:00\", \"2015-12-29T00:00:00\", \"2015-12-28T00:00:00\", \"2015-12-24T00:00:00\", \"2015-12-23T00:00:00\", \"2015-12-22T00:00:00\", \"2015-12-21T00:00:00\", \"2015-12-18T00:00:00\", \"2015-12-17T00:00:00\", \"2015-12-16T00:00:00\", \"2015-12-15T00:00:00\", \"2015-12-14T00:00:00\", \"2015-12-11T00:00:00\", \"2015-12-10T00:00:00\", \"2015-12-09T00:00:00\", \"2015-12-08T00:00:00\", \"2015-12-07T00:00:00\", \"2015-12-04T00:00:00\", \"2015-12-03T00:00:00\", \"2015-12-02T00:00:00\", \"2015-12-01T00:00:00\", \"2015-11-30T00:00:00\", \"2015-11-27T00:00:00\", \"2015-11-25T00:00:00\", \"2015-11-24T00:00:00\", \"2015-11-23T00:00:00\", \"2015-11-20T00:00:00\", \"2015-11-19T00:00:00\", \"2015-11-18T00:00:00\", \"2015-11-17T00:00:00\", \"2015-11-16T00:00:00\", \"2015-11-13T00:00:00\", \"2015-11-12T00:00:00\", \"2015-11-11T00:00:00\", \"2015-11-10T00:00:00\", \"2015-11-09T00:00:00\", \"2015-11-06T00:00:00\", \"2015-11-05T00:00:00\", \"2015-11-04T00:00:00\", \"2015-11-03T00:00:00\", \"2015-11-02T00:00:00\", \"2015-10-30T00:00:00\", \"2015-10-29T00:00:00\", \"2015-10-28T00:00:00\", \"2015-10-27T00:00:00\", \"2015-10-26T00:00:00\", \"2015-10-23T00:00:00\", \"2015-10-22T00:00:00\", \"2015-10-21T00:00:00\", \"2015-10-20T00:00:00\", \"2015-10-19T00:00:00\", \"2015-10-16T00:00:00\", \"2015-10-15T00:00:00\", \"2015-10-14T00:00:00\", \"2015-10-13T00:00:00\", \"2015-10-12T00:00:00\", \"2015-10-09T00:00:00\", \"2015-10-08T00:00:00\", \"2015-10-07T00:00:00\", \"2015-10-06T00:00:00\", \"2015-10-05T00:00:00\", \"2015-10-02T00:00:00\", \"2015-10-01T00:00:00\", \"2015-09-30T00:00:00\", \"2015-09-29T00:00:00\", \"2015-09-28T00:00:00\", \"2015-09-25T00:00:00\", \"2015-09-24T00:00:00\", \"2015-09-23T00:00:00\", \"2015-09-22T00:00:00\", \"2015-09-21T00:00:00\", \"2015-09-18T00:00:00\", \"2015-09-17T00:00:00\", \"2015-09-16T00:00:00\", \"2015-09-15T00:00:00\", \"2015-09-14T00:00:00\", \"2015-09-11T00:00:00\", \"2015-09-10T00:00:00\", \"2015-09-09T00:00:00\", \"2015-09-08T00:00:00\", \"2015-09-04T00:00:00\", \"2015-09-03T00:00:00\", \"2015-09-02T00:00:00\", \"2015-09-01T00:00:00\", \"2015-08-31T00:00:00\", \"2015-08-28T00:00:00\", \"2015-08-27T00:00:00\", \"2015-08-26T00:00:00\", \"2015-08-25T00:00:00\", \"2015-08-24T00:00:00\", \"2015-08-21T00:00:00\", \"2015-08-20T00:00:00\", \"2015-08-19T00:00:00\", \"2015-08-18T00:00:00\", \"2015-08-17T00:00:00\", \"2015-08-14T00:00:00\", \"2015-08-13T00:00:00\", \"2015-08-12T00:00:00\", \"2015-08-11T00:00:00\", \"2015-08-10T00:00:00\", \"2015-08-07T00:00:00\", \"2015-08-06T00:00:00\", \"2015-08-05T00:00:00\", \"2015-08-04T00:00:00\", \"2015-08-03T00:00:00\", \"2015-07-31T00:00:00\", \"2015-07-30T00:00:00\", \"2015-07-29T00:00:00\", \"2015-07-28T00:00:00\", \"2015-07-27T00:00:00\", \"2015-07-24T00:00:00\", \"2015-07-23T00:00:00\", \"2015-07-22T00:00:00\", \"2015-07-21T00:00:00\", \"2015-07-20T00:00:00\", \"2015-07-17T00:00:00\", \"2015-07-16T00:00:00\", \"2015-07-15T00:00:00\", \"2015-07-14T00:00:00\", \"2015-07-13T00:00:00\", \"2015-07-10T00:00:00\", \"2015-07-09T00:00:00\", \"2015-07-08T00:00:00\", \"2015-07-07T00:00:00\", \"2015-07-06T00:00:00\", \"2015-07-02T00:00:00\", \"2015-07-01T00:00:00\", \"2015-06-30T00:00:00\", \"2015-06-29T00:00:00\", \"2015-06-26T00:00:00\", \"2015-06-25T00:00:00\", \"2015-06-24T00:00:00\", \"2015-06-23T00:00:00\", \"2015-06-22T00:00:00\", \"2015-06-19T00:00:00\", \"2015-06-18T00:00:00\", \"2015-06-17T00:00:00\", \"2015-06-16T00:00:00\", \"2015-06-15T00:00:00\", \"2015-06-12T00:00:00\", \"2015-06-11T00:00:00\", \"2015-06-10T00:00:00\", \"2015-06-09T00:00:00\", \"2015-06-08T00:00:00\", \"2015-06-05T00:00:00\", \"2015-06-04T00:00:00\", \"2015-06-03T00:00:00\", \"2015-06-02T00:00:00\", \"2015-06-01T00:00:00\", \"2015-05-29T00:00:00\", \"2015-05-28T00:00:00\", \"2015-05-27T00:00:00\", \"2015-05-26T00:00:00\", \"2015-05-22T00:00:00\", \"2015-05-21T00:00:00\", \"2015-05-20T00:00:00\", \"2015-05-19T00:00:00\", \"2015-05-18T00:00:00\", \"2015-05-15T00:00:00\", \"2015-05-14T00:00:00\", \"2015-05-13T00:00:00\", \"2015-05-12T00:00:00\", \"2015-05-11T00:00:00\", \"2015-05-08T00:00:00\", \"2015-05-07T00:00:00\", \"2015-05-06T00:00:00\", \"2015-05-05T00:00:00\", \"2015-05-04T00:00:00\", \"2015-05-01T00:00:00\", \"2015-04-30T00:00:00\", \"2015-04-29T00:00:00\", \"2015-04-28T00:00:00\", \"2015-04-27T00:00:00\", \"2015-04-24T00:00:00\", \"2015-04-23T00:00:00\", \"2015-04-22T00:00:00\", \"2015-04-21T00:00:00\", \"2015-04-20T00:00:00\", \"2015-04-17T00:00:00\", \"2015-04-16T00:00:00\", \"2015-04-15T00:00:00\", \"2015-04-14T00:00:00\", \"2015-04-13T00:00:00\", \"2015-04-10T00:00:00\", \"2015-04-09T00:00:00\", \"2015-04-08T00:00:00\", \"2015-04-07T00:00:00\", \"2015-04-06T00:00:00\", \"2015-04-02T00:00:00\", \"2015-04-01T00:00:00\", \"2015-03-31T00:00:00\", \"2015-03-30T00:00:00\", \"2015-03-27T00:00:00\", \"2015-03-26T00:00:00\", \"2015-03-25T00:00:00\", \"2015-03-24T00:00:00\", \"2015-03-23T00:00:00\", \"2015-03-20T00:00:00\", \"2015-03-19T00:00:00\", \"2015-03-18T00:00:00\", \"2015-03-17T00:00:00\", \"2015-03-16T00:00:00\", \"2015-03-13T00:00:00\", \"2015-03-12T00:00:00\", \"2015-03-11T00:00:00\", \"2015-03-10T00:00:00\", \"2015-03-09T00:00:00\", \"2015-03-06T00:00:00\", \"2015-03-05T00:00:00\", \"2015-03-04T00:00:00\", \"2015-03-03T00:00:00\", \"2015-03-02T00:00:00\", \"2015-02-27T00:00:00\", \"2015-02-26T00:00:00\", \"2015-02-25T00:00:00\", \"2015-02-24T00:00:00\", \"2015-02-23T00:00:00\", \"2015-02-20T00:00:00\", \"2015-02-19T00:00:00\", \"2015-02-18T00:00:00\", \"2015-02-17T00:00:00\", \"2015-02-13T00:00:00\", \"2015-02-12T00:00:00\", \"2015-02-11T00:00:00\", \"2015-02-10T00:00:00\", \"2015-02-09T00:00:00\", \"2015-02-06T00:00:00\", \"2015-02-05T00:00:00\", \"2015-02-04T00:00:00\", \"2015-02-03T00:00:00\", \"2015-02-02T00:00:00\", \"2015-01-30T00:00:00\", \"2015-01-29T00:00:00\", \"2015-01-28T00:00:00\", \"2015-01-27T00:00:00\", \"2015-01-26T00:00:00\", \"2015-01-23T00:00:00\", \"2015-01-22T00:00:00\", \"2015-01-21T00:00:00\", \"2015-01-20T00:00:00\", \"2015-01-16T00:00:00\", \"2015-01-15T00:00:00\", \"2015-01-14T00:00:00\", \"2015-01-13T00:00:00\", \"2015-01-12T00:00:00\", \"2015-01-09T00:00:00\", \"2015-01-08T00:00:00\", \"2015-01-07T00:00:00\", \"2015-01-06T00:00:00\", \"2015-01-05T00:00:00\", \"2015-01-02T00:00:00\", \"2014-12-31T00:00:00\", \"2014-12-30T00:00:00\", \"2014-12-29T00:00:00\", \"2014-12-26T00:00:00\", \"2014-12-24T00:00:00\", \"2014-12-23T00:00:00\", \"2014-12-22T00:00:00\", \"2014-12-19T00:00:00\", \"2014-12-18T00:00:00\", \"2014-12-17T00:00:00\", \"2014-12-16T00:00:00\", \"2014-12-15T00:00:00\", \"2014-12-12T00:00:00\", \"2014-12-11T00:00:00\", \"2014-12-10T00:00:00\", \"2014-12-09T00:00:00\", \"2014-12-08T00:00:00\", \"2014-12-05T00:00:00\", \"2014-12-04T00:00:00\", \"2014-12-03T00:00:00\", \"2014-12-02T00:00:00\", \"2014-12-01T00:00:00\", \"2014-11-28T00:00:00\", \"2014-11-26T00:00:00\", \"2014-11-25T00:00:00\", \"2014-11-24T00:00:00\", \"2014-11-21T00:00:00\", \"2014-11-20T00:00:00\", \"2014-11-19T00:00:00\", \"2014-11-18T00:00:00\", \"2014-11-17T00:00:00\", \"2014-11-14T00:00:00\", \"2014-11-13T00:00:00\", \"2014-11-12T00:00:00\", \"2014-11-11T00:00:00\", \"2014-11-10T00:00:00\", \"2014-11-07T00:00:00\", \"2014-11-06T00:00:00\", \"2014-11-05T00:00:00\", \"2014-11-04T00:00:00\", \"2014-11-03T00:00:00\", \"2014-10-31T00:00:00\", \"2014-10-30T00:00:00\", \"2014-10-29T00:00:00\", \"2014-10-28T00:00:00\", \"2014-10-27T00:00:00\", \"2014-10-24T00:00:00\", \"2014-10-23T00:00:00\", \"2014-10-22T00:00:00\", \"2014-10-21T00:00:00\", \"2014-10-20T00:00:00\", \"2014-10-17T00:00:00\", \"2014-10-16T00:00:00\", \"2014-10-15T00:00:00\", \"2014-10-14T00:00:00\", \"2014-10-13T00:00:00\", \"2014-10-10T00:00:00\", \"2014-10-09T00:00:00\", \"2014-10-08T00:00:00\", \"2014-10-07T00:00:00\", \"2014-10-06T00:00:00\", \"2014-10-03T00:00:00\", \"2014-10-02T00:00:00\", \"2014-10-01T00:00:00\", \"2014-09-30T00:00:00\", \"2014-09-29T00:00:00\", \"2014-09-26T00:00:00\", \"2014-09-25T00:00:00\", \"2014-09-24T00:00:00\", \"2014-09-23T00:00:00\", \"2014-09-22T00:00:00\", \"2014-09-19T00:00:00\", \"2014-09-18T00:00:00\", \"2014-09-17T00:00:00\", \"2014-09-16T00:00:00\", \"2014-09-15T00:00:00\", \"2014-09-12T00:00:00\", \"2014-09-11T00:00:00\", \"2014-09-10T00:00:00\", \"2014-09-09T00:00:00\", \"2014-09-08T00:00:00\", \"2014-09-05T00:00:00\", \"2014-09-04T00:00:00\", \"2014-09-03T00:00:00\", \"2014-09-02T00:00:00\", \"2014-08-29T00:00:00\", \"2014-08-28T00:00:00\", \"2014-08-27T00:00:00\", \"2014-08-26T00:00:00\", \"2014-08-25T00:00:00\", \"2014-08-22T00:00:00\", \"2014-08-21T00:00:00\", \"2014-08-20T00:00:00\", \"2014-08-19T00:00:00\", \"2014-08-18T00:00:00\", \"2014-08-15T00:00:00\", \"2014-08-14T00:00:00\", \"2014-08-13T00:00:00\", \"2014-08-12T00:00:00\", \"2014-08-11T00:00:00\", \"2014-08-08T00:00:00\", \"2014-08-07T00:00:00\", \"2014-08-06T00:00:00\", \"2014-08-05T00:00:00\", \"2014-08-04T00:00:00\", \"2014-08-01T00:00:00\", \"2014-07-31T00:00:00\", \"2014-07-30T00:00:00\", \"2014-07-29T00:00:00\", \"2014-07-28T00:00:00\", \"2014-07-25T00:00:00\", \"2014-07-24T00:00:00\", \"2014-07-23T00:00:00\", \"2014-07-22T00:00:00\", \"2014-07-21T00:00:00\", \"2014-07-18T00:00:00\", \"2014-07-17T00:00:00\", \"2014-07-16T00:00:00\", \"2014-07-15T00:00:00\", \"2014-07-14T00:00:00\", \"2014-07-11T00:00:00\", \"2014-07-10T00:00:00\", \"2014-07-09T00:00:00\", \"2014-07-08T00:00:00\", \"2014-07-07T00:00:00\", \"2014-07-03T00:00:00\", \"2014-07-02T00:00:00\", \"2014-07-01T00:00:00\", \"2014-06-30T00:00:00\", \"2014-06-27T00:00:00\", \"2014-06-26T00:00:00\", \"2014-06-25T00:00:00\", \"2014-06-24T00:00:00\", \"2014-06-23T00:00:00\", \"2014-06-20T00:00:00\", \"2014-06-19T00:00:00\", \"2014-06-18T00:00:00\", \"2014-06-17T00:00:00\", \"2014-06-16T00:00:00\", \"2014-06-13T00:00:00\", \"2014-06-12T00:00:00\", \"2014-06-11T00:00:00\", \"2014-06-10T00:00:00\", \"2014-06-09T00:00:00\", \"2014-06-06T00:00:00\", \"2014-06-05T00:00:00\", \"2014-06-04T00:00:00\", \"2014-06-03T00:00:00\", \"2014-06-02T00:00:00\", \"2014-05-30T00:00:00\", \"2014-05-29T00:00:00\", \"2014-05-28T00:00:00\", \"2014-05-27T00:00:00\", \"2014-05-23T00:00:00\", \"2014-05-22T00:00:00\", \"2014-05-21T00:00:00\", \"2014-05-20T00:00:00\", \"2014-05-19T00:00:00\", \"2014-05-16T00:00:00\", \"2014-05-15T00:00:00\", \"2014-05-14T00:00:00\", \"2014-05-13T00:00:00\", \"2014-05-12T00:00:00\", \"2014-05-09T00:00:00\", \"2014-05-08T00:00:00\", \"2014-05-07T00:00:00\", \"2014-05-06T00:00:00\", \"2014-05-05T00:00:00\", \"2014-05-02T00:00:00\", \"2014-05-01T00:00:00\", \"2014-04-30T00:00:00\", \"2014-04-29T00:00:00\", \"2014-04-28T00:00:00\", \"2014-04-25T00:00:00\", \"2014-04-24T00:00:00\", \"2014-04-23T00:00:00\", \"2014-04-22T00:00:00\", \"2014-04-21T00:00:00\", \"2014-04-17T00:00:00\", \"2014-04-16T00:00:00\", \"2014-04-15T00:00:00\", \"2014-04-14T00:00:00\", \"2014-04-11T00:00:00\", \"2014-04-10T00:00:00\", \"2014-04-09T00:00:00\", \"2014-04-08T00:00:00\", \"2014-04-07T00:00:00\", \"2014-04-04T00:00:00\", \"2014-04-03T00:00:00\", \"2014-04-02T00:00:00\", \"2014-04-01T00:00:00\", \"2014-03-31T00:00:00\", \"2014-03-28T00:00:00\", \"2014-03-27T00:00:00\", \"2014-03-26T00:00:00\", \"2014-03-25T00:00:00\", \"2014-03-24T00:00:00\", \"2014-03-21T00:00:00\", \"2014-03-20T00:00:00\", \"2014-03-19T00:00:00\", \"2014-03-18T00:00:00\", \"2014-03-17T00:00:00\", \"2014-03-14T00:00:00\", \"2014-03-13T00:00:00\", \"2014-03-12T00:00:00\", \"2014-03-11T00:00:00\", \"2014-03-10T00:00:00\", \"2014-03-07T00:00:00\", \"2014-03-06T00:00:00\", \"2014-03-05T00:00:00\", \"2014-03-04T00:00:00\", \"2014-03-03T00:00:00\", \"2014-02-28T00:00:00\", \"2014-02-27T00:00:00\", \"2014-02-26T00:00:00\", \"2014-02-25T00:00:00\", \"2014-02-24T00:00:00\", \"2014-02-21T00:00:00\", \"2014-02-20T00:00:00\", \"2014-02-19T00:00:00\", \"2014-02-18T00:00:00\", \"2014-02-14T00:00:00\", \"2014-02-13T00:00:00\", \"2014-02-12T00:00:00\", \"2014-02-11T00:00:00\", \"2014-02-10T00:00:00\", \"2014-02-07T00:00:00\", \"2014-02-06T00:00:00\", \"2014-02-05T00:00:00\", \"2014-02-04T00:00:00\", \"2014-02-03T00:00:00\", \"2014-01-31T00:00:00\", \"2014-01-30T00:00:00\", \"2014-01-29T00:00:00\", \"2014-01-28T00:00:00\", \"2014-01-27T00:00:00\", \"2014-01-24T00:00:00\", \"2014-01-23T00:00:00\", \"2014-01-22T00:00:00\", \"2014-01-21T00:00:00\", \"2014-01-17T00:00:00\", \"2014-01-16T00:00:00\", \"2014-01-15T00:00:00\", \"2014-01-14T00:00:00\", \"2014-01-13T00:00:00\", \"2014-01-10T00:00:00\", \"2014-01-09T00:00:00\", \"2014-01-08T00:00:00\", \"2014-01-07T00:00:00\", \"2014-01-06T00:00:00\", \"2014-01-03T00:00:00\", \"2014-01-02T00:00:00\", \"2013-12-31T00:00:00\", \"2013-12-30T00:00:00\", \"2013-12-27T00:00:00\", \"2013-12-26T00:00:00\", \"2013-12-24T00:00:00\", \"2013-12-23T00:00:00\", \"2013-12-20T00:00:00\", \"2013-12-19T00:00:00\", \"2013-12-18T00:00:00\", \"2013-12-17T00:00:00\", \"2013-12-16T00:00:00\", \"2013-12-13T00:00:00\", \"2013-12-12T00:00:00\", \"2013-12-11T00:00:00\", \"2013-12-10T00:00:00\", \"2013-12-09T00:00:00\", \"2013-12-06T00:00:00\", \"2013-12-05T00:00:00\", \"2013-12-04T00:00:00\", \"2013-12-03T00:00:00\", \"2013-12-02T00:00:00\", \"2013-11-29T00:00:00\", \"2013-11-27T00:00:00\", \"2013-11-26T00:00:00\", \"2013-11-25T00:00:00\", \"2013-11-22T00:00:00\", \"2013-11-21T00:00:00\", \"2013-11-20T00:00:00\", \"2013-11-19T00:00:00\", \"2013-11-18T00:00:00\", \"2013-11-15T00:00:00\", \"2013-11-14T00:00:00\", \"2013-11-13T00:00:00\", \"2013-11-12T00:00:00\", \"2013-11-11T00:00:00\", \"2013-11-08T00:00:00\", \"2013-11-07T00:00:00\", \"2013-11-06T00:00:00\", \"2013-11-05T00:00:00\", \"2013-11-04T00:00:00\", \"2013-11-01T00:00:00\", \"2013-10-31T00:00:00\", \"2013-10-30T00:00:00\", \"2013-10-29T00:00:00\", \"2013-10-28T00:00:00\", \"2013-10-25T00:00:00\", \"2013-10-24T00:00:00\", \"2013-10-23T00:00:00\", \"2013-10-22T00:00:00\", \"2013-10-21T00:00:00\", \"2013-10-18T00:00:00\", \"2013-10-17T00:00:00\", \"2013-10-16T00:00:00\", \"2013-10-15T00:00:00\", \"2013-10-14T00:00:00\", \"2013-10-11T00:00:00\", \"2013-10-10T00:00:00\", \"2013-10-09T00:00:00\", \"2013-10-08T00:00:00\", \"2013-10-07T00:00:00\", \"2013-10-04T00:00:00\", \"2013-10-03T00:00:00\", \"2013-10-02T00:00:00\", \"2013-10-01T00:00:00\", \"2013-09-30T00:00:00\", \"2013-09-27T00:00:00\", \"2013-09-26T00:00:00\", \"2013-09-25T00:00:00\", \"2013-09-24T00:00:00\", \"2013-09-23T00:00:00\", \"2013-09-20T00:00:00\", \"2013-09-19T00:00:00\", \"2013-09-18T00:00:00\", \"2013-09-17T00:00:00\", \"2013-09-16T00:00:00\", \"2013-09-13T00:00:00\", \"2013-09-12T00:00:00\", \"2013-09-11T00:00:00\", \"2013-09-10T00:00:00\", \"2013-09-09T00:00:00\", \"2013-09-06T00:00:00\", \"2013-09-05T00:00:00\", \"2013-09-04T00:00:00\", \"2013-09-03T00:00:00\", \"2013-08-30T00:00:00\", \"2013-08-29T00:00:00\", \"2013-08-28T00:00:00\", \"2013-08-27T00:00:00\", \"2013-08-26T00:00:00\", \"2013-08-23T00:00:00\", \"2013-08-22T00:00:00\", \"2013-08-21T00:00:00\", \"2013-08-20T00:00:00\", \"2013-08-19T00:00:00\", \"2013-08-16T00:00:00\", \"2013-08-15T00:00:00\", \"2013-08-14T00:00:00\", \"2013-08-13T00:00:00\", \"2013-08-12T00:00:00\", \"2013-08-09T00:00:00\", \"2013-08-08T00:00:00\", \"2013-08-07T00:00:00\", \"2013-08-06T00:00:00\", \"2013-08-05T00:00:00\", \"2013-08-02T00:00:00\", \"2013-08-01T00:00:00\", \"2013-07-31T00:00:00\", \"2013-07-30T00:00:00\", \"2013-07-29T00:00:00\", \"2013-07-26T00:00:00\", \"2013-07-25T00:00:00\", \"2013-07-24T00:00:00\", \"2013-07-23T00:00:00\", \"2013-07-22T00:00:00\", \"2013-07-19T00:00:00\", \"2013-07-18T00:00:00\", \"2013-07-17T00:00:00\", \"2013-07-16T00:00:00\", \"2013-07-15T00:00:00\", \"2013-07-12T00:00:00\", \"2013-07-11T00:00:00\", \"2013-07-10T00:00:00\", \"2013-07-09T00:00:00\", \"2013-07-08T00:00:00\", \"2013-07-05T00:00:00\", \"2013-07-03T00:00:00\", \"2013-07-02T00:00:00\", \"2013-07-01T00:00:00\", \"2013-06-28T00:00:00\", \"2013-06-27T00:00:00\", \"2013-06-26T00:00:00\", \"2013-06-25T00:00:00\", \"2013-06-24T00:00:00\", \"2013-06-21T00:00:00\", \"2013-06-20T00:00:00\", \"2013-06-19T00:00:00\", \"2013-06-18T00:00:00\", \"2013-06-17T00:00:00\", \"2013-06-14T00:00:00\", \"2013-06-13T00:00:00\", \"2013-06-12T00:00:00\", \"2013-06-11T00:00:00\", \"2013-06-10T00:00:00\", \"2013-06-07T00:00:00\", \"2013-06-06T00:00:00\", \"2013-06-05T00:00:00\", \"2013-06-04T00:00:00\", \"2013-06-03T00:00:00\", \"2013-05-31T00:00:00\", \"2013-05-30T00:00:00\", \"2013-05-29T00:00:00\", \"2013-05-28T00:00:00\", \"2013-05-24T00:00:00\", \"2013-05-23T00:00:00\", \"2013-05-22T00:00:00\", \"2013-05-21T00:00:00\", \"2013-05-20T00:00:00\", \"2013-05-17T00:00:00\", \"2013-05-16T00:00:00\", \"2013-05-15T00:00:00\", \"2013-05-14T00:00:00\", \"2013-05-13T00:00:00\", \"2013-05-10T00:00:00\", \"2013-05-09T00:00:00\", \"2013-05-08T00:00:00\", \"2013-05-07T00:00:00\", \"2013-05-06T00:00:00\", \"2013-05-03T00:00:00\", \"2013-05-02T00:00:00\", \"2013-05-01T00:00:00\", \"2013-04-30T00:00:00\", \"2013-04-29T00:00:00\", \"2013-04-26T00:00:00\", \"2013-04-25T00:00:00\", \"2013-04-24T00:00:00\", \"2013-04-23T00:00:00\", \"2013-04-22T00:00:00\", \"2013-04-19T00:00:00\", \"2013-04-18T00:00:00\", \"2013-04-17T00:00:00\", \"2013-04-16T00:00:00\", \"2013-04-15T00:00:00\", \"2013-04-12T00:00:00\", \"2013-04-11T00:00:00\", \"2013-04-10T00:00:00\", \"2013-04-09T00:00:00\", \"2013-04-08T00:00:00\", \"2013-04-05T00:00:00\", \"2013-04-04T00:00:00\", \"2013-04-03T00:00:00\", \"2013-04-02T00:00:00\", \"2013-04-01T00:00:00\", \"2013-03-28T00:00:00\", \"2013-03-27T00:00:00\", \"2013-03-26T00:00:00\", \"2013-03-25T00:00:00\", \"2013-03-22T00:00:00\", \"2013-03-21T00:00:00\", \"2013-03-20T00:00:00\", \"2013-03-19T00:00:00\", \"2013-03-18T00:00:00\", \"2013-03-15T00:00:00\", \"2013-03-14T00:00:00\", \"2013-03-13T00:00:00\", \"2013-03-12T00:00:00\", \"2013-03-11T00:00:00\", \"2013-03-08T00:00:00\", \"2013-03-07T00:00:00\", \"2013-03-06T00:00:00\", \"2013-03-05T00:00:00\", \"2013-03-04T00:00:00\", \"2013-03-01T00:00:00\", \"2013-02-28T00:00:00\", \"2013-02-27T00:00:00\", \"2013-02-26T00:00:00\", \"2013-02-25T00:00:00\", \"2013-02-22T00:00:00\", \"2013-02-21T00:00:00\", \"2013-02-20T00:00:00\", \"2013-02-19T00:00:00\", \"2013-02-15T00:00:00\", \"2013-02-14T00:00:00\", \"2013-02-13T00:00:00\", \"2013-02-12T00:00:00\", \"2013-02-11T00:00:00\", \"2013-02-08T00:00:00\", \"2013-02-07T00:00:00\", \"2013-02-06T00:00:00\", \"2013-02-05T00:00:00\", \"2013-02-04T00:00:00\", \"2013-02-01T00:00:00\", \"2013-01-31T00:00:00\", \"2013-01-30T00:00:00\", \"2013-01-29T00:00:00\", \"2013-01-28T00:00:00\", \"2013-01-25T00:00:00\", \"2013-01-24T00:00:00\", \"2013-01-23T00:00:00\", \"2013-01-22T00:00:00\", \"2013-01-18T00:00:00\", \"2013-01-17T00:00:00\", \"2013-01-16T00:00:00\", \"2013-01-15T00:00:00\", \"2013-01-14T00:00:00\", \"2013-01-11T00:00:00\", \"2013-01-10T00:00:00\", \"2013-01-09T00:00:00\", \"2013-01-08T00:00:00\", \"2013-01-07T00:00:00\", \"2013-01-04T00:00:00\", \"2013-01-03T00:00:00\", \"2013-01-02T00:00:00\", \"2012-12-31T00:00:00\", \"2012-12-28T00:00:00\", \"2012-12-27T00:00:00\", \"2012-12-26T00:00:00\", \"2012-12-24T00:00:00\", \"2012-12-21T00:00:00\", \"2012-12-20T00:00:00\", \"2012-12-19T00:00:00\", \"2012-12-18T00:00:00\", \"2012-12-17T00:00:00\", \"2012-12-14T00:00:00\", \"2012-12-13T00:00:00\", \"2012-12-12T00:00:00\", \"2012-12-11T00:00:00\", \"2012-12-10T00:00:00\", \"2012-12-07T00:00:00\", \"2012-12-06T00:00:00\", \"2012-12-05T00:00:00\", \"2012-12-04T00:00:00\", \"2012-12-03T00:00:00\", \"2012-11-30T00:00:00\", \"2012-11-29T00:00:00\", \"2012-11-28T00:00:00\", \"2012-11-27T00:00:00\", \"2012-11-26T00:00:00\", \"2012-11-23T00:00:00\", \"2012-11-21T00:00:00\", \"2012-11-20T00:00:00\", \"2012-11-19T00:00:00\", \"2012-11-16T00:00:00\", \"2012-11-15T00:00:00\", \"2012-11-14T00:00:00\", \"2012-11-13T00:00:00\", \"2012-11-12T00:00:00\", \"2012-11-09T00:00:00\", \"2012-11-08T00:00:00\", \"2012-11-07T00:00:00\", \"2012-11-06T00:00:00\", \"2012-11-05T00:00:00\", \"2012-11-02T00:00:00\", \"2012-11-01T00:00:00\", \"2012-10-31T00:00:00\", \"2012-10-26T00:00:00\", \"2012-10-25T00:00:00\", \"2012-10-24T00:00:00\", \"2012-10-23T00:00:00\", \"2012-10-22T00:00:00\", \"2012-10-19T00:00:00\", \"2012-10-18T00:00:00\", \"2012-10-17T00:00:00\", \"2012-10-16T00:00:00\", \"2012-10-15T00:00:00\", \"2012-10-12T00:00:00\", \"2012-10-11T00:00:00\", \"2012-10-10T00:00:00\", \"2012-10-09T00:00:00\", \"2012-10-08T00:00:00\", \"2012-10-05T00:00:00\", \"2012-10-04T00:00:00\", \"2012-10-03T00:00:00\", \"2012-10-02T00:00:00\", \"2012-10-01T00:00:00\", \"2012-09-28T00:00:00\", \"2012-09-27T00:00:00\", \"2012-09-26T00:00:00\", \"2012-09-25T00:00:00\", \"2012-09-24T00:00:00\", \"2012-09-21T00:00:00\", \"2012-09-20T00:00:00\", \"2012-09-19T00:00:00\", \"2012-09-18T00:00:00\", \"2012-09-17T00:00:00\", \"2012-09-14T00:00:00\", \"2012-09-13T00:00:00\", \"2012-09-12T00:00:00\", \"2012-09-11T00:00:00\", \"2012-09-10T00:00:00\", \"2012-09-07T00:00:00\", \"2012-09-06T00:00:00\", \"2012-09-05T00:00:00\", \"2012-09-04T00:00:00\", \"2012-08-31T00:00:00\", \"2012-08-30T00:00:00\", \"2012-08-29T00:00:00\", \"2012-08-28T00:00:00\", \"2012-08-27T00:00:00\", \"2012-08-24T00:00:00\", \"2012-08-23T00:00:00\", \"2012-08-22T00:00:00\", \"2012-08-21T00:00:00\", \"2012-08-20T00:00:00\", \"2012-08-17T00:00:00\", \"2012-08-16T00:00:00\", \"2012-08-15T00:00:00\", \"2012-08-14T00:00:00\", \"2012-08-13T00:00:00\", \"2012-08-10T00:00:00\", \"2012-08-09T00:00:00\", \"2012-08-08T00:00:00\", \"2012-08-07T00:00:00\", \"2012-08-06T00:00:00\", \"2012-08-03T00:00:00\", \"2012-08-02T00:00:00\", \"2012-08-01T00:00:00\", \"2012-07-31T00:00:00\", \"2012-07-30T00:00:00\", \"2012-07-27T00:00:00\", \"2012-07-26T00:00:00\", \"2012-07-25T00:00:00\", \"2012-07-24T00:00:00\", \"2012-07-23T00:00:00\", \"2012-07-20T00:00:00\", \"2012-07-19T00:00:00\", \"2012-07-18T00:00:00\", \"2012-07-17T00:00:00\", \"2012-07-16T00:00:00\", \"2012-07-13T00:00:00\", \"2012-07-12T00:00:00\", \"2012-07-11T00:00:00\", \"2012-07-10T00:00:00\", \"2012-07-09T00:00:00\", \"2012-07-06T00:00:00\", \"2012-07-05T00:00:00\", \"2012-07-03T00:00:00\", \"2012-07-02T00:00:00\", \"2012-06-29T00:00:00\", \"2012-06-28T00:00:00\", \"2012-06-27T00:00:00\", \"2012-06-26T00:00:00\", \"2012-06-25T00:00:00\", \"2012-06-22T00:00:00\", \"2012-06-21T00:00:00\", \"2012-06-20T00:00:00\", \"2012-06-19T00:00:00\", \"2012-06-18T00:00:00\", \"2012-06-15T00:00:00\", \"2012-06-14T00:00:00\", \"2012-06-13T00:00:00\", \"2012-06-12T00:00:00\", \"2012-06-11T00:00:00\", \"2012-06-08T00:00:00\", \"2012-06-07T00:00:00\", \"2012-06-06T00:00:00\", \"2012-06-05T00:00:00\", \"2012-06-04T00:00:00\", \"2012-06-01T00:00:00\", \"2012-05-31T00:00:00\", \"2012-05-30T00:00:00\", \"2012-05-29T00:00:00\", \"2012-05-25T00:00:00\", \"2012-05-24T00:00:00\", \"2012-05-23T00:00:00\", \"2012-05-22T00:00:00\", \"2012-05-21T00:00:00\", \"2012-05-18T00:00:00\", \"2012-05-17T00:00:00\", \"2012-05-16T00:00:00\", \"2012-05-15T00:00:00\", \"2012-05-14T00:00:00\", \"2012-05-11T00:00:00\", \"2012-05-10T00:00:00\", \"2012-05-09T00:00:00\", \"2012-05-08T00:00:00\", \"2012-05-07T00:00:00\", \"2012-05-04T00:00:00\", \"2012-05-03T00:00:00\", \"2012-05-02T00:00:00\", \"2012-05-01T00:00:00\", \"2012-04-30T00:00:00\", \"2012-04-27T00:00:00\", \"2012-04-26T00:00:00\", \"2012-04-25T00:00:00\", \"2012-04-24T00:00:00\", \"2012-04-23T00:00:00\", \"2012-04-20T00:00:00\", \"2012-04-19T00:00:00\", \"2012-04-18T00:00:00\", \"2012-04-17T00:00:00\", \"2012-04-16T00:00:00\", \"2012-04-13T00:00:00\", \"2012-04-12T00:00:00\", \"2012-04-11T00:00:00\", \"2012-04-10T00:00:00\", \"2012-04-09T00:00:00\", \"2012-04-05T00:00:00\", \"2012-04-04T00:00:00\", \"2012-04-03T00:00:00\", \"2012-04-02T00:00:00\", \"2012-03-30T00:00:00\", \"2012-03-29T00:00:00\", \"2012-03-28T00:00:00\", \"2012-03-27T00:00:00\", \"2012-03-26T00:00:00\", \"2012-03-23T00:00:00\", \"2012-03-22T00:00:00\", \"2012-03-21T00:00:00\", \"2012-03-20T00:00:00\", \"2012-03-19T00:00:00\", \"2012-03-16T00:00:00\", \"2012-03-15T00:00:00\", \"2012-03-14T00:00:00\", \"2012-03-13T00:00:00\", \"2012-03-12T00:00:00\", \"2012-03-09T00:00:00\", \"2012-03-08T00:00:00\", \"2012-03-07T00:00:00\", \"2012-03-06T00:00:00\", \"2012-03-05T00:00:00\", \"2012-03-02T00:00:00\", \"2012-03-01T00:00:00\", \"2012-02-29T00:00:00\", \"2012-02-28T00:00:00\", \"2012-02-27T00:00:00\", \"2012-02-24T00:00:00\", \"2012-02-23T00:00:00\", \"2012-02-22T00:00:00\", \"2012-02-21T00:00:00\", \"2012-02-17T00:00:00\", \"2012-02-16T00:00:00\", \"2012-02-15T00:00:00\", \"2012-02-14T00:00:00\", \"2012-02-13T00:00:00\", \"2012-02-10T00:00:00\", \"2012-02-09T00:00:00\", \"2012-02-08T00:00:00\", \"2012-02-07T00:00:00\", \"2012-02-06T00:00:00\", \"2012-02-03T00:00:00\", \"2012-02-02T00:00:00\", \"2012-02-01T00:00:00\", \"2012-01-31T00:00:00\", \"2012-01-30T00:00:00\", \"2012-01-27T00:00:00\", \"2012-01-26T00:00:00\", \"2012-01-25T00:00:00\", \"2012-01-24T00:00:00\", \"2012-01-23T00:00:00\", \"2012-01-20T00:00:00\", \"2012-01-19T00:00:00\", \"2012-01-18T00:00:00\", \"2012-01-17T00:00:00\", \"2012-01-13T00:00:00\", \"2012-01-12T00:00:00\", \"2012-01-11T00:00:00\", \"2012-01-10T00:00:00\", \"2012-01-09T00:00:00\", \"2012-01-06T00:00:00\", \"2012-01-05T00:00:00\", \"2012-01-04T00:00:00\", \"2012-01-03T00:00:00\", \"2011-12-30T00:00:00\", \"2011-12-29T00:00:00\", \"2011-12-28T00:00:00\", \"2011-12-27T00:00:00\", \"2011-12-23T00:00:00\", \"2011-12-22T00:00:00\", \"2011-12-21T00:00:00\", \"2011-12-20T00:00:00\", \"2011-12-19T00:00:00\", \"2011-12-16T00:00:00\", \"2011-12-15T00:00:00\", \"2011-12-14T00:00:00\", \"2011-12-13T00:00:00\", \"2011-12-12T00:00:00\", \"2011-12-09T00:00:00\", \"2011-12-08T00:00:00\", \"2011-12-07T00:00:00\", \"2011-12-06T00:00:00\", \"2011-12-05T00:00:00\", \"2011-12-02T00:00:00\", \"2011-12-01T00:00:00\", \"2011-11-30T00:00:00\", \"2011-11-29T00:00:00\", \"2011-11-28T00:00:00\", \"2011-11-25T00:00:00\", \"2011-11-23T00:00:00\", \"2011-11-22T00:00:00\", \"2011-11-21T00:00:00\", \"2011-11-18T00:00:00\", \"2011-11-17T00:00:00\", \"2011-11-16T00:00:00\", \"2011-11-15T00:00:00\", \"2011-11-14T00:00:00\", \"2011-11-11T00:00:00\", \"2011-11-10T00:00:00\", \"2011-11-09T00:00:00\", \"2011-11-08T00:00:00\", \"2011-11-07T00:00:00\", \"2011-11-04T00:00:00\", \"2011-11-03T00:00:00\", \"2011-11-02T00:00:00\", \"2011-11-01T00:00:00\", \"2011-10-31T00:00:00\", \"2011-10-28T00:00:00\", \"2011-10-27T00:00:00\", \"2011-10-26T00:00:00\", \"2011-10-25T00:00:00\", \"2011-10-24T00:00:00\", \"2011-10-21T00:00:00\", \"2011-10-20T00:00:00\", \"2011-10-19T00:00:00\", \"2011-10-18T00:00:00\", \"2011-10-17T00:00:00\", \"2011-10-14T00:00:00\", \"2011-10-13T00:00:00\", \"2011-10-12T00:00:00\", \"2011-10-11T00:00:00\", \"2011-10-10T00:00:00\", \"2011-10-07T00:00:00\", \"2011-10-06T00:00:00\", \"2011-10-05T00:00:00\", \"2011-10-04T00:00:00\", \"2011-10-03T00:00:00\", \"2011-09-30T00:00:00\", \"2011-09-29T00:00:00\", \"2011-09-28T00:00:00\", \"2011-09-27T00:00:00\", \"2011-09-26T00:00:00\", \"2011-09-23T00:00:00\", \"2011-09-22T00:00:00\", \"2011-09-21T00:00:00\", \"2011-09-20T00:00:00\", \"2011-09-19T00:00:00\", \"2011-09-16T00:00:00\", \"2011-09-15T00:00:00\", \"2011-09-14T00:00:00\", \"2011-09-13T00:00:00\", \"2011-09-12T00:00:00\", \"2011-09-09T00:00:00\", \"2011-09-08T00:00:00\", \"2011-09-07T00:00:00\", \"2011-09-06T00:00:00\", \"2011-09-02T00:00:00\", \"2011-09-01T00:00:00\", \"2011-08-31T00:00:00\", \"2011-08-30T00:00:00\", \"2011-08-29T00:00:00\", \"2011-08-26T00:00:00\", \"2011-08-25T00:00:00\", \"2011-08-24T00:00:00\", \"2011-08-23T00:00:00\", \"2011-08-22T00:00:00\", \"2011-08-19T00:00:00\", \"2011-08-18T00:00:00\", \"2011-08-17T00:00:00\", \"2011-08-16T00:00:00\", \"2011-08-15T00:00:00\", \"2011-08-12T00:00:00\", \"2011-08-11T00:00:00\", \"2011-08-10T00:00:00\", \"2011-08-09T00:00:00\", \"2011-08-08T00:00:00\", \"2011-08-05T00:00:00\", \"2011-08-04T00:00:00\", \"2011-08-03T00:00:00\", \"2011-08-02T00:00:00\", \"2011-08-01T00:00:00\", \"2011-07-29T00:00:00\", \"2011-07-28T00:00:00\", \"2011-07-27T00:00:00\", \"2011-07-26T00:00:00\", \"2011-07-25T00:00:00\", \"2011-07-22T00:00:00\", \"2011-07-21T00:00:00\", \"2011-07-20T00:00:00\", \"2011-07-19T00:00:00\", \"2011-07-18T00:00:00\", \"2011-07-15T00:00:00\", \"2011-07-14T00:00:00\", \"2011-07-13T00:00:00\", \"2011-07-12T00:00:00\", \"2011-07-11T00:00:00\", \"2011-07-08T00:00:00\", \"2011-07-07T00:00:00\", \"2011-07-06T00:00:00\", \"2011-07-05T00:00:00\", \"2011-07-01T00:00:00\", \"2011-06-30T00:00:00\", \"2011-06-29T00:00:00\", \"2011-06-28T00:00:00\", \"2011-06-27T00:00:00\", \"2011-06-24T00:00:00\", \"2011-06-23T00:00:00\", \"2011-06-22T00:00:00\", \"2011-06-21T00:00:00\", \"2011-06-20T00:00:00\", \"2011-06-17T00:00:00\", \"2011-06-16T00:00:00\", \"2011-06-15T00:00:00\", \"2011-06-14T00:00:00\", \"2011-06-13T00:00:00\", \"2011-06-10T00:00:00\"], \"y\": [598.78, 603.59, 605.13, 599.05, 572.84, 605.12, 623.9, 625.22, 630.85, 619.13, 604.69, 606.44, 580.88, 586.78, 563.46, 577.87, 576.83, 589.74, 571.69, 589.89, 617.2, 629.04, 672.37, 663.54, 670.94, 673.6, 684.9, 709.44, 677.0, 694.4, 704.74, 738.2, 729.4, 719.69, 744.12, 718.99, 714.63, 739.78, 738.85, 732.23, 762.32, 701.98, 677.02, 683.8, 670.97, 691.62, 691.05, 661.75, 667.93, 635.62, 611.29, 618.71, 640.39, 630.27, 662.16, 670.0, 654.87, 653.16, 701.81, 676.88, 707.94, 693.73, 699.6, 668.06, 673.58, 563.0, 597.95, 621.44, 653.2, 686.44, 718.43, 675.5, 682.22, 742.02, 698.84, 714.5, 781.3, 787.38, 798.15, 796.22, 816.12, 811.66, 804.82, 849.46, 863.42, 852.23, 849.99, 854.69, 872.79, 839.81, 793.53, 835.43, 864.16, 883.09, 880.8, 846.64, 844.99, 850.45, 844.55, 826.16, 845.0, 854.41, 849.44, 811.19, 880.02, 816.04, 755.98, 735.11, 729.77, 705.67, 694.78, 665.99, 663.69, 661.77, 645.98, 640.34, 649.86, 695.0, 655.9, 622.77, 633.25, 639.83, 609.99, 627.07, 604.48, 649.88, 641.76, 599.04, 593.38, 568.82, 584.76, 567.6, 585.76, 574.0, 555.38, 521.85, 489.61, 499.27, 486.64, 441.61, 408.09, 408.5, 411.76, 417.13, 410.36, 421.26, 429.95, 438.09, 420.98, 423.9, 400.51, 388.04, 410.83, 406.02, 424.68, 420.28, 420.63, 425.79, 422.64, 421.94, 430.83, 439.67, 448.88, 461.3, 446.65, 442.3, 434.0, 425.92, 425.3, 413.98, 425.68, 415.09, 448.16, 429.01, 419.07, 421.2, 407.34, 387.79, 380.36, 424.23, 449.39, 442.15, 423.43, 441.76, 449.76, 419.62, 372.72, 371.34, 366.28, 330.21, 418.32, 407.0, 447.37, 475.05, 498.32, 442.68, 447.75, 430.634, 404.668, 402.84, 409.996, 400.366, 375.706, 377.418, 367.128, 330.142, 324.2, 310.952, 274.878, 283.714, 290.542, 297.916, 297.004, 297.4, 297.0, 286.152, 297.498, 299.822, 295.298, 307.92, 283.4, 302.614, 318.466, 313.672, 328.6, 300.168, 300.128, 309.202, 303.36, 299.412, 308.93, 278.856, 273.176, 277.972, 274.316, 241.732, 223.926, 215.962, 201.87, 191.948, 197.196, 192.17, 200.356, 198.864, 200.18, 200.792, 198.358, 196.426, 198.18, 187.056, 194.568, 205.01, 188.134, 189.984, 177.132, 172.876, 176.592, 176.312, 179.62, 167.0, 161.162, 164.046, 163.774, 163.376, 165.52, 163.112, 161.602, 162.726, 159.834, 160.666, 158.192, 161.882, 162.258, 163.884, 156.008, 156.516, 153.642, 152.238, 140.264, 156.376, 160.102, 153.824, 159.75, 145.03, 141.126, 146.422, 137.344, 149.272, 150.778, 149.042, 145.966, 141.978, 130.19, 114.6, 109.768, 109.09, 103.248, 96.002, 90.894, 96.312, 104.8, 100.426, 102.872, 105.632, 107.85, 101.0, 86.858, 85.506, 85.528, 72.244, 86.04, 89.014, 109.324, 112.11, 126.846, 129.066, 121.6, 140.696, 144.908, 149.9, 149.102, 148.724, 133.598, 135.8, 155.76, 159.982, 166.758, 180.2, 179.882, 183.484, 171.68, 160.006, 160.8, 153.458, 154.876, 154.256, 149.614, 149.792, 146.94, 177.412, 156.0, 130.114, 128.162, 116.198, 113.38, 111.604, 112.964, 114.44, 113.912, 109.44, 102.1, 102.698, 103.7, 107.584, 104.972, 95.63, 96.268, 98.428, 93.812, 90.308, 88.602, 86.052, 83.666, 82.94, 86.076, 86.188, 85.05, 83.844, 81.118, 80.808, 78.63, 75.798, 76.3, 71.678, 71.936, 70.54, 69.768, 67.906, 67.178, 66.074, 66.606, 67.24, 66.974, 65.988, 66.258, 65.784, 67.268, 66.608, 70.966, 70.444, 71.904, 69.998, 70.434, 69.87, 69.222, 69.986, 69.018, 67.428, 67.108, 65.316, 63.444, 63.494, 62.662, 62.984, 63.002, 63.244, 65.542, 65.626, 59.936, 50.936, 51.116, 50.7, 51.39, 52.394, 51.95, 51.578, 51.392, 49.578, 48.948, 48.906, 48.01, 47.544, 46.286, 46.606, 48.626, 48.938, 48.174, 48.426, 48.512, 45.74, 44.642, 48.246, 48.124, 49.32, 48.698, 48.958, 48.562, 49.04, 49.174, 49.42, 47.108, 46.358, 45.49, 45.916, 44.136, 45.002, 45.122, 44.342, 43.118, 42.816, 43.0, 42.28, 44.43, 44.166, 45.172, 45.366, 43.988, 43.128, 43.924, 47.0, 45.802, 47.002, 47.66, 46.684, 46.15, 45.664, 46.868, 46.77, 48.322, 48.452, 47.154, 45.608, 45.764, 52.976, 52.034, 51.136, 51.636, 50.708, 50.972, 50.476, 50.7, 49.016, 47.72, 47.784, 46.012, 46.068, 46.62, 46.98, 44.91, 45.434, 44.692, 44.568, 43.854, 43.952, 44.728, 44.372, 43.924, 45.286, 44.948, 45.006, 42.984, 42.782, 41.852, 43.42, 42.576, 40.9, 41.19, 39.318, 38.72, 35.794, 37.032, 37.644, 37.972, 37.74, 38.126, 39.098, 38.546, 41.016, 41.072, 42.206, 45.666, 46.39, 46.462, 45.402, 47.904, 48.396, 48.968, 49.412, 51.068, 51.006, 48.82, 46.802, 47.738, 48.294, 47.028, 49.526, 51.732, 52.78, 52.55, 54.652, 54.246, 54.672, 53.276, 53.54, 53.684, 55.212, 54.462, 54.64, 54.992, 53.556, 58.362, 57.176, 57.836, 55.972, 55.724, 54.966, 53.554, 52.084, 52.906, 54.804, 54.72, 53.494, 53.898, 55.086, 57.992, 57.792, 56.672, 58.184, 56.828, 55.318, 55.248, 55.308, 57.072, 58.958, 63.976, 62.948, 59.572, 59.754, 58.942, 58.246, 60.512, 61.128, 61.576, 60.754, 61.634, 62.362, 62.568, 61.16, 61.502, 63.444, 64.27, 62.578, 62.442, 61.404, 61.754, 59.492, 59.276, 59.408, 58.302, 57.518, 59.784, 60.452, 69.462, 69.21, 68.886, 66.88, 69.452, 68.994, 67.706, 67.07, 66.992, 63.538, 60.072, 62.024, 66.56, 66.774, 63.226, 65.218, 59.078, 63.954, 63.076, 66.594, 67.406, 69.684, 73.142, 75.358, 73.32, 73.352, 73.03, 71.593, 72.612, 71.94, 71.698, 70.096, 68.234, 69.574, 68.784, 69.2, 65.166, 67.638, 69.498, 70.694, 70.862, 69.688, 68.8, 67.746, 66.256, 70.102, 70.28, 69.632, 68.212, 68.28, 69.282, 68.856, 67.464, 65.98, 66.97, 66.18, 62.972, 57.7, 58.828, 52.19, 52.0, 52.782, 54.356, 55.318, 51.918, 51.756, 50.446, 51.376, 52.56, 50.112, 52.39, 56.366, 58.96, 60.204, 62.14, 52.954, 61.504, 61.916, 60.198, 59.936, 59.82, 59.666, 59.804, 56.992, 58.968, 59.04, 57.892, 58.108, 55.888, 57.1, 52.648, 56.19, 56.148, 57.79, 60.332, 60.63, 61.002, 62.372, 63.854, 64.564, 64.02, 64.328, 64.38, 61.688, 61.1, 67.09, 67.738, 69.528, 71.282, 71.098, 70.49, 74.068, 75.914, 68.398, 69.634, 69.908, 60.168, 59.628, 58.034, 59.436, 61.33, 61.748, 59.486, 60.64, 62.716, 64.046, 64.77, 64.538, 62.02, 63.774, 63.342, 63.792, 64.494, 63.702, 61.78, 61.832, 62.172, 67.014, 68.59, 69.986, 68.9, 68.4, 66.602, 66.726, 69.502, 72.444, 70.51, 74.166, 71.634, 71.544, 68.956, 68.554, 66.42, 63.532, 63.218, 63.9, 58.226, 59.348, 58.364, 56.946, 58.344, 56.752, 55.77, 55.57, 55.814, 55.002, 56.898, 55.364, 56.908, 57.296, 56.836, 58.394, 60.212, 61.004, 61.37, 60.394, 60.554, 58.818, 56.89, 60.23, 59.984, 58.78, 58.815, 57.096, 56.138, 56.692, 56.674, 58.048, 60.016, 58.67, 57.538, 58.242, 60.068, 58.816, 60.186, 60.94, 57.932, 59.86, 61.144, 57.388, 53.506, 50.496, 53.226, 51.556, 55.836, 60.836, 60.308, 61.82, 63.306, 62.11, 62.712, 64.27, 65.12, 65.326, 68.368, 69.102, 65.434, 65.82, 66.46, 65.64, 66.67, 67.024, 66.186, 68.612, 70.198, 71.484, 70.41, 69.234, 66.66, 66.954, 67.098, 66.813, 64.462, 64.732, 63.146, 62.084, 63.046, 69.0, 66.794, 66.626, 68.75, 69.85, 70.862, 69.164, 69.906, 68.57, 67.528, 69.178, 70.558, 70.312, 70.004, 68.914, 69.432, 68.012, 67.244, 67.59, 66.96, 66.738, 67.282, 63.316, 62.924, 63.45, 64.106, 62.27, 63.072, 62.328, 63.458, 65.04, 66.332, 65.796, 66.22, 67.774, 68.69, 67.578, 67.806, 68.206, 65.782, 63.026, 62.248, 62.652, 60.74, 61.04, 61.306, 61.77, 61.508, 63.51, 63.362, 63.11, 62.52, 63.562, 61.748, 63.01, 62.5, 62.26, 61.74, 63.08, 60.598, 60.598, 60.878, 61.21, 60.556, 61.218, 59.852, 64.216, 66.306, 64.016, 64.174, 65.234, 65.168, 67.468, 67.404, 69.02, 70.362, 71.93, 71.15, 70.12, 71.114, 71.136, 70.92, 71.118, 68.588, 71.376, 71.066, 71.002, 69.628, 68.306, 68.22, 67.92, 68.194, 69.05, 68.998, 70.218, 73.296, 74.782, 75.02, 77.0, 75.962, 75.528, 73.246, 72.55, 72.738, 68.68, 70.122, 68.906, 69.918, 71.08, 71.18, 70.636, 69.472, 69.132, 69.61, 70.586, 70.554, 68.27, 67.572, 69.492, 70.384, 72.582, 72.466, 72.76, 71.574, 71.08, 72.706, 73.044, 71.034, 71.382, 69.418, 65.178, 63.914, 64.694, 67.014, 66.892, 68.77, 67.92, 68.504, 65.68, 65.984, 65.052, 65.648, 63.914, 65.556, 64.682, 65.904, 65.444, 63.21, 62.644, 61.766, 65.418, 70.524, 72.322, 72.15, 74.248, 72.474, 75.498, 76.69, 76.522, 75.28, 74.448, 73.96, 74.28, 75.068, 76.132, 75.19, 71.802, 71.464, 74.0, 71.93, 70.57, 69.464, 67.97, 68.074, 68.202, 67.02, 65.028, 63.366, 62.044, 60.772, 62.07, 62.166, 62.612, 61.222, 63.402, 63.176, 64.962, 64.62, 65.044, 64.252, 61.438, 61.67, 59.092, 62.204, 63.778, 64.566, 62.814, 61.726, 62.034, 62.758, 61.606, 61.12, 60.502, 61.104, 60.05, 60.288, 60.8, 59.368, 61.742, 62.478, 60.508, 59.74, 59.0, 60.74, 59.704, 55.66, 55.584, 55.476, 55.49, 54.044, 52.632, 50.956, 51.002, 50.136, 52.384, 52.3, 52.41, 51.146, 51.6, 49.234, 48.738, 48.98, 49.374, 49.718, 50.242, 50.314, 50.096, 50.004, 49.998, 49.246, 51.4, 51.198, 54.702, 55.478, 54.446, 53.79, 55.952, 56.196, 56.12, 53.846, 53.84, 52.416, 51.496, 51.554, 50.266, 50.31, 49.848, 50.386, 50.126, 50.59, 50.502, 50.894, 50.922, 49.784, 48.946, 48.752, 47.672, 47.116, 47.55, 45.918, 45.946, 45.974, 46.256, 45.802, 45.35, 45.398, 43.398, 42.738, 42.936, 43.948, 43.906, 42.668, 41.69, 41.54, 41.758, 40.546, 40.498, 39.516, 39.738, 39.63, 38.486, 38.436, 38.458, 38.63, 37.17, 37.36, 36.294, 36.376, 37.88, 37.914, 39.224, 39.33, 38.628, 38.234, 36.904, 37.004, 37.732, 36.786, 36.754, 36.29, 37.712, 37.07, 38.012, 38.988, 38.642, 38.112, 37.484, 37.604, 38.158, 39.546, 39.994, 40.802, 40.448, 40.468, 40.552, 40.018, 39.82, 40.712, 39.82, 38.792, 39.302, 40.048, 40.302, 40.02, 40.19, 39.322, 40.2, 41.692, 42.282, 42.74, 40.806, 40.14, 41.254, 41.162, 41.798, 41.49, 41.286, 41.044, 40.928, 41.268, 41.08, 40.084, 39.282, 39.21, 39.66, 38.894, 39.472, 40.342, 40.566, 39.556, 40.154, 42.402, 42.268, 43.04, 43.998, 44.192, 44.524, 44.968, 44.586, 45.0, 44.702, 44.648, 44.722, 45.118, 45.122, 44.982, 45.13, 45.816, 45.232, 46.006, 46.122, 45.158, 45.44, 46.002, 46.958, 46.122, 45.698, 45.902, 46.002, 44.454, 44.1, 45.672, 45.052, 45.25, 44.08, 44.306, 44.506, 44.93, 44.956, 43.356, 43.188, 42.888, 42.796, 43.3, 42.456, 42.038, 40.358, 39.71, 38.63, 39.28, 39.332, 43.922, 43.94, 43.094, 43.586, 43.54, 42.992, 43.574, 43.758, 45.872, 47.104, 46.468, 44.136, 43.798, 43.792, 43.912, 44.646, 44.608, 45.024, 43.916, 43.582, 43.244, 44.056, 43.042, 42.234, 40.932, 41.658, 41.522, 41.456, 41.792, 41.738, 41.784, 42.986, 42.306, 44.512, 46.464, 48.36, 48.152, 49.542, 50.294, 50.748, 50.364, 50.75, 49.658, 49.994, 49.474, 50.776, 50.902, 50.372, 50.906, 49.564, 49.984, 50.014, 51.44, 53.084, 51.094, 49.398, 47.518, 45.954, 45.378, 46.026, 46.052, 45.55, 44.516, 46.848, 47.664, 46.548, 45.276, 44.386, 43.668, 43.03, 41.5, 41.036, 41.744, 40.52, 41.058, 40.208, 39.148, 37.668, 37.27, 38.386, 38.068, 37.486, 35.8, 35.442, 35.548, 33.316, 33.354, 33.736, 31.034, 30.208, 30.094, 28.734, 29.65, 29.598, 32.52, 35.066, 34.696, 36.556, 39.388, 38.24, 37.94, 37.614, 38.712, 39.276, 40.51, 39.994, 39.74, 40.944, 40.998, 41.236, 40.062, 41.994, 41.57, 42.2, 43.13, 43.808, 44.686, 44.682, 48.002, 47.618, 47.438, 45.79, 46.114, 45.94, 45.99, 46.512, 46.092, 46.678, 46.902, 44.218, 43.716, 43.404, 45.414, 44.904, 45.344, 46.226, 46.076, 46.542, 46.398, 47.438, 46.052, 46.322, 45.928, 43.65, 43.55, 44.002, 44.36, 44.214, 42.8, 42.862, 41.438, 42.588, 43.816, 43.3, 45.066, 46.472, 46.354, 46.326, 41.67, 42.758, 41.386, 42.326, 42.592, 42.07, 43.052, 41.818, 42.344, 42.018, 42.606, 45.62, 45.402, 44.262, 43.376, 43.85, 43.116, 44.138, 45.344, 46.392, 48.292, 49.23, 49.514, 47.976, 49.68, 49.33, 49.686, 51.382, 52.624, 52.212, 52.188, 52.84, 52.124, 52.414, 52.45, 50.714, 50.638, 50.048, 49.696, 49.782, 49.634, 48.386, 49.114, 49.538, 47.726, 49.812, 49.696, 48.598, 44.968, 44.006, 43.774, 46.154, 48.436, 51.05, 52.144, 50.998, 48.63, 48.502, 47.634, 47.474, 48.228, 48.502, 49.226, 54.026, 53.256, 51.998, 53.23, 53.358, 52.764, 52.964, 50.602, 53.082, 53.44, 53.574, 53.354, 56.452, 54.932, 53.336, 52.628, 53.13, 52.432, 51.83, 51.584, 50.992, 53.576, 55.944, 56.004, 53.83, 53.652, 52.404, 53.418, 53.758, 53.034, 53.534, 51.958, 52.502, 52.378, 52.082, 50.624, 50.076, 50.138, 50.282, 50.14, 51.2, 51.258, 49.828, 49.184, 49.798, 49.67, 49.89, 50.16, 50.29, 49.486, 49.491, 49.546, 49.124, 48.87, 49.428, 49.75, 49.768, 48.82, 48.636, 48.948, 47.898, 47.322, 47.36, 46.086, 46.59, 46.102, 45.206, 45.21, 46.49, 46.096, 46.31, 43.685, 43.72, 43.888, 41.882, 41.054, 41.358, 41.34, 41.566, 41.492, 41.956, 42.18, 42.018, 41.534, 40.65, 40.62, 38.2, 37.518, 37.754, 38.114, 37.0, 38.081, 38.86, 40.344, 39.926, 39.616, 39.13, 40.142, 38.946, 39.14, 37.736, 38.214, 38.748, 38.064, 38.176, 38.776, 40.126, 40.487, 39.912, 39.465, 40.668, 41.438, 40.752, 40.822, 41.467, 43.422, 42.341, 40.892, 40.87, 40.754, 40.576, 42.56, 43.258, 43.496, 43.472, 44.198, 43.71, 43.672, 42.188, 40.72, 41.04, 39.874, 41.196, 41.31, 40.258, 40.324, 39.314, 38.386, 38.614, 38.374, 38.538, 40.85, 40.442, 41.332, 42.123, 42.19, 42.256, 42.018, 43.862, 44.482, 44.446, 45.142, 45.564, 44.452, 44.194, 44.52, 43.858, 43.652, 41.164, 39.562, 40.808, 41.4, 41.776, 41.968, 43.378, 42.872, 44.742, 45.656, 45.86, 46.286, 46.328, 48.904, 49.688, 49.618, 49.344, 48.556, 49.742, 49.548, 51.54, 50.796, 51.736, 50.34, 49.82, 50.216, 48.386, 48.04, 48.244, 46.194, 47.786, 48.518, 48.34, 47.732, 47.62, 48.554, 44.334, 47.048, 47.058, 46.22, 47.068, 46.094, 45.496, 45.27, 45.94, 45.412, 44.918, 47.382, 51.402, 51.856, 51.914, 52.124, 51.042, 50.284, 48.048, 48.536, 49.052, 49.32, 49.39, 50.428, 50.082, 50.006, 51.864, 52.764, 52.276, 52.148, 50.772, 55.84, 56.062, 56.22, 55.696, 56.422, 55.478, 57.208, 56.238, 56.824, 53.94, 52.772, 52.65, 52.348, 52.51, 51.356, 50.868, 51.142, 51.352, 51.988, 52.402, 52.276, 52.062, 51.992, 51.864, 49.626, 50.478, 49.786, 47.698, 47.704, 46.654, 44.66, 45.784, 45.002, 44.964, 44.714, 44.708, 44.498, 43.916, 44.108, 44.004, 43.08, 43.432, 43.916, 45.34, 43.626, 43.892, 44.612, 43.814, 44.532, 45.85, 45.885, 47.944, 48.012, 47.812, 47.12, 47.3782, 46.5, 47.444, 45.918, 45.558, 45.424, 46.334, 44.922, 41.284, 40.704, 40.894, 40.46, 41.062, 41.6342, 41.38, 40.798, 40.988, 40.94, 41.554, 42.048, 42.048, 42.312, 41.46, 40.976, 39.89, 39.06, 39.218, 38.312, 37.718, 38.124, 38.032, 36.934, 36.452, 35.718, 40.27, 41.456, 43.322, 42.182, 41.546, 41.578, 41.384, 39.702, 39.97, 41.572, 41.598, 43.728, 40.876, 39.624, 39.822, 38.782, 39.618, 40.756, 40.838, 43.386, 43.092, 41.504, 42.445, 45.08, 46.058, 43.394, 41.69, 42.474, 41.464, 42.592, 44.088, 44.034, 45.778, 46.982, 47.168, 48.008, 46.796, 46.194, 47.558, 48.298, 46.882, 47.768, 49.242, 50.588, 50.532, 50.968, 50.112, 48.962, 50.508, 50.6, 49.6, 43.53, 41.92, 41.994, 38.728, 40.74, 39.646, 39.926, 39.064, 39.324, 39.312, 37.306, 35.676, 34.884, 35.746, 35.422, 36.282, 36.568, 35.046, 35.676, 33.924, 34.92, 36.3, 35.712, 35.336, 34.002, 34.194, 32.826, 32.254, 27.868, 29.144, 29.506, 30.256, 29.872, 29.4, 29.912, 30.02, 30.0858, 30.488, 30.224, 31.1, 30.282, 28.71, 28.648, 28.144, 29.596, 30.492, 29.588, 29.5308, 29.494, 27.93, 28.438, 28.32, 27.472, 28.096, 27.79, 28.94, 24.834, 25.456, 25.388, 24.1, 24.168, 24.276, 24.42, 24.222, 25.218, 24.316, 27.09, 27.52, 27.74, 27.56, 28.9396, 27.59, 27.9544, 30.232, 35.362, 35.04, 32.434, 31.988, 31.844, 32.894, 32.572, 33.932, 34.63, 32.9, 34.308, 34.52, 36.68, 36.5604, 36.712, 36.788, 35.944, 35.74, 34.586, 33.756, 34.946, 36.614, 36.196, 34.662, 36.19, 38.6, 38.674, 38.18, 37.728, 37.0476, 36.466, 36.222, 36.678, 35.584, 33.2436, 33.246, 33.316, 33.108, 32.986, 32.704, 33.274, 32.14, 33.394, 33.986, 34.1244, 33.788, 33.8, 33.212, 33.29, 33.402, 32.844, 32.3678, 31.42, 29.572, 29.916, 28.98, 28.4, 27.934, 27.872, 29.086, 29.476, 30.6, 30.696, 26.846, 28.43, 28.936, 27.6, 27.11, 26.856, 26.348, 26.924, 25.878, 24.814, 24.34, 24.548, 24.486, 23.936, 23.806, 24.05, 21.81, 25.452, 25.98, 25.122, 24.454, 24.69, 24.322, 24.018, 23.048, 23.564, 23.4358, 21.472, 21.85, 21.144, 20.48, 20.298, 19.91, 20.13, 20.936, 20.678, 20.44, 20.06, 19.636, 19.546, 18.894, 20.01, 20.408, 19.47, 19.074, 18.968, 18.518, 19.552, 20.99, 20.9258, 22.0668, 19.416, 18.546, 17.448, 17.518, 17.988, 18.3, 18.4496, 16.9684, 16.648, 17.56, 15.3528, 13.88, 11.1573, 11.102, 11.9, 10.91, 10.822, 10.656, 10.798, 10.988, 10.24, 10.4, 10.086, 10.202, 10.038, 9.566, 9.394, 9.09, 9.118, 8.66, 8.75, 8.718, 8.372, 8.1, 8.366, 8.274, 8.402, 8.22, 8.868, 8.786, 7.578, 7.632, 7.572, 7.506, 7.324, 7.202, 7.19, 7.016, 7.03, 7.058, 7.37, 7.796, 7.824, 7.82, 7.694, 7.646, 7.538, 7.33, 7.116, 6.93, 6.966, 7.02, 6.886, 6.876, 7.222, 7.032, 7.708, 7.856, 7.408, 7.66, 7.69, 7.578, 7.684, 7.848, 7.896, 7.834, 7.626, 7.548, 7.66, 7.502, 7.504, 7.59, 7.606, 7.396, 7.398, 7.2, 7.038, 6.904, 6.876, 6.82, 6.78, 6.652, 6.582, 6.706, 6.728, 6.736, 6.868, 6.88, 6.954, 7.072, 6.774, 6.644, 6.738, 6.718, 6.856, 6.8, 6.886, 6.922, 6.918, 6.88, 6.762, 6.722, 7.052, 7.056, 6.914, 6.834, 6.78, 6.742, 6.78, 6.924, 6.764, 6.738, 6.646, 6.43, 6.454, 6.426, 6.494, 6.6, 6.584, 6.368, 6.164, 6.276, 6.3229, 6.214, 6.064, 6.262, 6.308, 6.23, 6.3, 5.7836, 5.8491, 5.6263, 5.476, 5.504, 5.484, 5.678, 5.57, 5.548, 5.608, 5.7638, 5.612, 5.466, 5.528, 5.664, 5.68, 5.674, 5.85, 5.778, 5.88, 5.86, 5.96, 5.832, 5.856, 5.698, 5.508, 5.532, 6.132, 6.004, 6.18, 6.21, 6.268, 6.508, 6.078, 5.896, 5.656, 5.56, 5.474, 5.87, 5.71, 5.588, 5.628, 5.704, 5.682, 5.682, 5.738, 5.664, 5.9, 6.146, 5.99, 5.822, 5.902, 6.002, 6.06, 5.88, 5.884, 6.234, 5.988, 5.882, 5.818, 6.05, 5.654, 5.454, 5.22, 5.25, 5.484, 5.47, 5.902, 5.626, 5.79, 5.968, 6.132, 6.358, 6.454, 6.43, 6.67, 7.192, 6.85, 6.54, 6.302, 6.254, 6.298, 6.198, 6.246, 6.132, 6.08, 6.258, 6.282, 6.392, 6.322, 6.622, 6.757, 6.438, 6.756, 6.418, 6.368, 5.982, 5.878, 5.954, 5.932, 5.824, 6.016, 5.786, 5.844, 5.582, 5.576, 5.63, 5.9, 6.082, 6.338, 5.962, 6.064, 6.204, 6.158, 5.754, 5.512, 5.714, 5.836, 5.886, 6.012, 6.45, 6.592, 6.012, 6.038, 6.494, 6.366, 6.492, 6.788, 6.756, 6.626, 6.668, 6.698, 6.582, 6.364, 6.388, 6.632, 6.632, 6.532, 6.448, 6.45, 6.718, 6.688, 6.618, 6.492, 6.63, 6.896, 7.0, 7.602, 7.316, 7.448, 7.466, 7.57, 7.588, 7.48, 6.816, 6.88, 7.03, 6.992, 6.996, 7.064, 7.0, 7.058, 7.218, 7.202, 6.948, 6.614, 6.624, 6.622, 6.754, 6.808, 6.882, 6.682, 6.762, 6.724, 6.75, 6.906, 6.844, 6.9, 6.994, 6.836, 6.72, 6.634, 6.298, 6.22, 6.516, 6.386, 6.32, 6.36, 6.23, 6.05, 5.916, 5.814, 5.914, 5.866, 5.788, 5.594, 5.484, 5.354, 5.32, 5.352, 5.362, 5.32, 4.558, 5.65, 5.646, 5.524, 5.45, 5.382, 5.424, 5.542, 5.616, 5.712, 5.746, 5.702, 5.714, 5.58, 5.554, 5.514, 5.58, 5.55, 5.6, 5.724, 5.706, 5.89, 6.082, 6.208, 6.178, 6.838, 6.974, 6.884, 6.66, 6.52, 6.548, 6.35, 6.512, 6.332, 6.29, 6.414, 6.352, 6.52, 6.736, 6.988, 6.786, 6.644, 6.728, 6.266, 6.176, 6.368, 6.254, 6.462, 6.492, 5.742, 5.776, 5.874, 5.974, 5.752, 5.596, 5.65, 5.71, 5.606, 5.468, 5.514, 5.668, 5.484, 5.61, 5.588, 5.56, 5.522, 5.576, 5.398, 5.392, 5.074, 4.732, 4.746, 4.878, 4.824, 4.918, 5.238, 5.104, 5.276, 5.126, 5.17, 5.202, 5.154, 5.16, 4.964, 4.868, 4.816, 4.576, 4.594, 4.722, 4.768, 4.588, 4.614, 4.8, 4.948, 4.926, 4.942, 4.746, 4.622, 4.774, 4.592, 4.39, 4.46, 4.852, 5.166, 5.22, 5.246, 5.262, 5.06, 4.764, 5.012, 4.728, 4.848, 4.95, 5.44, 5.468, 5.754, 5.634, 5.634, 5.528, 5.6, 5.698, 5.858, 5.74, 5.738, 5.578, 5.446, 5.516, 5.522, 5.728, 5.634, 5.67, 5.762, 5.946, 5.792, 5.828, 5.804, 5.826, 5.658, 5.622, 5.492, 5.513, 5.542, 5.442, 5.506, 5.202, 5.3, 5.3, 5.464, 5.72, 5.686, 5.572]}],\n",
              "                        {\"template\": {\"data\": {\"bar\": [{\"error_x\": {\"color\": \"#2a3f5f\"}, \"error_y\": {\"color\": \"#2a3f5f\"}, \"marker\": {\"line\": {\"color\": \"#E5ECF6\", \"width\": 0.5}}, \"type\": \"bar\"}], \"barpolar\": [{\"marker\": {\"line\": {\"color\": \"#E5ECF6\", \"width\": 0.5}}, \"type\": \"barpolar\"}], \"carpet\": [{\"aaxis\": {\"endlinecolor\": \"#2a3f5f\", \"gridcolor\": \"white\", \"linecolor\": \"white\", \"minorgridcolor\": \"white\", \"startlinecolor\": \"#2a3f5f\"}, \"baxis\": {\"endlinecolor\": \"#2a3f5f\", \"gridcolor\": \"white\", \"linecolor\": \"white\", \"minorgridcolor\": \"white\", \"startlinecolor\": \"#2a3f5f\"}, \"type\": \"carpet\"}], \"choropleth\": [{\"colorbar\": {\"outlinewidth\": 0, \"ticks\": \"\"}, \"type\": \"choropleth\"}], \"contour\": [{\"colorbar\": {\"outlinewidth\": 0, \"ticks\": \"\"}, \"colorscale\": [[0.0, \"#0d0887\"], [0.1111111111111111, \"#46039f\"], [0.2222222222222222, \"#7201a8\"], [0.3333333333333333, \"#9c179e\"], [0.4444444444444444, \"#bd3786\"], [0.5555555555555556, \"#d8576b\"], [0.6666666666666666, \"#ed7953\"], [0.7777777777777778, \"#fb9f3a\"], [0.8888888888888888, \"#fdca26\"], [1.0, \"#f0f921\"]], \"type\": \"contour\"}], \"contourcarpet\": [{\"colorbar\": {\"outlinewidth\": 0, \"ticks\": \"\"}, \"type\": \"contourcarpet\"}], \"heatmap\": [{\"colorbar\": {\"outlinewidth\": 0, \"ticks\": \"\"}, \"colorscale\": [[0.0, \"#0d0887\"], [0.1111111111111111, \"#46039f\"], [0.2222222222222222, \"#7201a8\"], [0.3333333333333333, \"#9c179e\"], [0.4444444444444444, \"#bd3786\"], [0.5555555555555556, \"#d8576b\"], [0.6666666666666666, \"#ed7953\"], [0.7777777777777778, \"#fb9f3a\"], [0.8888888888888888, \"#fdca26\"], [1.0, \"#f0f921\"]], \"type\": \"heatmap\"}], \"heatmapgl\": [{\"colorbar\": {\"outlinewidth\": 0, \"ticks\": \"\"}, \"colorscale\": [[0.0, \"#0d0887\"], [0.1111111111111111, \"#46039f\"], [0.2222222222222222, \"#7201a8\"], [0.3333333333333333, \"#9c179e\"], [0.4444444444444444, \"#bd3786\"], [0.5555555555555556, \"#d8576b\"], [0.6666666666666666, \"#ed7953\"], [0.7777777777777778, \"#fb9f3a\"], [0.8888888888888888, \"#fdca26\"], [1.0, \"#f0f921\"]], \"type\": \"heatmapgl\"}], \"histogram\": [{\"marker\": {\"colorbar\": {\"outlinewidth\": 0, \"ticks\": \"\"}}, \"type\": \"histogram\"}], \"histogram2d\": [{\"colorbar\": {\"outlinewidth\": 0, \"ticks\": \"\"}, \"colorscale\": [[0.0, \"#0d0887\"], [0.1111111111111111, \"#46039f\"], [0.2222222222222222, \"#7201a8\"], [0.3333333333333333, \"#9c179e\"], [0.4444444444444444, \"#bd3786\"], [0.5555555555555556, \"#d8576b\"], [0.6666666666666666, \"#ed7953\"], [0.7777777777777778, \"#fb9f3a\"], [0.8888888888888888, \"#fdca26\"], [1.0, \"#f0f921\"]], \"type\": \"histogram2d\"}], \"histogram2dcontour\": [{\"colorbar\": {\"outlinewidth\": 0, \"ticks\": \"\"}, \"colorscale\": [[0.0, \"#0d0887\"], [0.1111111111111111, \"#46039f\"], [0.2222222222222222, \"#7201a8\"], [0.3333333333333333, \"#9c179e\"], [0.4444444444444444, \"#bd3786\"], [0.5555555555555556, \"#d8576b\"], [0.6666666666666666, \"#ed7953\"], [0.7777777777777778, \"#fb9f3a\"], [0.8888888888888888, \"#fdca26\"], [1.0, \"#f0f921\"]], \"type\": \"histogram2dcontour\"}], \"mesh3d\": [{\"colorbar\": {\"outlinewidth\": 0, \"ticks\": \"\"}, \"type\": \"mesh3d\"}], \"parcoords\": [{\"line\": {\"colorbar\": {\"outlinewidth\": 0, \"ticks\": \"\"}}, \"type\": \"parcoords\"}], \"pie\": [{\"automargin\": true, \"type\": \"pie\"}], \"scatter\": [{\"marker\": {\"colorbar\": {\"outlinewidth\": 0, \"ticks\": \"\"}}, \"type\": \"scatter\"}], \"scatter3d\": [{\"line\": {\"colorbar\": {\"outlinewidth\": 0, \"ticks\": \"\"}}, \"marker\": {\"colorbar\": {\"outlinewidth\": 0, \"ticks\": \"\"}}, \"type\": \"scatter3d\"}], \"scattercarpet\": [{\"marker\": {\"colorbar\": {\"outlinewidth\": 0, \"ticks\": \"\"}}, \"type\": \"scattercarpet\"}], \"scattergeo\": [{\"marker\": {\"colorbar\": {\"outlinewidth\": 0, \"ticks\": \"\"}}, \"type\": \"scattergeo\"}], \"scattergl\": [{\"marker\": {\"colorbar\": {\"outlinewidth\": 0, \"ticks\": \"\"}}, \"type\": \"scattergl\"}], \"scattermapbox\": [{\"marker\": {\"colorbar\": {\"outlinewidth\": 0, \"ticks\": \"\"}}, \"type\": \"scattermapbox\"}], \"scatterpolar\": [{\"marker\": {\"colorbar\": {\"outlinewidth\": 0, \"ticks\": \"\"}}, \"type\": \"scatterpolar\"}], \"scatterpolargl\": [{\"marker\": {\"colorbar\": {\"outlinewidth\": 0, \"ticks\": \"\"}}, \"type\": \"scatterpolargl\"}], \"scatterternary\": [{\"marker\": {\"colorbar\": {\"outlinewidth\": 0, \"ticks\": \"\"}}, \"type\": \"scatterternary\"}], \"surface\": [{\"colorbar\": {\"outlinewidth\": 0, \"ticks\": \"\"}, \"colorscale\": [[0.0, \"#0d0887\"], [0.1111111111111111, \"#46039f\"], [0.2222222222222222, \"#7201a8\"], [0.3333333333333333, \"#9c179e\"], [0.4444444444444444, \"#bd3786\"], [0.5555555555555556, \"#d8576b\"], [0.6666666666666666, \"#ed7953\"], [0.7777777777777778, \"#fb9f3a\"], [0.8888888888888888, \"#fdca26\"], [1.0, \"#f0f921\"]], \"type\": \"surface\"}], \"table\": [{\"cells\": {\"fill\": {\"color\": \"#EBF0F8\"}, \"line\": {\"color\": \"white\"}}, \"header\": {\"fill\": {\"color\": \"#C8D4E3\"}, \"line\": {\"color\": \"white\"}}, \"type\": \"table\"}]}, \"layout\": {\"annotationdefaults\": {\"arrowcolor\": \"#2a3f5f\", \"arrowhead\": 0, \"arrowwidth\": 1}, \"coloraxis\": {\"colorbar\": {\"outlinewidth\": 0, \"ticks\": \"\"}}, \"colorscale\": {\"diverging\": [[0, \"#8e0152\"], [0.1, \"#c51b7d\"], [0.2, \"#de77ae\"], [0.3, \"#f1b6da\"], [0.4, \"#fde0ef\"], [0.5, \"#f7f7f7\"], [0.6, \"#e6f5d0\"], [0.7, \"#b8e186\"], [0.8, \"#7fbc41\"], [0.9, \"#4d9221\"], [1, \"#276419\"]], \"sequential\": [[0.0, \"#0d0887\"], [0.1111111111111111, \"#46039f\"], [0.2222222222222222, \"#7201a8\"], [0.3333333333333333, \"#9c179e\"], [0.4444444444444444, \"#bd3786\"], [0.5555555555555556, \"#d8576b\"], [0.6666666666666666, \"#ed7953\"], [0.7777777777777778, \"#fb9f3a\"], [0.8888888888888888, \"#fdca26\"], [1.0, \"#f0f921\"]], \"sequentialminus\": [[0.0, \"#0d0887\"], [0.1111111111111111, \"#46039f\"], [0.2222222222222222, \"#7201a8\"], [0.3333333333333333, \"#9c179e\"], [0.4444444444444444, \"#bd3786\"], [0.5555555555555556, \"#d8576b\"], [0.6666666666666666, \"#ed7953\"], [0.7777777777777778, \"#fb9f3a\"], [0.8888888888888888, \"#fdca26\"], [1.0, \"#f0f921\"]]}, \"colorway\": [\"#636efa\", \"#EF553B\", \"#00cc96\", \"#ab63fa\", \"#FFA15A\", \"#19d3f3\", \"#FF6692\", \"#B6E880\", \"#FF97FF\", \"#FECB52\"], \"font\": {\"color\": \"#2a3f5f\"}, \"geo\": {\"bgcolor\": \"white\", \"lakecolor\": \"white\", \"landcolor\": \"#E5ECF6\", \"showlakes\": true, \"showland\": true, \"subunitcolor\": \"white\"}, \"hoverlabel\": {\"align\": \"left\"}, \"hovermode\": \"closest\", \"mapbox\": {\"style\": \"light\"}, \"paper_bgcolor\": \"white\", \"plot_bgcolor\": \"#E5ECF6\", \"polar\": {\"angularaxis\": {\"gridcolor\": \"white\", \"linecolor\": \"white\", \"ticks\": \"\"}, \"bgcolor\": \"#E5ECF6\", \"radialaxis\": {\"gridcolor\": \"white\", \"linecolor\": \"white\", \"ticks\": \"\"}}, \"scene\": {\"xaxis\": {\"backgroundcolor\": \"#E5ECF6\", \"gridcolor\": \"white\", \"gridwidth\": 2, \"linecolor\": \"white\", \"showbackground\": true, \"ticks\": \"\", \"zerolinecolor\": \"white\"}, \"yaxis\": {\"backgroundcolor\": \"#E5ECF6\", \"gridcolor\": \"white\", \"gridwidth\": 2, \"linecolor\": \"white\", \"showbackground\": true, \"ticks\": \"\", \"zerolinecolor\": \"white\"}, \"zaxis\": {\"backgroundcolor\": \"#E5ECF6\", \"gridcolor\": \"white\", \"gridwidth\": 2, \"linecolor\": \"white\", \"showbackground\": true, \"ticks\": \"\", \"zerolinecolor\": \"white\"}}, \"shapedefaults\": {\"line\": {\"color\": \"#2a3f5f\"}}, \"ternary\": {\"aaxis\": {\"gridcolor\": \"white\", \"linecolor\": \"white\", \"ticks\": \"\"}, \"baxis\": {\"gridcolor\": \"white\", \"linecolor\": \"white\", \"ticks\": \"\"}, \"bgcolor\": \"#E5ECF6\", \"caxis\": {\"gridcolor\": \"white\", \"linecolor\": \"white\", \"ticks\": \"\"}}, \"title\": {\"x\": 0.05}, \"xaxis\": {\"automargin\": true, \"gridcolor\": \"white\", \"linecolor\": \"white\", \"ticks\": \"\", \"title\": {\"standoff\": 15}, \"zerolinecolor\": \"white\", \"zerolinewidth\": 2}, \"yaxis\": {\"automargin\": true, \"gridcolor\": \"white\", \"linecolor\": \"white\", \"ticks\": \"\", \"title\": {\"standoff\": 15}, \"zerolinecolor\": \"white\", \"zerolinewidth\": 2}}}, \"title\": {\"text\": \"Stock prices of Tesla\"}, \"xaxis\": {\"title\": {\"font\": {\"color\": \"#7f7f7f\", \"family\": \"Courier New, monospace\", \"size\": 19}, \"text\": \"Date\"}}, \"yaxis\": {\"title\": {\"font\": {\"color\": \"#7f7f7f\", \"family\": \"Courier New, monospace\", \"size\": 19}, \"text\": \"Close\"}}},\n",
              "                        {\"responsive\": true}\n",
              "                    ).then(function(){\n",
              "                            \n",
              "var gd = document.getElementById('bbcf957f-da5c-473e-8fd9-7b4b8edb16d6');\n",
              "var x = new MutationObserver(function (mutations, observer) {{\n",
              "        var display = window.getComputedStyle(gd).display;\n",
              "        if (!display || display === 'none') {{\n",
              "            console.log([gd, 'removed!']);\n",
              "            Plotly.purge(gd);\n",
              "            observer.disconnect();\n",
              "        }}\n",
              "}});\n",
              "\n",
              "// Listen for the removal of the full notebook cells\n",
              "var notebookContainer = gd.closest('#notebook-container');\n",
              "if (notebookContainer) {{\n",
              "    x.observe(notebookContainer, {childList: true});\n",
              "}}\n",
              "\n",
              "// Listen for the clearing of the current output cell\n",
              "var outputEl = gd.closest('.output');\n",
              "if (outputEl) {{\n",
              "    x.observe(outputEl, {childList: true});\n",
              "}}\n",
              "\n",
              "                        })\n",
              "                };\n",
              "                \n",
              "            </script>\n",
              "        </div>\n",
              "</body>\n",
              "</html>"
            ]
          },
          "metadata": {
            "tags": []
          }
        }
      ]
    },
    {
      "cell_type": "code",
      "metadata": {
        "colab": {
          "base_uri": "https://localhost:8080/",
          "height": 279
        },
        "id": "PyEeZGGCZ-NG",
        "outputId": "dbeb9e04-6260-4183-e861-738685edea11"
      },
      "source": [
        "plt.bar(tsla['Open'], tsla['Close'],width = 5.0, align='center',color='#ffd343')\n",
        "plt.xlabel('Open')\n",
        "plt.ylabel('Close')\n",
        "plt.show()"
      ],
      "execution_count": 28,
      "outputs": [
        {
          "output_type": "display_data",
          "data": {
            "image/png": "[encoded data removed]",
            "text/plain": [
              "<Figure size 432x288 with 1 Axes>"
            ]
          },
          "metadata": {
            "tags": [],
            "needs_background": "light"
          }
        }
      ]
    },
    {
      "cell_type": "code",
      "metadata": {
        "colab": {
          "base_uri": "https://localhost:8080/",
          "height": 461
        },
        "id": "CMD-6GcMaKx7",
        "outputId": "c302a1e8-cd3a-48ea-ea44-7b8daf4880ce"
      },
      "source": [
        "tsla['Open'].plot(label='Open',figsize=(15,7))\n",
        "tsla['Close'].plot(label='Close')\n",
        "plt.legend()\n",
        "plt.title(\"Open vs Close\")"
      ],
      "execution_count": 29,
      "outputs": [
        {
          "output_type": "execute_result",
          "data": {
            "text/plain": [
              "Text(0.5, 1.0, 'Open vs Close')"
            ]
          },
          "metadata": {
            "tags": []
          },
          "execution_count": 29
        },
        {
          "output_type": "display_data",
          "data": {
            "image/png": "[encoded data removed]",
            "text/plain": [
              "<Figure size 1080x504 with 1 Axes>"
            ]
          },
          "metadata": {
            "tags": [],
            "needs_background": "light"
          }
        }
      ]
    },
    {
      "cell_type": "code",
      "metadata": {
        "colab": {
          "base_uri": "https://localhost:8080/",
          "height": 290
        },
        "id": "URpYxqg1adBq",
        "outputId": "3d95aae9-7cd5-48f3-8946-a637009d1127"
      },
      "source": [
        "plt.bar(tsla['Close'], tsla['Volume'],width = 5.0, align='center',color='Green')\n",
        "plt.xlabel('Close')\n",
        "plt.ylabel('Volume')\n",
        "plt.show()"
      ],
      "execution_count": 30,
      "outputs": [
        {
          "output_type": "display_data",
          "data": {
            "image/png": "[encoded data removed]",
            "text/plain": [
              "<Figure size 432x288 with 1 Axes>"
            ]
          },
          "metadata": {
            "tags": [],
            "needs_background": "light"
          }
        }
      ]
    },
    {
      "cell_type": "code",
      "metadata": {
        "colab": {
          "base_uri": "https://localhost:8080/",
          "height": 402
        },
        "id": "mXh5yAPvanz3",
        "outputId": "dc3afd24-3a5b-4b1a-8f87-57f3aa7f36ec"
      },
      "source": [
        "tsla['Volume'].plot(label='Volume',figsize=(13,6))\n",
        "plt.legend()"
      ],
      "execution_count": 31,
      "outputs": [
        {
          "output_type": "execute_result",
          "data": {
            "text/plain": [
              "<matplotlib.legend.Legend at 0x7f5f6a794550>"
            ]
          },
          "metadata": {
            "tags": []
          },
          "execution_count": 31
        },
        {
          "output_type": "display_data",
          "data": {
            "image/png": "[encoded data removed]",
            "text/plain": [
              "<Figure size 936x432 with 1 Axes>"
            ]
          },
          "metadata": {
            "tags": [],
            "needs_background": "light"
          }
        }
      ]
    },
    {
      "cell_type": "code",
      "metadata": {
        "colab": {
          "base_uri": "https://localhost:8080/",
          "height": 279
        },
        "id": "t-Af1l-AavLj",
        "outputId": "451d1d83-9349-4ccb-dd6f-fba18781a6b3"
      },
      "source": [
        "plt.bar(tsla['High'], tsla['Close'],width = 5.0, align='center',color='violet')\n",
        "plt.xlabel('High')\n",
        "plt.ylabel('Close')\n",
        "plt.show()"
      ],
      "execution_count": 32,
      "outputs": [
        {
          "output_type": "display_data",
          "data": {
            "image/png": "[encoded data removed]",
            "text/plain": [
              "<Figure size 432x288 with 1 Axes>"
            ]
          },
          "metadata": {
            "tags": [],
            "needs_background": "light"
          }
        }
      ]
    },
    {
      "cell_type": "code",
      "metadata": {
        "colab": {
          "base_uri": "https://localhost:8080/",
          "height": 461
        },
        "id": "paw0SOj0a4WQ",
        "outputId": "043e9f90-7624-416b-81ae-aa9c69acd9cd"
      },
      "source": [
        "tsla['High'].plot(label='High',figsize=(15,7))\n",
        "tsla['Close'].plot(label='Close')\n",
        "plt.legend()\n",
        "plt.title(\"High vs Close\")"
      ],
      "execution_count": 33,
      "outputs": [
        {
          "output_type": "execute_result",
          "data": {
            "text/plain": [
              "Text(0.5, 1.0, 'High vs Close')"
            ]
          },
          "metadata": {
            "tags": []
          },
          "execution_count": 33
        },
        {
          "output_type": "display_data",
          "data": {
            "image/png": "[encoded data removed]",
            "text/plain": [
              "<Figure size 1080x504 with 1 Axes>"
            ]
          },
          "metadata": {
            "tags": [],
            "needs_background": "light"
          }
        }
      ]
    },
    {
      "cell_type": "code",
      "metadata": {
        "colab": {
          "base_uri": "https://localhost:8080/",
          "height": 279
        },
        "id": "QJFZDZwObBT2",
        "outputId": "07686eaf-f242-4ded-9aea-81b7f866fca2"
      },
      "source": [
        "plt.bar(tsla['Low'], tsla['Close'],width = 5.0, align='center',color='maroon')\n",
        "plt.xlabel('Low')\n",
        "plt.ylabel('Close')\n",
        "plt.show()"
      ],
      "execution_count": 35,
      "outputs": [
        {
          "output_type": "display_data",
          "data": {
            "image/png": "[encoded data removed]",
            "text/plain": [
              "<Figure size 432x288 with 1 Axes>"
            ]
          },
          "metadata": {
            "tags": [],
            "needs_background": "light"
          }
        }
      ]
    },
    {
      "cell_type": "code",
      "metadata": {
        "colab": {
          "base_uri": "https://localhost:8080/",
          "height": 461
        },
        "id": "Q-_V6APxbH2j",
        "outputId": "35706f0d-940a-4160-9a42-fc43a7fd043f"
      },
      "source": [
        "tsla['Close'].plot(label='High',figsize=(15,7))\n",
        "tsla['Low'].plot(label='Low')\n",
        "plt.legend()\n",
        "plt.title(\"Close vs Low\")"
      ],
      "execution_count": 36,
      "outputs": [
        {
          "output_type": "execute_result",
          "data": {
            "text/plain": [
              "Text(0.5, 1.0, 'Close vs Low')"
            ]
          },
          "metadata": {
            "tags": []
          },
          "execution_count": 36
        },
        {
          "output_type": "display_data",
          "data": {
            "image/png": "[encoded data removed]",
            "text/plain": [
              "<Figure size 1080x504 with 1 Axes>"
            ]
          },
          "metadata": {
            "tags": [],
            "needs_background": "light"
          }
        }
      ]
    },
    {
      "cell_type": "code",
      "metadata": {
        "colab": {
          "base_uri": "https://localhost:8080/",
          "height": 279
        },
        "id": "RWh7xxnXbUKL",
        "outputId": "74b409f2-86ec-4719-8e72-145a18be21be"
      },
      "source": [
        "plt.bar(tsla['High'], tsla['Low'],width = 5.0, align='center',color = 'seagreen')\n",
        "plt.xlabel('High')\n",
        "plt.ylabel('Low')\n",
        "plt.show()"
      ],
      "execution_count": 37,
      "outputs": [
        {
          "output_type": "display_data",
          "data": {
            "image/png": "[encoded data removed]",
            "text/plain": [
              "<Figure size 432x288 with 1 Axes>"
            ]
          },
          "metadata": {
            "tags": [],
            "needs_background": "light"
          }
        }
      ]
    },
    {
      "cell_type": "code",
      "metadata": {
        "colab": {
          "base_uri": "https://localhost:8080/",
          "height": 461
        },
        "id": "IMvSN_yZbdP3",
        "outputId": "d38972cc-eefe-4c90-f0e9-baff0d7c8617"
      },
      "source": [
        "tsla['High'].plot(label='High',figsize=(15,7))\n",
        "tsla['Low'].plot(label='Low')\n",
        "plt.legend()\n",
        "plt.title(\"High vs Low\")"
      ],
      "execution_count": 38,
      "outputs": [
        {
          "output_type": "execute_result",
          "data": {
            "text/plain": [
              "Text(0.5, 1.0, 'High vs Low')"
            ]
          },
          "metadata": {
            "tags": []
          },
          "execution_count": 38
        },
        {
          "output_type": "display_data",
          "data": {
            "image/png": "[encoded data removed]",
            "text/plain": [
              "<Figure size 1080x504 with 1 Axes>"
            ]
          },
          "metadata": {
            "tags": [],
            "needs_background": "light"
          }
        }
      ]
    },
    {
      "cell_type": "code",
      "metadata": {
        "colab": {
          "base_uri": "https://localhost:8080/",
          "height": 489
        },
        "id": "UBDCpWgebmKR",
        "outputId": "ed8080bd-30da-4443-f7a2-48249cf5c65a"
      },
      "source": [
        "sns.set_theme()\n",
        "plt.figure(1 , figsize = (17 , 8))\n",
        "cor = sns.heatmap(tsla.corr(), annot = True ,vmin=0, vmax=1,cmap ='crest')"
      ],
      "execution_count": 39,
      "outputs": [
        {
          "output_type": "display_data",
          "data": {
            "image/png": "[encoded data removed]",
            "text/plain": [
              "<Figure size 1224x576 with 2 Axes>"
            ]
          },
          "metadata": {
            "tags": []
          }
        }
      ]
    },
    {
      "cell_type": "code",
      "metadata": {
        "colab": {
          "base_uri": "https://localhost:8080/",
          "height": 914
        },
        "id": "ZBsndXqobwRZ",
        "outputId": "1dda5ef6-0f62-41f4-fac8-01fa615edf5b"
      },
      "source": [
        "g = sns.PairGrid(tsla)\n",
        "g.map_upper(sns.scatterplot,color='orangered')\n",
        "g.map_lower(sns.scatterplot, color='darkcyan')\n",
        "g.map_diag(plt.hist,color = 'springgreen')"
      ],
      "execution_count": 40,
      "outputs": [
        {
          "output_type": "execute_result",
          "data": {
            "text/plain": [
              "<seaborn.axisgrid.PairGrid at 0x7f5f67217710>"
            ]
          },
          "metadata": {
            "tags": []
          },
          "execution_count": 40
        },
        {
          "output_type": "display_data",
          "data": {
            "image/png": "[encoded data removed]",
            "text/plain": [
              "<Figure size 900x900 with 30 Axes>"
            ]
          },
          "metadata": {
            "tags": []
          }
        }
      ]
    },
    {
      "cell_type": "code",
      "metadata": {
        "colab": {
          "base_uri": "https://localhost:8080/",
          "height": 627
        },
        "id": "u9qztsuob4__",
        "outputId": "4da71876-37e0-4b08-82f0-2dc3094d650a"
      },
      "source": [
        "tsla['Open'].plot(label='Open',figsize=(15,10))\n",
        "tsla['Low'].plot(label='Low')\n",
        "tsla['High'].plot(label='High')\n",
        "tsla['Close'].plot(label='Close')\n",
        "plt.legend()\n",
        "plt.title(\"Relation between Close, Open, High and Low \")"
      ],
      "execution_count": 41,
      "outputs": [
        {
          "output_type": "execute_result",
          "data": {
            "text/plain": [
              "Text(0.5, 1.0, 'Relation between Close, Open, High and Low ')"
            ]
          },
          "metadata": {
            "tags": []
          },
          "execution_count": 41
        },
        {
          "output_type": "display_data",
          "data": {
            "image/png": "[encoded data removed]",
            "text/plain": [
              "<Figure size 1080x720 with 1 Axes>"
            ]
          },
          "metadata": {
            "tags": []
          }
        }
      ]
    },
    {
      "cell_type": "code",
      "metadata": {
        "colab": {
          "resources": {
            "http://localhost:8080/nbextensions/google.colab/files.js": {
              "data": "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",
              "ok": true,
              "headers": [
                [
                  "content-type",
                  "application/javascript"
                ]
              ],
              "status": 200,
              "status_text": ""
            }
          },
          "base_uri": "https://localhost:8080/",
          "height": 276
        },
        "id": "lkFgKu2HcJzL",
        "outputId": "738b458b-14b9-43bf-9576-bb71275f56b3"
      },
      "source": [
        "uploaded = files.upload()"
      ],
      "execution_count": 42,
      "outputs": [
        {
          "output_type": "display_data",
          "data": {
            "text/html": [
              "\n",
              "     <input type=\"file\" id=\"files-f86a7005-731f-4c7a-a707-7943d91451e3\" name=\"files[]\" multiple disabled\n",
              "        style=\"border:none\" />\n",
              "     <output id=\"result-f86a7005-731f-4c7a-a707-7943d91451e3\">\n",
              "      Upload widget is only available when the cell has been executed in the\n",
              "      current browser session. Please rerun this cell to enable.\n",
              "      </output>\n",
              "      <script src=\"/nbextensions/google.colab/files.js\"></script> "
            ],
            "text/plain": [
              "<IPython.core.display.HTML object>"
            ]
          },
          "metadata": {
            "tags": []
          }
        },
        {
          "output_type": "stream",
          "text": [
            "Saving Headlines_2015.csv to Headlines_2015.csv\n",
            "Saving Headlines_2016.csv to Headlines_2016.csv\n",
            "Saving Headlines_2017.csv to Headlines_2017.csv\n",
            "Saving Headlines_2018.csv to Headlines_2018.csv\n",
            "Saving Headlines_2019.csv to Headlines_2019.csv\n",
            "Saving Headlines_2020.csv to Headlines_2020.csv\n",
            "Saving Headlines_2021.csv to Headlines_2021.csv\n"
          ],
          "name": "stdout"
        }
      ]
    },
    {
      "cell_type": "code",
      "metadata": {
        "id": "JT_3fSGEcQF7"
      },
      "source": [
        "df1 = pd.read_csv(io.BytesIO(uploaded['Headlines_2015.csv']),encoding='ISO-8859-1')\n",
        "df2 = pd.read_csv(io.BytesIO(uploaded['Headlines_2016.csv']),encoding='ISO-8859-1')\n",
        "df3 = pd.read_csv(io.BytesIO(uploaded['Headlines_2017.csv']),encoding='ISO-8859-1')\n",
        "df4 = pd.read_csv(io.BytesIO(uploaded['Headlines_2018.csv']),encoding='ISO-8859-1')\n",
        "df5 = pd.read_csv(io.BytesIO(uploaded['Headlines_2019.csv']),encoding='ISO-8859-1')\n",
        "df6 = pd.read_csv(io.BytesIO(uploaded['Headlines_2020.csv']),encoding='ISO-8859-1')\n",
        "df7 = pd.read_csv(io.BytesIO(uploaded['Headlines_2021.csv']),encoding='ISO-8859-1')"
      ],
      "execution_count": 43,
      "outputs": []
    },
    {
      "cell_type": "code",
      "metadata": {
        "colab": {
          "base_uri": "https://localhost:8080/",
          "height": 419
        },
        "id": "BsQdR7Qse12Y",
        "outputId": "f5e711dc-1053-4e10-d7bd-1af907c3cbff"
      },
      "source": [
        "news=pd.concat([df1,df2,df3,df4,df5,df6,df7])\n",
        "news"
      ],
      "execution_count": 44,
      "outputs": [
        {
          "output_type": "execute_result",
          "data": {
            "text/html": [
              "<div>\n",
              "<style scoped>\n",
              "    .dataframe tbody tr th:only-of-type {\n",
              "        vertical-align: middle;\n",
              "    }\n",
              "\n",
              "    .dataframe tbody tr th {\n",
              "        vertical-align: top;\n",
              "    }\n",
              "\n",
              "    .dataframe thead th {\n",
              "        text-align: right;\n",
              "    }\n",
              "</style>\n",
              "<table border=\"1\" class=\"dataframe\">\n",
              "  <thead>\n",
              "    <tr style=\"text-align: right;\">\n",
              "      <th></th>\n",
              "      <th>Date</th>\n",
              "      <th>Headlines</th>\n",
              "    </tr>\n",
              "  </thead>\n",
              "  <tbody>\n",
              "    <tr>\n",
              "      <th>0</th>\n",
              "      <td>2015-01-01</td>\n",
              "      <td>What Can We Expect From Apple Inc. In 2015? 1 ...</td>\n",
              "    </tr>\n",
              "    <tr>\n",
              "      <th>1</th>\n",
              "      <td>2015-01-02</td>\n",
              "      <td>What to expect from Apple in 2015 beyond its s...</td>\n",
              "    </tr>\n",
              "    <tr>\n",
              "      <th>2</th>\n",
              "      <td>2015-01-03</td>\n",
              "      <td>Mountie: An inexpensive and innovative way to ...</td>\n",
              "    </tr>\n",
              "    <tr>\n",
              "      <th>3</th>\n",
              "      <td>2015-01-04</td>\n",
              "      <td>Donald Yacktman on the Sources of Moats, His C...</td>\n",
              "    </tr>\n",
              "    <tr>\n",
              "      <th>4</th>\n",
              "      <td>2015-01-05</td>\n",
              "      <td>SIM-free iPhone 6, 6 Plus reportedly debuting ...</td>\n",
              "    </tr>\n",
              "    <tr>\n",
              "      <th>...</th>\n",
              "      <td>...</td>\n",
              "      <td>...</td>\n",
              "    </tr>\n",
              "    <tr>\n",
              "      <th>169</th>\n",
              "      <td>2021-06-19</td>\n",
              "      <td>Best pre-Prime Day smartwatch deals on Apple W...</td>\n",
              "    </tr>\n",
              "    <tr>\n",
              "      <th>170</th>\n",
              "      <td>2021-06-20</td>\n",
              "      <td>iPhone 13 rumors: As Apple's fall event gets c...</td>\n",
              "    </tr>\n",
              "    <tr>\n",
              "      <th>171</th>\n",
              "      <td>2021-06-21</td>\n",
              "      <td>Apple is shortening new free TV Plus trials fr...</td>\n",
              "    </tr>\n",
              "    <tr>\n",
              "      <th>172</th>\n",
              "      <td>2021-06-22</td>\n",
              "      <td>Google likely to soon face antitrust claims ov...</td>\n",
              "    </tr>\n",
              "    <tr>\n",
              "      <th>173</th>\n",
              "      <td>2021-06-23</td>\n",
              "      <td>French court sets date in Apple case over App ...</td>\n",
              "    </tr>\n",
              "  </tbody>\n",
              "</table>\n",
              "<p>2365 rows × 2 columns</p>\n",
              "</div>"
            ],
            "text/plain": [
              "           Date                                          Headlines\n",
              "0    2015-01-01  What Can We Expect From Apple Inc. In 2015? 1 ...\n",
              "1    2015-01-02  What to expect from Apple in 2015 beyond its s...\n",
              "2    2015-01-03  Mountie: An inexpensive and innovative way to ...\n",
              "3    2015-01-04  Donald Yacktman on the Sources of Moats, His C...\n",
              "4    2015-01-05  SIM-free iPhone 6, 6 Plus reportedly debuting ...\n",
              "..          ...                                                ...\n",
              "169  2021-06-19  Best pre-Prime Day smartwatch deals on Apple W...\n",
              "170  2021-06-20  iPhone 13 rumors: As Apple's fall event gets c...\n",
              "171  2021-06-21  Apple is shortening new free TV Plus trials fr...\n",
              "172  2021-06-22  Google likely to soon face antitrust claims ov...\n",
              "173  2021-06-23  French court sets date in Apple case over App ...\n",
              "\n",
              "[2365 rows x 2 columns]"
            ]
          },
          "metadata": {
            "tags": []
          },
          "execution_count": 44
        }
      ]
    },
    {
      "cell_type": "code",
      "metadata": {
        "colab": {
          "base_uri": "https://localhost:8080/"
        },
        "id": "rw-yWt-ke-J4",
        "outputId": "e1d0ba35-0b5b-4f07-e8cd-408c3ede906a"
      },
      "source": [
        "news.isnull().sum()"
      ],
      "execution_count": 45,
      "outputs": [
        {
          "output_type": "execute_result",
          "data": {
            "text/plain": [
              "Date         0\n",
              "Headlines    0\n",
              "dtype: int64"
            ]
          },
          "metadata": {
            "tags": []
          },
          "execution_count": 45
        }
      ]
    },
    {
      "cell_type": "code",
      "metadata": {
        "colab": {
          "base_uri": "https://localhost:8080/",
          "height": 359
        },
        "id": "Jigd_Z7gfG86",
        "outputId": "127483a0-45d6-44ea-a3de-e52950eb5757"
      },
      "source": [
        "news.head(10)"
      ],
      "execution_count": 46,
      "outputs": [
        {
          "output_type": "execute_result",
          "data": {
            "text/html": [
              "<div>\n",
              "<style scoped>\n",
              "    .dataframe tbody tr th:only-of-type {\n",
              "        vertical-align: middle;\n",
              "    }\n",
              "\n",
              "    .dataframe tbody tr th {\n",
              "        vertical-align: top;\n",
              "    }\n",
              "\n",
              "    .dataframe thead th {\n",
              "        text-align: right;\n",
              "    }\n",
              "</style>\n",
              "<table border=\"1\" class=\"dataframe\">\n",
              "  <thead>\n",
              "    <tr style=\"text-align: right;\">\n",
              "      <th></th>\n",
              "      <th>Date</th>\n",
              "      <th>Headlines</th>\n",
              "    </tr>\n",
              "  </thead>\n",
              "  <tbody>\n",
              "    <tr>\n",
              "      <th>0</th>\n",
              "      <td>2015-01-01</td>\n",
              "      <td>What Can We Expect From Apple Inc. In 2015? 1 ...</td>\n",
              "    </tr>\n",
              "    <tr>\n",
              "      <th>1</th>\n",
              "      <td>2015-01-02</td>\n",
              "      <td>What to expect from Apple in 2015 beyond its s...</td>\n",
              "    </tr>\n",
              "    <tr>\n",
              "      <th>2</th>\n",
              "      <td>2015-01-03</td>\n",
              "      <td>Mountie: An inexpensive and innovative way to ...</td>\n",
              "    </tr>\n",
              "    <tr>\n",
              "      <th>3</th>\n",
              "      <td>2015-01-04</td>\n",
              "      <td>Donald Yacktman on the Sources of Moats, His C...</td>\n",
              "    </tr>\n",
              "    <tr>\n",
              "      <th>4</th>\n",
              "      <td>2015-01-05</td>\n",
              "      <td>SIM-free iPhone 6, 6 Plus reportedly debuting ...</td>\n",
              "    </tr>\n",
              "    <tr>\n",
              "      <th>5</th>\n",
              "      <td>2015-01-06</td>\n",
              "      <td>Technology Transforming Cars Into \"Phones On W...</td>\n",
              "    </tr>\n",
              "    <tr>\n",
              "      <th>6</th>\n",
              "      <td>2015-01-07</td>\n",
              "      <td>Apple issues fourth developer beta of OS X 10....</td>\n",
              "    </tr>\n",
              "    <tr>\n",
              "      <th>7</th>\n",
              "      <td>2015-01-08</td>\n",
              "      <td>Apple company recalls 2014 shipments after lin...</td>\n",
              "    </tr>\n",
              "    <tr>\n",
              "      <th>8</th>\n",
              "      <td>2015-01-09</td>\n",
              "      <td>Samsung is reportedly making a secret new chip...</td>\n",
              "    </tr>\n",
              "    <tr>\n",
              "      <th>9</th>\n",
              "      <td>2015-01-10</td>\n",
              "      <td>Eight years ago, Steve Jobs unveiled iPhone an...</td>\n",
              "    </tr>\n",
              "  </tbody>\n",
              "</table>\n",
              "</div>"
            ],
            "text/plain": [
              "         Date                                          Headlines\n",
              "0  2015-01-01  What Can We Expect From Apple Inc. In 2015? 1 ...\n",
              "1  2015-01-02  What to expect from Apple in 2015 beyond its s...\n",
              "2  2015-01-03  Mountie: An inexpensive and innovative way to ...\n",
              "3  2015-01-04  Donald Yacktman on the Sources of Moats, His C...\n",
              "4  2015-01-05  SIM-free iPhone 6, 6 Plus reportedly debuting ...\n",
              "5  2015-01-06  Technology Transforming Cars Into \"Phones On W...\n",
              "6  2015-01-07  Apple issues fourth developer beta of OS X 10....\n",
              "7  2015-01-08  Apple company recalls 2014 shipments after lin...\n",
              "8  2015-01-09  Samsung is reportedly making a secret new chip...\n",
              "9  2015-01-10  Eight years ago, Steve Jobs unveiled iPhone an..."
            ]
          },
          "metadata": {
            "tags": []
          },
          "execution_count": 46
        }
      ]
    },
    {
      "cell_type": "code",
      "metadata": {
        "colab": {
          "base_uri": "https://localhost:8080/",
          "height": 204
        },
        "id": "ktxRfOO8fLZq",
        "outputId": "17dc08e3-84af-4f26-eb0a-c2f274618021"
      },
      "source": [
        "news.tail()"
      ],
      "execution_count": 47,
      "outputs": [
        {
          "output_type": "execute_result",
          "data": {
            "text/html": [
              "<div>\n",
              "<style scoped>\n",
              "    .dataframe tbody tr th:only-of-type {\n",
              "        vertical-align: middle;\n",
              "    }\n",
              "\n",
              "    .dataframe tbody tr th {\n",
              "        vertical-align: top;\n",
              "    }\n",
              "\n",
              "    .dataframe thead th {\n",
              "        text-align: right;\n",
              "    }\n",
              "</style>\n",
              "<table border=\"1\" class=\"dataframe\">\n",
              "  <thead>\n",
              "    <tr style=\"text-align: right;\">\n",
              "      <th></th>\n",
              "      <th>Date</th>\n",
              "      <th>Headlines</th>\n",
              "    </tr>\n",
              "  </thead>\n",
              "  <tbody>\n",
              "    <tr>\n",
              "      <th>169</th>\n",
              "      <td>2021-06-19</td>\n",
              "      <td>Best pre-Prime Day smartwatch deals on Apple W...</td>\n",
              "    </tr>\n",
              "    <tr>\n",
              "      <th>170</th>\n",
              "      <td>2021-06-20</td>\n",
              "      <td>iPhone 13 rumors: As Apple's fall event gets c...</td>\n",
              "    </tr>\n",
              "    <tr>\n",
              "      <th>171</th>\n",
              "      <td>2021-06-21</td>\n",
              "      <td>Apple is shortening new free TV Plus trials fr...</td>\n",
              "    </tr>\n",
              "    <tr>\n",
              "      <th>172</th>\n",
              "      <td>2021-06-22</td>\n",
              "      <td>Google likely to soon face antitrust claims ov...</td>\n",
              "    </tr>\n",
              "    <tr>\n",
              "      <th>173</th>\n",
              "      <td>2021-06-23</td>\n",
              "      <td>French court sets date in Apple case over App ...</td>\n",
              "    </tr>\n",
              "  </tbody>\n",
              "</table>\n",
              "</div>"
            ],
            "text/plain": [
              "           Date                                          Headlines\n",
              "169  2021-06-19  Best pre-Prime Day smartwatch deals on Apple W...\n",
              "170  2021-06-20  iPhone 13 rumors: As Apple's fall event gets c...\n",
              "171  2021-06-21  Apple is shortening new free TV Plus trials fr...\n",
              "172  2021-06-22  Google likely to soon face antitrust claims ov...\n",
              "173  2021-06-23  French court sets date in Apple case over App ..."
            ]
          },
          "metadata": {
            "tags": []
          },
          "execution_count": 47
        }
      ]
    },
    {
      "cell_type": "code",
      "metadata": {
        "colab": {
          "base_uri": "https://localhost:8080/"
        },
        "id": "qeQNz83nfRSQ",
        "outputId": "e8d684a1-b78f-4eca-e46d-b3e0bdc2bf64"
      },
      "source": [
        "news.dtypes"
      ],
      "execution_count": 48,
      "outputs": [
        {
          "output_type": "execute_result",
          "data": {
            "text/plain": [
              "Date         object\n",
              "Headlines    object\n",
              "dtype: object"
            ]
          },
          "metadata": {
            "tags": []
          },
          "execution_count": 48
        }
      ]
    },
    {
      "cell_type": "code",
      "metadata": {
        "colab": {
          "base_uri": "https://localhost:8080/"
        },
        "id": "z0nHNjzvfROr",
        "outputId": "8319a0ed-6c02-4f61-a943-56dd796c4425"
      },
      "source": [
        "news['Date']=pd.to_datetime(news['Date'],format='%Y/%m/%d')\n",
        "news[\"Headlines\"]=news[\"Headlines\"].astype(str)\n",
        "news.dtypes"
      ],
      "execution_count": 49,
      "outputs": [
        {
          "output_type": "execute_result",
          "data": {
            "text/plain": [
              "Date         datetime64[ns]\n",
              "Headlines            object\n",
              "dtype: object"
            ]
          },
          "metadata": {
            "tags": []
          },
          "execution_count": 49
        }
      ]
    },
    {
      "cell_type": "code",
      "metadata": {
        "colab": {
          "base_uri": "https://localhost:8080/"
        },
        "id": "CwHHYyvPfREy",
        "outputId": "eb9b5291-c55e-42ad-dd67-d1557dcff317"
      },
      "source": [
        "import re\n",
        "import nltk\n",
        "nltk.download('stopwords')\n",
        "from nltk.corpus import stopwords"
      ],
      "execution_count": 50,
      "outputs": [
        {
          "output_type": "stream",
          "text": [
            "[nltk_data] Downloading package stopwords to /root/nltk_data...\n",
            "[nltk_data]   Unzipping corpora/stopwords.zip.\n"
          ],
          "name": "stdout"
        }
      ]
    },
    {
      "cell_type": "code",
      "metadata": {
        "id": "CpjbfsjJfRB6"
      },
      "source": [
        "news[\"Headlines\"]=news[\"Headlines\"].astype(str)\n",
        "news['Headlines']=news['Headlines'].apply(lambda x: x.lower())"
      ],
      "execution_count": 51,
      "outputs": []
    },
    {
      "cell_type": "code",
      "metadata": {
        "id": "A8twkjvafiPW"
      },
      "source": [
        "import string\n",
        "def char_rmvl(text):                 #Removing all char except a-z and A-Z and replace them with ' '\n",
        "    new=[char for char in text if char not in string.punctuation]\n",
        "    new_str=''.join(new)\n",
        "    new.clear()\n",
        "    return new_str\n",
        "news[\"Headlines\"]=news[\"Headlines\"].astype(str)\n",
        "news['Headlines']=news['Headlines'].apply(char_rmvl)"
      ],
      "execution_count": 52,
      "outputs": []
    },
    {
      "cell_type": "code",
      "metadata": {
        "colab": {
          "base_uri": "https://localhost:8080/",
          "height": 419
        },
        "id": "RokRHOlDfiMq",
        "outputId": "1a3bf51f-6ab3-43a4-e524-07af3397d916"
      },
      "source": [
        "stop = stopwords.words('english')\n",
        "news['Headlines'] = news['Headlines'].apply(lambda x: ' '.join([word for word in x.split() if word not in (stop)]))\n",
        "news"
      ],
      "execution_count": 53,
      "outputs": [
        {
          "output_type": "execute_result",
          "data": {
            "text/html": [
              "<div>\n",
              "<style scoped>\n",
              "    .dataframe tbody tr th:only-of-type {\n",
              "        vertical-align: middle;\n",
              "    }\n",
              "\n",
              "    .dataframe tbody tr th {\n",
              "        vertical-align: top;\n",
              "    }\n",
              "\n",
              "    .dataframe thead th {\n",
              "        text-align: right;\n",
              "    }\n",
              "</style>\n",
              "<table border=\"1\" class=\"dataframe\">\n",
              "  <thead>\n",
              "    <tr style=\"text-align: right;\">\n",
              "      <th></th>\n",
              "      <th>Date</th>\n",
              "      <th>Headlines</th>\n",
              "    </tr>\n",
              "  </thead>\n",
              "  <tbody>\n",
              "    <tr>\n",
              "      <th>0</th>\n",
              "      <td>2015-01-01</td>\n",
              "      <td>expect apple inc 2015 1 reason might wrong app...</td>\n",
              "    </tr>\n",
              "    <tr>\n",
              "      <th>1</th>\n",
              "      <td>2015-01-02</td>\n",
              "      <td>expect apple 2015 beyond smartwatch amazonquot...</td>\n",
              "    </tr>\n",
              "    <tr>\n",
              "      <th>2</th>\n",
              "      <td>2015-01-03</td>\n",
              "      <td>mountie inexpensive innovative way attach ipho...</td>\n",
              "    </tr>\n",
              "    <tr>\n",
              "      <th>3</th>\n",
              "      <td>2015-01-04</td>\n",
              "      <td>donald yacktman sources moats concern applequo...</td>\n",
              "    </tr>\n",
              "    <tr>\n",
              "      <th>4</th>\n",
              "      <td>2015-01-05</td>\n",
              "      <td>simfree iphone 6 6 plus reportedly debuting to...</td>\n",
              "    </tr>\n",
              "    <tr>\n",
              "      <th>...</th>\n",
              "      <td>...</td>\n",
              "      <td>...</td>\n",
              "    </tr>\n",
              "    <tr>\n",
              "      <th>169</th>\n",
              "      <td>2021-06-19</td>\n",
              "      <td>best preprime day smartwatch deals apple watch...</td>\n",
              "    </tr>\n",
              "    <tr>\n",
              "      <th>170</th>\n",
              "      <td>2021-06-20</td>\n",
              "      <td>iphone 13 rumors apples fall event gets closer...</td>\n",
              "    </tr>\n",
              "    <tr>\n",
              "      <th>171</th>\n",
              "      <td>2021-06-21</td>\n",
              "      <td>apple shortening new free tv plus trials year ...</td>\n",
              "    </tr>\n",
              "    <tr>\n",
              "      <th>172</th>\n",
              "      <td>2021-06-22</td>\n",
              "      <td>google likely soon face antitrust claims play ...</td>\n",
              "    </tr>\n",
              "    <tr>\n",
              "      <th>173</th>\n",
              "      <td>2021-06-23</td>\n",
              "      <td>french court sets date apple case app store de...</td>\n",
              "    </tr>\n",
              "  </tbody>\n",
              "</table>\n",
              "<p>2365 rows × 2 columns</p>\n",
              "</div>"
            ],
            "text/plain": [
              "          Date                                          Headlines\n",
              "0   2015-01-01  expect apple inc 2015 1 reason might wrong app...\n",
              "1   2015-01-02  expect apple 2015 beyond smartwatch amazonquot...\n",
              "2   2015-01-03  mountie inexpensive innovative way attach ipho...\n",
              "3   2015-01-04  donald yacktman sources moats concern applequo...\n",
              "4   2015-01-05  simfree iphone 6 6 plus reportedly debuting to...\n",
              "..         ...                                                ...\n",
              "169 2021-06-19  best preprime day smartwatch deals apple watch...\n",
              "170 2021-06-20  iphone 13 rumors apples fall event gets closer...\n",
              "171 2021-06-21  apple shortening new free tv plus trials year ...\n",
              "172 2021-06-22  google likely soon face antitrust claims play ...\n",
              "173 2021-06-23  french court sets date apple case app store de...\n",
              "\n",
              "[2365 rows x 2 columns]"
            ]
          },
          "metadata": {
            "tags": []
          },
          "execution_count": 53
        }
      ]
    },
    {
      "cell_type": "code",
      "metadata": {
        "colab": {
          "base_uri": "https://localhost:8080/",
          "height": 487
        },
        "id": "v9bKBOF3fiGp",
        "outputId": "d4521b53-5a38-4d52-8439-b0f21044d1ff"
      },
      "source": [
        "nltk.download('punkt')\n",
        "nltk.download('wordnet')\n",
        "from nltk.tokenize import word_tokenize\n",
        "from nltk.stem import WordNetLemmatizer  #used to perform lemmatization\n",
        "def lemmat(text):\n",
        "    lemma=WordNetLemmatizer()\n",
        "    words=word_tokenize(text)\n",
        "    return ' '.join([lemma.lemmatize(word) for word in words])\n",
        "news['Headlines'] = news['Headlines'].apply(lemmat)\n",
        "news"
      ],
      "execution_count": 54,
      "outputs": [
        {
          "output_type": "stream",
          "text": [
            "[nltk_data] Downloading package punkt to /root/nltk_data...\n",
            "[nltk_data]   Unzipping tokenizers/punkt.zip.\n",
            "[nltk_data] Downloading package wordnet to /root/nltk_data...\n",
            "[nltk_data]   Unzipping corpora/wordnet.zip.\n"
          ],
          "name": "stdout"
        },
        {
          "output_type": "execute_result",
          "data": {
            "text/html": [
              "<div>\n",
              "<style scoped>\n",
              "    .dataframe tbody tr th:only-of-type {\n",
              "        vertical-align: middle;\n",
              "    }\n",
              "\n",
              "    .dataframe tbody tr th {\n",
              "        vertical-align: top;\n",
              "    }\n",
              "\n",
              "    .dataframe thead th {\n",
              "        text-align: right;\n",
              "    }\n",
              "</style>\n",
              "<table border=\"1\" class=\"dataframe\">\n",
              "  <thead>\n",
              "    <tr style=\"text-align: right;\">\n",
              "      <th></th>\n",
              "      <th>Date</th>\n",
              "      <th>Headlines</th>\n",
              "    </tr>\n",
              "  </thead>\n",
              "  <tbody>\n",
              "    <tr>\n",
              "      <th>0</th>\n",
              "      <td>2015-01-01</td>\n",
              "      <td>expect apple inc 2015 1 reason might wrong app...</td>\n",
              "    </tr>\n",
              "    <tr>\n",
              "      <th>1</th>\n",
              "      <td>2015-01-02</td>\n",
              "      <td>expect apple 2015 beyond smartwatch amazonquot...</td>\n",
              "    </tr>\n",
              "    <tr>\n",
              "      <th>2</th>\n",
              "      <td>2015-01-03</td>\n",
              "      <td>mountie inexpensive innovative way attach ipho...</td>\n",
              "    </tr>\n",
              "    <tr>\n",
              "      <th>3</th>\n",
              "      <td>2015-01-04</td>\n",
              "      <td>donald yacktman source moat concern applequots...</td>\n",
              "    </tr>\n",
              "    <tr>\n",
              "      <th>4</th>\n",
              "      <td>2015-01-05</td>\n",
              "      <td>simfree iphone 6 6 plus reportedly debuting to...</td>\n",
              "    </tr>\n",
              "    <tr>\n",
              "      <th>...</th>\n",
              "      <td>...</td>\n",
              "      <td>...</td>\n",
              "    </tr>\n",
              "    <tr>\n",
              "      <th>169</th>\n",
              "      <td>2021-06-19</td>\n",
              "      <td>best preprime day smartwatch deal apple watch ...</td>\n",
              "    </tr>\n",
              "    <tr>\n",
              "      <th>170</th>\n",
              "      <td>2021-06-20</td>\n",
              "      <td>iphone 13 rumor apple fall event get closer se...</td>\n",
              "    </tr>\n",
              "    <tr>\n",
              "      <th>171</th>\n",
              "      <td>2021-06-21</td>\n",
              "      <td>apple shortening new free tv plus trial year t...</td>\n",
              "    </tr>\n",
              "    <tr>\n",
              "      <th>172</th>\n",
              "      <td>2021-06-22</td>\n",
              "      <td>google likely soon face antitrust claim play s...</td>\n",
              "    </tr>\n",
              "    <tr>\n",
              "      <th>173</th>\n",
              "      <td>2021-06-23</td>\n",
              "      <td>french court set date apple case app store dev...</td>\n",
              "    </tr>\n",
              "  </tbody>\n",
              "</table>\n",
              "<p>2365 rows × 2 columns</p>\n",
              "</div>"
            ],
            "text/plain": [
              "          Date                                          Headlines\n",
              "0   2015-01-01  expect apple inc 2015 1 reason might wrong app...\n",
              "1   2015-01-02  expect apple 2015 beyond smartwatch amazonquot...\n",
              "2   2015-01-03  mountie inexpensive innovative way attach ipho...\n",
              "3   2015-01-04  donald yacktman source moat concern applequots...\n",
              "4   2015-01-05  simfree iphone 6 6 plus reportedly debuting to...\n",
              "..         ...                                                ...\n",
              "169 2021-06-19  best preprime day smartwatch deal apple watch ...\n",
              "170 2021-06-20  iphone 13 rumor apple fall event get closer se...\n",
              "171 2021-06-21  apple shortening new free tv plus trial year t...\n",
              "172 2021-06-22  google likely soon face antitrust claim play s...\n",
              "173 2021-06-23  french court set date apple case app store dev...\n",
              "\n",
              "[2365 rows x 2 columns]"
            ]
          },
          "metadata": {
            "tags": []
          },
          "execution_count": 54
        }
      ]
    },
    {
      "cell_type": "code",
      "metadata": {
        "colab": {
          "base_uri": "https://localhost:8080/",
          "height": 419
        },
        "id": "vVlej9m-fiD6",
        "outputId": "8382e77d-d4c4-4b0f-a613-913e3a6e6901"
      },
      "source": [
        "tsla=pd.merge(tsla,news,on=['Date'],how='outer')\n",
        "tsla"
      ],
      "execution_count": 55,
      "outputs": [
        {
          "output_type": "execute_result",
          "data": {
            "text/html": [
              "<div>\n",
              "<style scoped>\n",
              "    .dataframe tbody tr th:only-of-type {\n",
              "        vertical-align: middle;\n",
              "    }\n",
              "\n",
              "    .dataframe tbody tr th {\n",
              "        vertical-align: top;\n",
              "    }\n",
              "\n",
              "    .dataframe thead th {\n",
              "        text-align: right;\n",
              "    }\n",
              "</style>\n",
              "<table border=\"1\" class=\"dataframe\">\n",
              "  <thead>\n",
              "    <tr style=\"text-align: right;\">\n",
              "      <th></th>\n",
              "      <th>Date</th>\n",
              "      <th>Close</th>\n",
              "      <th>Volume</th>\n",
              "      <th>Open</th>\n",
              "      <th>High</th>\n",
              "      <th>Low</th>\n",
              "      <th>Headlines</th>\n",
              "    </tr>\n",
              "  </thead>\n",
              "  <tbody>\n",
              "    <tr>\n",
              "      <th>0</th>\n",
              "      <td>2021-06-09</td>\n",
              "      <td>598.78</td>\n",
              "      <td>16584570.0</td>\n",
              "      <td>602.170</td>\n",
              "      <td>611.79</td>\n",
              "      <td>597.6301</td>\n",
              "      <td>athenahealth set support io 15 feature allows ...</td>\n",
              "    </tr>\n",
              "    <tr>\n",
              "      <th>1</th>\n",
              "      <td>2021-06-08</td>\n",
              "      <td>603.59</td>\n",
              "      <td>26053410.0</td>\n",
              "      <td>623.010</td>\n",
              "      <td>623.09</td>\n",
              "      <td>595.5000</td>\n",
              "      <td>apple chinese manufacturer talk u car battery ...</td>\n",
              "    </tr>\n",
              "    <tr>\n",
              "      <th>2</th>\n",
              "      <td>2021-06-07</td>\n",
              "      <td>605.13</td>\n",
              "      <td>22543680.0</td>\n",
              "      <td>591.825</td>\n",
              "      <td>610.00</td>\n",
              "      <td>582.8800</td>\n",
              "      <td>applequots new quotprivate relayquot feature a...</td>\n",
              "    </tr>\n",
              "    <tr>\n",
              "      <th>3</th>\n",
              "      <td>2021-06-04</td>\n",
              "      <td>599.05</td>\n",
              "      <td>24036900.0</td>\n",
              "      <td>579.710</td>\n",
              "      <td>600.61</td>\n",
              "      <td>577.2000</td>\n",
              "      <td>global equity nearly grasp alltime record doll...</td>\n",
              "    </tr>\n",
              "    <tr>\n",
              "      <th>4</th>\n",
              "      <td>2021-06-03</td>\n",
              "      <td>572.84</td>\n",
              "      <td>30111890.0</td>\n",
              "      <td>601.800</td>\n",
              "      <td>604.55</td>\n",
              "      <td>571.2200</td>\n",
              "      <td>buy rh stock dip q1 earnings growth wwdc 2021 ...</td>\n",
              "    </tr>\n",
              "    <tr>\n",
              "      <th>...</th>\n",
              "      <td>...</td>\n",
              "      <td>...</td>\n",
              "      <td>...</td>\n",
              "      <td>...</td>\n",
              "      <td>...</td>\n",
              "      <td>...</td>\n",
              "      <td>...</td>\n",
              "    </tr>\n",
              "    <tr>\n",
              "      <th>3279</th>\n",
              "      <td>2021-06-19</td>\n",
              "      <td>NaN</td>\n",
              "      <td>NaN</td>\n",
              "      <td>NaN</td>\n",
              "      <td>NaN</td>\n",
              "      <td>NaN</td>\n",
              "      <td>best preprime day smartwatch deal apple watch ...</td>\n",
              "    </tr>\n",
              "    <tr>\n",
              "      <th>3280</th>\n",
              "      <td>2021-06-20</td>\n",
              "      <td>NaN</td>\n",
              "      <td>NaN</td>\n",
              "      <td>NaN</td>\n",
              "      <td>NaN</td>\n",
              "      <td>NaN</td>\n",
              "      <td>iphone 13 rumor apple fall event get closer se...</td>\n",
              "    </tr>\n",
              "    <tr>\n",
              "      <th>3281</th>\n",
              "      <td>2021-06-21</td>\n",
              "      <td>NaN</td>\n",
              "      <td>NaN</td>\n",
              "      <td>NaN</td>\n",
              "      <td>NaN</td>\n",
              "      <td>NaN</td>\n",
              "      <td>apple shortening new free tv plus trial year t...</td>\n",
              "    </tr>\n",
              "    <tr>\n",
              "      <th>3282</th>\n",
              "      <td>2021-06-22</td>\n",
              "      <td>NaN</td>\n",
              "      <td>NaN</td>\n",
              "      <td>NaN</td>\n",
              "      <td>NaN</td>\n",
              "      <td>NaN</td>\n",
              "      <td>google likely soon face antitrust claim play s...</td>\n",
              "    </tr>\n",
              "    <tr>\n",
              "      <th>3283</th>\n",
              "      <td>2021-06-23</td>\n",
              "      <td>NaN</td>\n",
              "      <td>NaN</td>\n",
              "      <td>NaN</td>\n",
              "      <td>NaN</td>\n",
              "      <td>NaN</td>\n",
              "      <td>french court set date apple case app store dev...</td>\n",
              "    </tr>\n",
              "  </tbody>\n",
              "</table>\n",
              "<p>3284 rows × 7 columns</p>\n",
              "</div>"
            ],
            "text/plain": [
              "           Date  ...                                          Headlines\n",
              "0    2021-06-09  ...  athenahealth set support io 15 feature allows ...\n",
              "1    2021-06-08  ...  apple chinese manufacturer talk u car battery ...\n",
              "2    2021-06-07  ...  applequots new quotprivate relayquot feature a...\n",
              "3    2021-06-04  ...  global equity nearly grasp alltime record doll...\n",
              "4    2021-06-03  ...  buy rh stock dip q1 earnings growth wwdc 2021 ...\n",
              "...         ...  ...                                                ...\n",
              "3279 2021-06-19  ...  best preprime day smartwatch deal apple watch ...\n",
              "3280 2021-06-20  ...  iphone 13 rumor apple fall event get closer se...\n",
              "3281 2021-06-21  ...  apple shortening new free tv plus trial year t...\n",
              "3282 2021-06-22  ...  google likely soon face antitrust claim play s...\n",
              "3283 2021-06-23  ...  french court set date apple case app store dev...\n",
              "\n",
              "[3284 rows x 7 columns]"
            ]
          },
          "metadata": {
            "tags": []
          },
          "execution_count": 55
        }
      ]
    },
    {
      "cell_type": "code",
      "metadata": {
        "colab": {
          "base_uri": "https://localhost:8080/"
        },
        "id": "n_IHFQmOf0Ti",
        "outputId": "6c750114-1304-4d13-9414-e45aad8d4d58"
      },
      "source": [
        "tsla.isnull().sum()"
      ],
      "execution_count": 56,
      "outputs": [
        {
          "output_type": "execute_result",
          "data": {
            "text/plain": [
              "Date           0\n",
              "Close        748\n",
              "Volume       748\n",
              "Open         748\n",
              "High         748\n",
              "Low          748\n",
              "Headlines    919\n",
              "dtype: int64"
            ]
          },
          "metadata": {
            "tags": []
          },
          "execution_count": 56
        }
      ]
    },
    {
      "cell_type": "code",
      "metadata": {
        "id": "mPb03KPEf0JW"
      },
      "source": [
        "tsla['Close'].fillna(tsla['Close'].mean(), inplace=True)\n",
        "tsla['Volume'].fillna(tsla['Volume'].mean(), inplace=True)\n",
        "tsla['Open'].fillna(tsla['Open'].mean(), inplace=True)\n",
        "tsla['High'].fillna(tsla['High'].mean(), inplace=True)\n",
        "tsla['Low'].fillna(tsla['Low'].mean(), inplace=True)"
      ],
      "execution_count": 57,
      "outputs": []
    },
    {
      "cell_type": "code",
      "metadata": {
        "colab": {
          "base_uri": "https://localhost:8080/",
          "height": 419
        },
        "id": "U3rJMmzofz-K",
        "outputId": "e864de84-d435-468c-ca30-ee58af2e2a50"
      },
      "source": [
        "tsla=tsla.fillna('')\n",
        "tsla.sort_values(ascending = True ,by = 'Date')\n",
        "tsla"
      ],
      "execution_count": 58,
      "outputs": [
        {
          "output_type": "execute_result",
          "data": {
            "text/html": [
              "<div>\n",
              "<style scoped>\n",
              "    .dataframe tbody tr th:only-of-type {\n",
              "        vertical-align: middle;\n",
              "    }\n",
              "\n",
              "    .dataframe tbody tr th {\n",
              "        vertical-align: top;\n",
              "    }\n",
              "\n",
              "    .dataframe thead th {\n",
              "        text-align: right;\n",
              "    }\n",
              "</style>\n",
              "<table border=\"1\" class=\"dataframe\">\n",
              "  <thead>\n",
              "    <tr style=\"text-align: right;\">\n",
              "      <th></th>\n",
              "      <th>Date</th>\n",
              "      <th>Close</th>\n",
              "      <th>Volume</th>\n",
              "      <th>Open</th>\n",
              "      <th>High</th>\n",
              "      <th>Low</th>\n",
              "      <th>Headlines</th>\n",
              "    </tr>\n",
              "  </thead>\n",
              "  <tbody>\n",
              "    <tr>\n",
              "      <th>0</th>\n",
              "      <td>2021-06-09</td>\n",
              "      <td>598.780000</td>\n",
              "      <td>1.658457e+07</td>\n",
              "      <td>602.170000</td>\n",
              "      <td>611.790000</td>\n",
              "      <td>597.630100</td>\n",
              "      <td>athenahealth set support io 15 feature allows ...</td>\n",
              "    </tr>\n",
              "    <tr>\n",
              "      <th>1</th>\n",
              "      <td>2021-06-08</td>\n",
              "      <td>603.590000</td>\n",
              "      <td>2.605341e+07</td>\n",
              "      <td>623.010000</td>\n",
              "      <td>623.090000</td>\n",
              "      <td>595.500000</td>\n",
              "      <td>apple chinese manufacturer talk u car battery ...</td>\n",
              "    </tr>\n",
              "    <tr>\n",
              "      <th>2</th>\n",
              "      <td>2021-06-07</td>\n",
              "      <td>605.130000</td>\n",
              "      <td>2.254368e+07</td>\n",
              "      <td>591.825000</td>\n",
              "      <td>610.000000</td>\n",
              "      <td>582.880000</td>\n",
              "      <td>applequots new quotprivate relayquot feature a...</td>\n",
              "    </tr>\n",
              "    <tr>\n",
              "      <th>3</th>\n",
              "      <td>2021-06-04</td>\n",
              "      <td>599.050000</td>\n",
              "      <td>2.403690e+07</td>\n",
              "      <td>579.710000</td>\n",
              "      <td>600.610000</td>\n",
              "      <td>577.200000</td>\n",
              "      <td>global equity nearly grasp alltime record doll...</td>\n",
              "    </tr>\n",
              "    <tr>\n",
              "      <th>4</th>\n",
              "      <td>2021-06-03</td>\n",
              "      <td>572.840000</td>\n",
              "      <td>3.011189e+07</td>\n",
              "      <td>601.800000</td>\n",
              "      <td>604.550000</td>\n",
              "      <td>571.220000</td>\n",
              "      <td>buy rh stock dip q1 earnings growth wwdc 2021 ...</td>\n",
              "    </tr>\n",
              "    <tr>\n",
              "      <th>...</th>\n",
              "      <td>...</td>\n",
              "      <td>...</td>\n",
              "      <td>...</td>\n",
              "      <td>...</td>\n",
              "      <td>...</td>\n",
              "      <td>...</td>\n",
              "      <td>...</td>\n",
              "    </tr>\n",
              "    <tr>\n",
              "      <th>3279</th>\n",
              "      <td>2021-06-19</td>\n",
              "      <td>94.100336</td>\n",
              "      <td>3.412211e+07</td>\n",
              "      <td>94.078007</td>\n",
              "      <td>96.268169</td>\n",
              "      <td>91.815939</td>\n",
              "      <td>best preprime day smartwatch deal apple watch ...</td>\n",
              "    </tr>\n",
              "    <tr>\n",
              "      <th>3280</th>\n",
              "      <td>2021-06-20</td>\n",
              "      <td>94.100336</td>\n",
              "      <td>3.412211e+07</td>\n",
              "      <td>94.078007</td>\n",
              "      <td>96.268169</td>\n",
              "      <td>91.815939</td>\n",
              "      <td>iphone 13 rumor apple fall event get closer se...</td>\n",
              "    </tr>\n",
              "    <tr>\n",
              "      <th>3281</th>\n",
              "      <td>2021-06-21</td>\n",
              "      <td>94.100336</td>\n",
              "      <td>3.412211e+07</td>\n",
              "      <td>94.078007</td>\n",
              "      <td>96.268169</td>\n",
              "      <td>91.815939</td>\n",
              "      <td>apple shortening new free tv plus trial year t...</td>\n",
              "    </tr>\n",
              "    <tr>\n",
              "      <th>3282</th>\n",
              "      <td>2021-06-22</td>\n",
              "      <td>94.100336</td>\n",
              "      <td>3.412211e+07</td>\n",
              "      <td>94.078007</td>\n",
              "      <td>96.268169</td>\n",
              "      <td>91.815939</td>\n",
              "      <td>google likely soon face antitrust claim play s...</td>\n",
              "    </tr>\n",
              "    <tr>\n",
              "      <th>3283</th>\n",
              "      <td>2021-06-23</td>\n",
              "      <td>94.100336</td>\n",
              "      <td>3.412211e+07</td>\n",
              "      <td>94.078007</td>\n",
              "      <td>96.268169</td>\n",
              "      <td>91.815939</td>\n",
              "      <td>french court set date apple case app store dev...</td>\n",
              "    </tr>\n",
              "  </tbody>\n",
              "</table>\n",
              "<p>3284 rows × 7 columns</p>\n",
              "</div>"
            ],
            "text/plain": [
              "           Date  ...                                          Headlines\n",
              "0    2021-06-09  ...  athenahealth set support io 15 feature allows ...\n",
              "1    2021-06-08  ...  apple chinese manufacturer talk u car battery ...\n",
              "2    2021-06-07  ...  applequots new quotprivate relayquot feature a...\n",
              "3    2021-06-04  ...  global equity nearly grasp alltime record doll...\n",
              "4    2021-06-03  ...  buy rh stock dip q1 earnings growth wwdc 2021 ...\n",
              "...         ...  ...                                                ...\n",
              "3279 2021-06-19  ...  best preprime day smartwatch deal apple watch ...\n",
              "3280 2021-06-20  ...  iphone 13 rumor apple fall event get closer se...\n",
              "3281 2021-06-21  ...  apple shortening new free tv plus trial year t...\n",
              "3282 2021-06-22  ...  google likely soon face antitrust claim play s...\n",
              "3283 2021-06-23  ...  french court set date apple case app store dev...\n",
              "\n",
              "[3284 rows x 7 columns]"
            ]
          },
          "metadata": {
            "tags": []
          },
          "execution_count": 58
        }
      ]
    },
    {
      "cell_type": "code",
      "metadata": {
        "colab": {
          "base_uri": "https://localhost:8080/"
        },
        "id": "noCweDkJfz6S",
        "outputId": "0bf3cb69-a8cd-49f6-df07-7ce27af537af"
      },
      "source": [
        "tsla[:].isnull().sum()"
      ],
      "execution_count": 59,
      "outputs": [
        {
          "output_type": "execute_result",
          "data": {
            "text/plain": [
              "Date         0\n",
              "Close        0\n",
              "Volume       0\n",
              "Open         0\n",
              "High         0\n",
              "Low          0\n",
              "Headlines    0\n",
              "dtype: int64"
            ]
          },
          "metadata": {
            "tags": []
          },
          "execution_count": 59
        }
      ]
    },
    {
      "cell_type": "code",
      "metadata": {
        "colab": {
          "base_uri": "https://localhost:8080/"
        },
        "id": "aZ4CG9S1gmHu",
        "outputId": "96008265-1498-401a-ae3e-c8eb39a5153f"
      },
      "source": [
        "tsla.duplicated().sum()"
      ],
      "execution_count": 60,
      "outputs": [
        {
          "output_type": "execute_result",
          "data": {
            "text/plain": [
              "23"
            ]
          },
          "metadata": {
            "tags": []
          },
          "execution_count": 60
        }
      ]
    },
    {
      "cell_type": "code",
      "metadata": {
        "colab": {
          "base_uri": "https://localhost:8080/"
        },
        "id": "cPZM2uIagmE1",
        "outputId": "0850c8fc-818a-4de1-c368-35857a3e6bef"
      },
      "source": [
        "tsla.drop_duplicates(inplace=True,ignore_index=True)\n",
        "tsla.duplicated().sum()"
      ],
      "execution_count": 61,
      "outputs": [
        {
          "output_type": "execute_result",
          "data": {
            "text/plain": [
              "0"
            ]
          },
          "metadata": {
            "tags": []
          },
          "execution_count": 61
        }
      ]
    },
    {
      "cell_type": "code",
      "metadata": {
        "colab": {
          "base_uri": "https://localhost:8080/"
        },
        "id": "WqHhKg1Sgl44",
        "outputId": "eec1a780-a2bf-415b-d4b1-9e3bf53ce663"
      },
      "source": [
        "tsla.dtypes"
      ],
      "execution_count": 62,
      "outputs": [
        {
          "output_type": "execute_result",
          "data": {
            "text/plain": [
              "Date         datetime64[ns]\n",
              "Close               float64\n",
              "Volume              float64\n",
              "Open                float64\n",
              "High                float64\n",
              "Low                 float64\n",
              "Headlines            object\n",
              "dtype: object"
            ]
          },
          "metadata": {
            "tags": []
          },
          "execution_count": 62
        }
      ]
    },
    {
      "cell_type": "code",
      "metadata": {
        "colab": {
          "base_uri": "https://localhost:8080/",
          "height": 235
        },
        "id": "hI8XIUoNgl0c",
        "outputId": "0ba2074f-1ac0-409f-c039-7b24775d523a"
      },
      "source": [
        "tsla.set_index(\"Date\", inplace = True)\n",
        "tsla.head()"
      ],
      "execution_count": 63,
      "outputs": [
        {
          "output_type": "execute_result",
          "data": {
            "text/html": [
              "<div>\n",
              "<style scoped>\n",
              "    .dataframe tbody tr th:only-of-type {\n",
              "        vertical-align: middle;\n",
              "    }\n",
              "\n",
              "    .dataframe tbody tr th {\n",
              "        vertical-align: top;\n",
              "    }\n",
              "\n",
              "    .dataframe thead th {\n",
              "        text-align: right;\n",
              "    }\n",
              "</style>\n",
              "<table border=\"1\" class=\"dataframe\">\n",
              "  <thead>\n",
              "    <tr style=\"text-align: right;\">\n",
              "      <th></th>\n",
              "      <th>Close</th>\n",
              "      <th>Volume</th>\n",
              "      <th>Open</th>\n",
              "      <th>High</th>\n",
              "      <th>Low</th>\n",
              "      <th>Headlines</th>\n",
              "    </tr>\n",
              "    <tr>\n",
              "      <th>Date</th>\n",
              "      <th></th>\n",
              "      <th></th>\n",
              "      <th></th>\n",
              "      <th></th>\n",
              "      <th></th>\n",
              "      <th></th>\n",
              "    </tr>\n",
              "  </thead>\n",
              "  <tbody>\n",
              "    <tr>\n",
              "      <th>2021-06-09</th>\n",
              "      <td>598.78</td>\n",
              "      <td>16584570.0</td>\n",
              "      <td>602.170</td>\n",
              "      <td>611.79</td>\n",
              "      <td>597.6301</td>\n",
              "      <td>athenahealth set support io 15 feature allows ...</td>\n",
              "    </tr>\n",
              "    <tr>\n",
              "      <th>2021-06-08</th>\n",
              "      <td>603.59</td>\n",
              "      <td>26053410.0</td>\n",
              "      <td>623.010</td>\n",
              "      <td>623.09</td>\n",
              "      <td>595.5000</td>\n",
              "      <td>apple chinese manufacturer talk u car battery ...</td>\n",
              "    </tr>\n",
              "    <tr>\n",
              "      <th>2021-06-07</th>\n",
              "      <td>605.13</td>\n",
              "      <td>22543680.0</td>\n",
              "      <td>591.825</td>\n",
              "      <td>610.00</td>\n",
              "      <td>582.8800</td>\n",
              "      <td>applequots new quotprivate relayquot feature a...</td>\n",
              "    </tr>\n",
              "    <tr>\n",
              "      <th>2021-06-04</th>\n",
              "      <td>599.05</td>\n",
              "      <td>24036900.0</td>\n",
              "      <td>579.710</td>\n",
              "      <td>600.61</td>\n",
              "      <td>577.2000</td>\n",
              "      <td>global equity nearly grasp alltime record doll...</td>\n",
              "    </tr>\n",
              "    <tr>\n",
              "      <th>2021-06-03</th>\n",
              "      <td>572.84</td>\n",
              "      <td>30111890.0</td>\n",
              "      <td>601.800</td>\n",
              "      <td>604.55</td>\n",
              "      <td>571.2200</td>\n",
              "      <td>buy rh stock dip q1 earnings growth wwdc 2021 ...</td>\n",
              "    </tr>\n",
              "  </tbody>\n",
              "</table>\n",
              "</div>"
            ],
            "text/plain": [
              "             Close  ...                                          Headlines\n",
              "Date                ...                                                   \n",
              "2021-06-09  598.78  ...  athenahealth set support io 15 feature allows ...\n",
              "2021-06-08  603.59  ...  apple chinese manufacturer talk u car battery ...\n",
              "2021-06-07  605.13  ...  applequots new quotprivate relayquot feature a...\n",
              "2021-06-04  599.05  ...  global equity nearly grasp alltime record doll...\n",
              "2021-06-03  572.84  ...  buy rh stock dip q1 earnings growth wwdc 2021 ...\n",
              "\n",
              "[5 rows x 6 columns]"
            ]
          },
          "metadata": {
            "tags": []
          },
          "execution_count": 63
        }
      ]
    },
    {
      "cell_type": "code",
      "metadata": {
        "colab": {
          "base_uri": "https://localhost:8080/",
          "height": 450
        },
        "id": "ppVYZ9EBglwz",
        "outputId": "99f9e62f-d1d2-428a-87c7-b857986b1e41"
      },
      "source": [
        "tsla.sort_values(ascending = True ,by = 'Date')\n",
        "tsla"
      ],
      "execution_count": 64,
      "outputs": [
        {
          "output_type": "execute_result",
          "data": {
            "text/html": [
              "<div>\n",
              "<style scoped>\n",
              "    .dataframe tbody tr th:only-of-type {\n",
              "        vertical-align: middle;\n",
              "    }\n",
              "\n",
              "    .dataframe tbody tr th {\n",
              "        vertical-align: top;\n",
              "    }\n",
              "\n",
              "    .dataframe thead th {\n",
              "        text-align: right;\n",
              "    }\n",
              "</style>\n",
              "<table border=\"1\" class=\"dataframe\">\n",
              "  <thead>\n",
              "    <tr style=\"text-align: right;\">\n",
              "      <th></th>\n",
              "      <th>Close</th>\n",
              "      <th>Volume</th>\n",
              "      <th>Open</th>\n",
              "      <th>High</th>\n",
              "      <th>Low</th>\n",
              "      <th>Headlines</th>\n",
              "    </tr>\n",
              "    <tr>\n",
              "      <th>Date</th>\n",
              "      <th></th>\n",
              "      <th></th>\n",
              "      <th></th>\n",
              "      <th></th>\n",
              "      <th></th>\n",
              "      <th></th>\n",
              "    </tr>\n",
              "  </thead>\n",
              "  <tbody>\n",
              "    <tr>\n",
              "      <th>2021-06-09</th>\n",
              "      <td>598.780000</td>\n",
              "      <td>1.658457e+07</td>\n",
              "      <td>602.170000</td>\n",
              "      <td>611.790000</td>\n",
              "      <td>597.630100</td>\n",
              "      <td>athenahealth set support io 15 feature allows ...</td>\n",
              "    </tr>\n",
              "    <tr>\n",
              "      <th>2021-06-08</th>\n",
              "      <td>603.590000</td>\n",
              "      <td>2.605341e+07</td>\n",
              "      <td>623.010000</td>\n",
              "      <td>623.090000</td>\n",
              "      <td>595.500000</td>\n",
              "      <td>apple chinese manufacturer talk u car battery ...</td>\n",
              "    </tr>\n",
              "    <tr>\n",
              "      <th>2021-06-07</th>\n",
              "      <td>605.130000</td>\n",
              "      <td>2.254368e+07</td>\n",
              "      <td>591.825000</td>\n",
              "      <td>610.000000</td>\n",
              "      <td>582.880000</td>\n",
              "      <td>applequots new quotprivate relayquot feature a...</td>\n",
              "    </tr>\n",
              "    <tr>\n",
              "      <th>2021-06-04</th>\n",
              "      <td>599.050000</td>\n",
              "      <td>2.403690e+07</td>\n",
              "      <td>579.710000</td>\n",
              "      <td>600.610000</td>\n",
              "      <td>577.200000</td>\n",
              "      <td>global equity nearly grasp alltime record doll...</td>\n",
              "    </tr>\n",
              "    <tr>\n",
              "      <th>2021-06-03</th>\n",
              "      <td>572.840000</td>\n",
              "      <td>3.011189e+07</td>\n",
              "      <td>601.800000</td>\n",
              "      <td>604.550000</td>\n",
              "      <td>571.220000</td>\n",
              "      <td>buy rh stock dip q1 earnings growth wwdc 2021 ...</td>\n",
              "    </tr>\n",
              "    <tr>\n",
              "      <th>...</th>\n",
              "      <td>...</td>\n",
              "      <td>...</td>\n",
              "      <td>...</td>\n",
              "      <td>...</td>\n",
              "      <td>...</td>\n",
              "      <td>...</td>\n",
              "    </tr>\n",
              "    <tr>\n",
              "      <th>2021-06-19</th>\n",
              "      <td>94.100336</td>\n",
              "      <td>3.412211e+07</td>\n",
              "      <td>94.078007</td>\n",
              "      <td>96.268169</td>\n",
              "      <td>91.815939</td>\n",
              "      <td>best preprime day smartwatch deal apple watch ...</td>\n",
              "    </tr>\n",
              "    <tr>\n",
              "      <th>2021-06-20</th>\n",
              "      <td>94.100336</td>\n",
              "      <td>3.412211e+07</td>\n",
              "      <td>94.078007</td>\n",
              "      <td>96.268169</td>\n",
              "      <td>91.815939</td>\n",
              "      <td>iphone 13 rumor apple fall event get closer se...</td>\n",
              "    </tr>\n",
              "    <tr>\n",
              "      <th>2021-06-21</th>\n",
              "      <td>94.100336</td>\n",
              "      <td>3.412211e+07</td>\n",
              "      <td>94.078007</td>\n",
              "      <td>96.268169</td>\n",
              "      <td>91.815939</td>\n",
              "      <td>apple shortening new free tv plus trial year t...</td>\n",
              "    </tr>\n",
              "    <tr>\n",
              "      <th>2021-06-22</th>\n",
              "      <td>94.100336</td>\n",
              "      <td>3.412211e+07</td>\n",
              "      <td>94.078007</td>\n",
              "      <td>96.268169</td>\n",
              "      <td>91.815939</td>\n",
              "      <td>google likely soon face antitrust claim play s...</td>\n",
              "    </tr>\n",
              "    <tr>\n",
              "      <th>2021-06-23</th>\n",
              "      <td>94.100336</td>\n",
              "      <td>3.412211e+07</td>\n",
              "      <td>94.078007</td>\n",
              "      <td>96.268169</td>\n",
              "      <td>91.815939</td>\n",
              "      <td>french court set date apple case app store dev...</td>\n",
              "    </tr>\n",
              "  </tbody>\n",
              "</table>\n",
              "<p>3261 rows × 6 columns</p>\n",
              "</div>"
            ],
            "text/plain": [
              "                 Close  ...                                          Headlines\n",
              "Date                    ...                                                   \n",
              "2021-06-09  598.780000  ...  athenahealth set support io 15 feature allows ...\n",
              "2021-06-08  603.590000  ...  apple chinese manufacturer talk u car battery ...\n",
              "2021-06-07  605.130000  ...  applequots new quotprivate relayquot feature a...\n",
              "2021-06-04  599.050000  ...  global equity nearly grasp alltime record doll...\n",
              "2021-06-03  572.840000  ...  buy rh stock dip q1 earnings growth wwdc 2021 ...\n",
              "...                ...  ...                                                ...\n",
              "2021-06-19   94.100336  ...  best preprime day smartwatch deal apple watch ...\n",
              "2021-06-20   94.100336  ...  iphone 13 rumor apple fall event get closer se...\n",
              "2021-06-21   94.100336  ...  apple shortening new free tv plus trial year t...\n",
              "2021-06-22   94.100336  ...  google likely soon face antitrust claim play s...\n",
              "2021-06-23   94.100336  ...  french court set date apple case app store dev...\n",
              "\n",
              "[3261 rows x 6 columns]"
            ]
          },
          "metadata": {
            "tags": []
          },
          "execution_count": 64
        }
      ]
    },
    {
      "cell_type": "code",
      "metadata": {
        "colab": {
          "base_uri": "https://localhost:8080/"
        },
        "id": "GgSl7XE_gls6",
        "outputId": "ff3566d2-eb54-4b84-95f7-58c7f06da35f"
      },
      "source": [
        "tsla.duplicated().sum()"
      ],
      "execution_count": 65,
      "outputs": [
        {
          "output_type": "execute_result",
          "data": {
            "text/plain": [
              "2"
            ]
          },
          "metadata": {
            "tags": []
          },
          "execution_count": 65
        }
      ]
    },
    {
      "cell_type": "code",
      "metadata": {
        "colab": {
          "base_uri": "https://localhost:8080/",
          "height": 450
        },
        "id": "WP-RGxpFgldy",
        "outputId": "9e46d946-b2c6-421b-f4d4-edd53cedf53c"
      },
      "source": [
        "tsla"
      ],
      "execution_count": 66,
      "outputs": [
        {
          "output_type": "execute_result",
          "data": {
            "text/html": [
              "<div>\n",
              "<style scoped>\n",
              "    .dataframe tbody tr th:only-of-type {\n",
              "        vertical-align: middle;\n",
              "    }\n",
              "\n",
              "    .dataframe tbody tr th {\n",
              "        vertical-align: top;\n",
              "    }\n",
              "\n",
              "    .dataframe thead th {\n",
              "        text-align: right;\n",
              "    }\n",
              "</style>\n",
              "<table border=\"1\" class=\"dataframe\">\n",
              "  <thead>\n",
              "    <tr style=\"text-align: right;\">\n",
              "      <th></th>\n",
              "      <th>Close</th>\n",
              "      <th>Volume</th>\n",
              "      <th>Open</th>\n",
              "      <th>High</th>\n",
              "      <th>Low</th>\n",
              "      <th>Headlines</th>\n",
              "    </tr>\n",
              "    <tr>\n",
              "      <th>Date</th>\n",
              "      <th></th>\n",
              "      <th></th>\n",
              "      <th></th>\n",
              "      <th></th>\n",
              "      <th></th>\n",
              "      <th></th>\n",
              "    </tr>\n",
              "  </thead>\n",
              "  <tbody>\n",
              "    <tr>\n",
              "      <th>2021-06-09</th>\n",
              "      <td>598.780000</td>\n",
              "      <td>1.658457e+07</td>\n",
              "      <td>602.170000</td>\n",
              "      <td>611.790000</td>\n",
              "      <td>597.630100</td>\n",
              "      <td>athenahealth set support io 15 feature allows ...</td>\n",
              "    </tr>\n",
              "    <tr>\n",
              "      <th>2021-06-08</th>\n",
              "      <td>603.590000</td>\n",
              "      <td>2.605341e+07</td>\n",
              "      <td>623.010000</td>\n",
              "      <td>623.090000</td>\n",
              "      <td>595.500000</td>\n",
              "      <td>apple chinese manufacturer talk u car battery ...</td>\n",
              "    </tr>\n",
              "    <tr>\n",
              "      <th>2021-06-07</th>\n",
              "      <td>605.130000</td>\n",
              "      <td>2.254368e+07</td>\n",
              "      <td>591.825000</td>\n",
              "      <td>610.000000</td>\n",
              "      <td>582.880000</td>\n",
              "      <td>applequots new quotprivate relayquot feature a...</td>\n",
              "    </tr>\n",
              "    <tr>\n",
              "      <th>2021-06-04</th>\n",
              "      <td>599.050000</td>\n",
              "      <td>2.403690e+07</td>\n",
              "      <td>579.710000</td>\n",
              "      <td>600.610000</td>\n",
              "      <td>577.200000</td>\n",
              "      <td>global equity nearly grasp alltime record doll...</td>\n",
              "    </tr>\n",
              "    <tr>\n",
              "      <th>2021-06-03</th>\n",
              "      <td>572.840000</td>\n",
              "      <td>3.011189e+07</td>\n",
              "      <td>601.800000</td>\n",
              "      <td>604.550000</td>\n",
              "      <td>571.220000</td>\n",
              "      <td>buy rh stock dip q1 earnings growth wwdc 2021 ...</td>\n",
              "    </tr>\n",
              "    <tr>\n",
              "      <th>...</th>\n",
              "      <td>...</td>\n",
              "      <td>...</td>\n",
              "      <td>...</td>\n",
              "      <td>...</td>\n",
              "      <td>...</td>\n",
              "      <td>...</td>\n",
              "    </tr>\n",
              "    <tr>\n",
              "      <th>2021-06-19</th>\n",
              "      <td>94.100336</td>\n",
              "      <td>3.412211e+07</td>\n",
              "      <td>94.078007</td>\n",
              "      <td>96.268169</td>\n",
              "      <td>91.815939</td>\n",
              "      <td>best preprime day smartwatch deal apple watch ...</td>\n",
              "    </tr>\n",
              "    <tr>\n",
              "      <th>2021-06-20</th>\n",
              "      <td>94.100336</td>\n",
              "      <td>3.412211e+07</td>\n",
              "      <td>94.078007</td>\n",
              "      <td>96.268169</td>\n",
              "      <td>91.815939</td>\n",
              "      <td>iphone 13 rumor apple fall event get closer se...</td>\n",
              "    </tr>\n",
              "    <tr>\n",
              "      <th>2021-06-21</th>\n",
              "      <td>94.100336</td>\n",
              "      <td>3.412211e+07</td>\n",
              "      <td>94.078007</td>\n",
              "      <td>96.268169</td>\n",
              "      <td>91.815939</td>\n",
              "      <td>apple shortening new free tv plus trial year t...</td>\n",
              "    </tr>\n",
              "    <tr>\n",
              "      <th>2021-06-22</th>\n",
              "      <td>94.100336</td>\n",
              "      <td>3.412211e+07</td>\n",
              "      <td>94.078007</td>\n",
              "      <td>96.268169</td>\n",
              "      <td>91.815939</td>\n",
              "      <td>google likely soon face antitrust claim play s...</td>\n",
              "    </tr>\n",
              "    <tr>\n",
              "      <th>2021-06-23</th>\n",
              "      <td>94.100336</td>\n",
              "      <td>3.412211e+07</td>\n",
              "      <td>94.078007</td>\n",
              "      <td>96.268169</td>\n",
              "      <td>91.815939</td>\n",
              "      <td>french court set date apple case app store dev...</td>\n",
              "    </tr>\n",
              "  </tbody>\n",
              "</table>\n",
              "<p>3261 rows × 6 columns</p>\n",
              "</div>"
            ],
            "text/plain": [
              "                 Close  ...                                          Headlines\n",
              "Date                    ...                                                   \n",
              "2021-06-09  598.780000  ...  athenahealth set support io 15 feature allows ...\n",
              "2021-06-08  603.590000  ...  apple chinese manufacturer talk u car battery ...\n",
              "2021-06-07  605.130000  ...  applequots new quotprivate relayquot feature a...\n",
              "2021-06-04  599.050000  ...  global equity nearly grasp alltime record doll...\n",
              "2021-06-03  572.840000  ...  buy rh stock dip q1 earnings growth wwdc 2021 ...\n",
              "...                ...  ...                                                ...\n",
              "2021-06-19   94.100336  ...  best preprime day smartwatch deal apple watch ...\n",
              "2021-06-20   94.100336  ...  iphone 13 rumor apple fall event get closer se...\n",
              "2021-06-21   94.100336  ...  apple shortening new free tv plus trial year t...\n",
              "2021-06-22   94.100336  ...  google likely soon face antitrust claim play s...\n",
              "2021-06-23   94.100336  ...  french court set date apple case app store dev...\n",
              "\n",
              "[3261 rows x 6 columns]"
            ]
          },
          "metadata": {
            "tags": []
          },
          "execution_count": 66
        }
      ]
    },
    {
      "cell_type": "code",
      "metadata": {
        "colab": {
          "base_uri": "https://localhost:8080/"
        },
        "id": "6sn6shhFfz1r",
        "outputId": "097bc71c-2e6b-4dc5-9d3a-4b10fd18e75d"
      },
      "source": [
        "tsla[:].isnull().sum()"
      ],
      "execution_count": 67,
      "outputs": [
        {
          "output_type": "execute_result",
          "data": {
            "text/plain": [
              "Close        0\n",
              "Volume       0\n",
              "Open         0\n",
              "High         0\n",
              "Low          0\n",
              "Headlines    0\n",
              "dtype: int64"
            ]
          },
          "metadata": {
            "tags": []
          },
          "execution_count": 67
        }
      ]
    },
    {
      "cell_type": "code",
      "metadata": {
        "colab": {
          "base_uri": "https://localhost:8080/",
          "height": 235
        },
        "id": "KYsqkwsBfh-S",
        "outputId": "8332024f-d1d5-40e6-c435-6c893efb270b"
      },
      "source": [
        "tsla.tail()"
      ],
      "execution_count": 68,
      "outputs": [
        {
          "output_type": "execute_result",
          "data": {
            "text/html": [
              "<div>\n",
              "<style scoped>\n",
              "    .dataframe tbody tr th:only-of-type {\n",
              "        vertical-align: middle;\n",
              "    }\n",
              "\n",
              "    .dataframe tbody tr th {\n",
              "        vertical-align: top;\n",
              "    }\n",
              "\n",
              "    .dataframe thead th {\n",
              "        text-align: right;\n",
              "    }\n",
              "</style>\n",
              "<table border=\"1\" class=\"dataframe\">\n",
              "  <thead>\n",
              "    <tr style=\"text-align: right;\">\n",
              "      <th></th>\n",
              "      <th>Close</th>\n",
              "      <th>Volume</th>\n",
              "      <th>Open</th>\n",
              "      <th>High</th>\n",
              "      <th>Low</th>\n",
              "      <th>Headlines</th>\n",
              "    </tr>\n",
              "    <tr>\n",
              "      <th>Date</th>\n",
              "      <th></th>\n",
              "      <th></th>\n",
              "      <th></th>\n",
              "      <th></th>\n",
              "      <th></th>\n",
              "      <th></th>\n",
              "    </tr>\n",
              "  </thead>\n",
              "  <tbody>\n",
              "    <tr>\n",
              "      <th>2021-06-19</th>\n",
              "      <td>94.100336</td>\n",
              "      <td>3.412211e+07</td>\n",
              "      <td>94.078007</td>\n",
              "      <td>96.268169</td>\n",
              "      <td>91.815939</td>\n",
              "      <td>best preprime day smartwatch deal apple watch ...</td>\n",
              "    </tr>\n",
              "    <tr>\n",
              "      <th>2021-06-20</th>\n",
              "      <td>94.100336</td>\n",
              "      <td>3.412211e+07</td>\n",
              "      <td>94.078007</td>\n",
              "      <td>96.268169</td>\n",
              "      <td>91.815939</td>\n",
              "      <td>iphone 13 rumor apple fall event get closer se...</td>\n",
              "    </tr>\n",
              "    <tr>\n",
              "      <th>2021-06-21</th>\n",
              "      <td>94.100336</td>\n",
              "      <td>3.412211e+07</td>\n",
              "      <td>94.078007</td>\n",
              "      <td>96.268169</td>\n",
              "      <td>91.815939</td>\n",
              "      <td>apple shortening new free tv plus trial year t...</td>\n",
              "    </tr>\n",
              "    <tr>\n",
              "      <th>2021-06-22</th>\n",
              "      <td>94.100336</td>\n",
              "      <td>3.412211e+07</td>\n",
              "      <td>94.078007</td>\n",
              "      <td>96.268169</td>\n",
              "      <td>91.815939</td>\n",
              "      <td>google likely soon face antitrust claim play s...</td>\n",
              "    </tr>\n",
              "    <tr>\n",
              "      <th>2021-06-23</th>\n",
              "      <td>94.100336</td>\n",
              "      <td>3.412211e+07</td>\n",
              "      <td>94.078007</td>\n",
              "      <td>96.268169</td>\n",
              "      <td>91.815939</td>\n",
              "      <td>french court set date apple case app store dev...</td>\n",
              "    </tr>\n",
              "  </tbody>\n",
              "</table>\n",
              "</div>"
            ],
            "text/plain": [
              "                Close  ...                                          Headlines\n",
              "Date                   ...                                                   \n",
              "2021-06-19  94.100336  ...  best preprime day smartwatch deal apple watch ...\n",
              "2021-06-20  94.100336  ...  iphone 13 rumor apple fall event get closer se...\n",
              "2021-06-21  94.100336  ...  apple shortening new free tv plus trial year t...\n",
              "2021-06-22  94.100336  ...  google likely soon face antitrust claim play s...\n",
              "2021-06-23  94.100336  ...  french court set date apple case app store dev...\n",
              "\n",
              "[5 rows x 6 columns]"
            ]
          },
          "metadata": {
            "tags": []
          },
          "execution_count": 68
        }
      ]
    },
    {
      "cell_type": "code",
      "metadata": {
        "colab": {
          "base_uri": "https://localhost:8080/"
        },
        "id": "zcsPpkhIhsiL",
        "outputId": "d5ae7e91-0b49-4c24-c0aa-d2dbf17d0d14"
      },
      "source": [
        "print(f'Dataframe contains stock prices from {tsla.index.min()} to {tsla.index.max()}')\n",
        "print(f'Total no.of days = {(tsla.index.max()- tsla.index.min()).days} days')"
      ],
      "execution_count": 69,
      "outputs": [
        {
          "output_type": "stream",
          "text": [
            "Dataframe contains stock prices from 2011-06-10 00:00:00 to 2021-06-23 00:00:00\n",
            "Total no.of days = 3666 days\n"
          ],
          "name": "stdout"
        }
      ]
    },
    {
      "cell_type": "code",
      "metadata": {
        "colab": {
          "base_uri": "https://localhost:8080/"
        },
        "id": "kehMccNVhsfi",
        "outputId": "0f3c5be9-ee4f-4dc9-cf9c-203df73cf8d2"
      },
      "source": [
        "import nltk\n",
        "nltk.download('vader_lexicon')\n",
        "from nltk.sentiment.vader import SentimentIntensityAnalyzer\n",
        "import unicodedata"
      ],
      "execution_count": 70,
      "outputs": [
        {
          "output_type": "stream",
          "text": [
            "[nltk_data] Downloading package vader_lexicon to /root/nltk_data...\n"
          ],
          "name": "stdout"
        },
        {
          "output_type": "stream",
          "text": [
            "/usr/local/lib/python3.7/dist-packages/nltk/twitter/__init__.py:20: UserWarning:\n",
            "\n",
            "The twython library has not been installed. Some functionality from the twitter package will not be available.\n",
            "\n"
          ],
          "name": "stderr"
        }
      ]
    },
    {
      "cell_type": "code",
      "metadata": {
        "id": "oD_D4trBhsZ-"
      },
      "source": [
        "sid = SentimentIntensityAnalyzer()\n",
        "\n",
        "# calculating sentiment scores\n",
        "tsla['compound'] = tsla['Headlines'].apply(lambda x: sid.polarity_scores(x)['compound'])\n",
        "tsla['negative'] = tsla['Headlines'].apply(lambda x: sid.polarity_scores(x)['neg'])\n",
        "tsla['neutral'] = tsla['Headlines'].apply(lambda x: sid.polarity_scores(x)['neu'])\n",
        "tsla['positive'] = tsla['Headlines'].apply(lambda x: sid.polarity_scores(x)['pos'])"
      ],
      "execution_count": 71,
      "outputs": []
    },
    {
      "cell_type": "code",
      "metadata": {
        "id": "esGV8_EzhsXQ"
      },
      "source": [
        "from scipy import stats"
      ],
      "execution_count": 72,
      "outputs": []
    },
    {
      "cell_type": "code",
      "metadata": {
        "id": "T4EmP4U_hsTk"
      },
      "source": [
        "from sklearn.metrics import accuracy_score,classification_report\n",
        "from textblob import TextBlob\n",
        "def getsubj(text):\n",
        "  return TextBlob(text).sentiment.subjectivity\n",
        "def getpolarity(text):\n",
        "  return TextBlob(text).sentiment.polarity"
      ],
      "execution_count": 73,
      "outputs": []
    },
    {
      "cell_type": "code",
      "metadata": {
        "colab": {
          "base_uri": "https://localhost:8080/",
          "height": 739
        },
        "id": "UaowbhWBhsQD",
        "outputId": "5f24a0a3-0e0d-40b6-978f-fd52fc697311"
      },
      "source": [
        "tsla['Subjectivity']=tsla['Headlines'].apply(getsubj)\n",
        "tsla['Polarity']=tsla['Headlines'].apply(getpolarity)\n",
        "tsla\n"
      ],
      "execution_count": 74,
      "outputs": [
        {
          "output_type": "execute_result",
          "data": {
            "text/html": [
              "<div>\n",
              "<style scoped>\n",
              "    .dataframe tbody tr th:only-of-type {\n",
              "        vertical-align: middle;\n",
              "    }\n",
              "\n",
              "    .dataframe tbody tr th {\n",
              "        vertical-align: top;\n",
              "    }\n",
              "\n",
              "    .dataframe thead th {\n",
              "        text-align: right;\n",
              "    }\n",
              "</style>\n",
              "<table border=\"1\" class=\"dataframe\">\n",
              "  <thead>\n",
              "    <tr style=\"text-align: right;\">\n",
              "      <th></th>\n",
              "      <th>Close</th>\n",
              "      <th>Volume</th>\n",
              "      <th>Open</th>\n",
              "      <th>High</th>\n",
              "      <th>Low</th>\n",
              "      <th>Headlines</th>\n",
              "      <th>compound</th>\n",
              "      <th>negative</th>\n",
              "      <th>neutral</th>\n",
              "      <th>positive</th>\n",
              "      <th>Subjectivity</th>\n",
              "      <th>Polarity</th>\n",
              "    </tr>\n",
              "    <tr>\n",
              "      <th>Date</th>\n",
              "      <th></th>\n",
              "      <th></th>\n",
              "      <th></th>\n",
              "      <th></th>\n",
              "      <th></th>\n",
              "      <th></th>\n",
              "      <th></th>\n",
              "      <th></th>\n",
              "      <th></th>\n",
              "      <th></th>\n",
              "      <th></th>\n",
              "      <th></th>\n",
              "    </tr>\n",
              "  </thead>\n",
              "  <tbody>\n",
              "    <tr>\n",
              "      <th>2021-06-09</th>\n",
              "      <td>598.780000</td>\n",
              "      <td>1.658457e+07</td>\n",
              "      <td>602.170000</td>\n",
              "      <td>611.790000</td>\n",
              "      <td>597.630100</td>\n",
              "      <td>athenahealth set support io 15 feature allows ...</td>\n",
              "      <td>0.9905</td>\n",
              "      <td>0.051</td>\n",
              "      <td>0.850</td>\n",
              "      <td>0.099</td>\n",
              "      <td>0.372039</td>\n",
              "      <td>0.111292</td>\n",
              "    </tr>\n",
              "    <tr>\n",
              "      <th>2021-06-08</th>\n",
              "      <td>603.590000</td>\n",
              "      <td>2.605341e+07</td>\n",
              "      <td>623.010000</td>\n",
              "      <td>623.090000</td>\n",
              "      <td>595.500000</td>\n",
              "      <td>apple chinese manufacturer talk u car battery ...</td>\n",
              "      <td>0.9972</td>\n",
              "      <td>0.037</td>\n",
              "      <td>0.830</td>\n",
              "      <td>0.133</td>\n",
              "      <td>0.441778</td>\n",
              "      <td>0.148372</td>\n",
              "    </tr>\n",
              "    <tr>\n",
              "      <th>2021-06-07</th>\n",
              "      <td>605.130000</td>\n",
              "      <td>2.254368e+07</td>\n",
              "      <td>591.825000</td>\n",
              "      <td>610.000000</td>\n",
              "      <td>582.880000</td>\n",
              "      <td>applequots new quotprivate relayquot feature a...</td>\n",
              "      <td>0.9972</td>\n",
              "      <td>0.023</td>\n",
              "      <td>0.869</td>\n",
              "      <td>0.109</td>\n",
              "      <td>0.472968</td>\n",
              "      <td>0.174002</td>\n",
              "    </tr>\n",
              "    <tr>\n",
              "      <th>2021-06-04</th>\n",
              "      <td>599.050000</td>\n",
              "      <td>2.403690e+07</td>\n",
              "      <td>579.710000</td>\n",
              "      <td>600.610000</td>\n",
              "      <td>577.200000</td>\n",
              "      <td>global equity nearly grasp alltime record doll...</td>\n",
              "      <td>0.9953</td>\n",
              "      <td>0.038</td>\n",
              "      <td>0.849</td>\n",
              "      <td>0.113</td>\n",
              "      <td>0.406474</td>\n",
              "      <td>0.112212</td>\n",
              "    </tr>\n",
              "    <tr>\n",
              "      <th>2021-06-03</th>\n",
              "      <td>572.840000</td>\n",
              "      <td>3.011189e+07</td>\n",
              "      <td>601.800000</td>\n",
              "      <td>604.550000</td>\n",
              "      <td>571.220000</td>\n",
              "      <td>buy rh stock dip q1 earnings growth wwdc 2021 ...</td>\n",
              "      <td>0.9926</td>\n",
              "      <td>0.059</td>\n",
              "      <td>0.822</td>\n",
              "      <td>0.119</td>\n",
              "      <td>0.323765</td>\n",
              "      <td>0.088232</td>\n",
              "    </tr>\n",
              "    <tr>\n",
              "      <th>...</th>\n",
              "      <td>...</td>\n",
              "      <td>...</td>\n",
              "      <td>...</td>\n",
              "      <td>...</td>\n",
              "      <td>...</td>\n",
              "      <td>...</td>\n",
              "      <td>...</td>\n",
              "      <td>...</td>\n",
              "      <td>...</td>\n",
              "      <td>...</td>\n",
              "      <td>...</td>\n",
              "      <td>...</td>\n",
              "    </tr>\n",
              "    <tr>\n",
              "      <th>2021-06-19</th>\n",
              "      <td>94.100336</td>\n",
              "      <td>3.412211e+07</td>\n",
              "      <td>94.078007</td>\n",
              "      <td>96.268169</td>\n",
              "      <td>91.815939</td>\n",
              "      <td>best preprime day smartwatch deal apple watch ...</td>\n",
              "      <td>0.9910</td>\n",
              "      <td>0.029</td>\n",
              "      <td>0.796</td>\n",
              "      <td>0.175</td>\n",
              "      <td>0.391640</td>\n",
              "      <td>0.148395</td>\n",
              "    </tr>\n",
              "    <tr>\n",
              "      <th>2021-06-20</th>\n",
              "      <td>94.100336</td>\n",
              "      <td>3.412211e+07</td>\n",
              "      <td>94.078007</td>\n",
              "      <td>96.268169</td>\n",
              "      <td>91.815939</td>\n",
              "      <td>iphone 13 rumor apple fall event get closer se...</td>\n",
              "      <td>0.9947</td>\n",
              "      <td>0.039</td>\n",
              "      <td>0.777</td>\n",
              "      <td>0.184</td>\n",
              "      <td>0.372926</td>\n",
              "      <td>0.308141</td>\n",
              "    </tr>\n",
              "    <tr>\n",
              "      <th>2021-06-21</th>\n",
              "      <td>94.100336</td>\n",
              "      <td>3.412211e+07</td>\n",
              "      <td>94.078007</td>\n",
              "      <td>96.268169</td>\n",
              "      <td>91.815939</td>\n",
              "      <td>apple shortening new free tv plus trial year t...</td>\n",
              "      <td>0.9988</td>\n",
              "      <td>0.040</td>\n",
              "      <td>0.777</td>\n",
              "      <td>0.183</td>\n",
              "      <td>0.362845</td>\n",
              "      <td>0.272403</td>\n",
              "    </tr>\n",
              "    <tr>\n",
              "      <th>2021-06-22</th>\n",
              "      <td>94.100336</td>\n",
              "      <td>3.412211e+07</td>\n",
              "      <td>94.078007</td>\n",
              "      <td>96.268169</td>\n",
              "      <td>91.815939</td>\n",
              "      <td>google likely soon face antitrust claim play s...</td>\n",
              "      <td>0.9994</td>\n",
              "      <td>0.041</td>\n",
              "      <td>0.731</td>\n",
              "      <td>0.228</td>\n",
              "      <td>0.482284</td>\n",
              "      <td>0.308100</td>\n",
              "    </tr>\n",
              "    <tr>\n",
              "      <th>2021-06-23</th>\n",
              "      <td>94.100336</td>\n",
              "      <td>3.412211e+07</td>\n",
              "      <td>94.078007</td>\n",
              "      <td>96.268169</td>\n",
              "      <td>91.815939</td>\n",
              "      <td>french court set date apple case app store dev...</td>\n",
              "      <td>0.9976</td>\n",
              "      <td>0.065</td>\n",
              "      <td>0.770</td>\n",
              "      <td>0.165</td>\n",
              "      <td>0.425555</td>\n",
              "      <td>0.199220</td>\n",
              "    </tr>\n",
              "  </tbody>\n",
              "</table>\n",
              "<p>3261 rows × 12 columns</p>\n",
              "</div>"
            ],
            "text/plain": [
              "                 Close        Volume  ...  Subjectivity  Polarity\n",
              "Date                                  ...                        \n",
              "2021-06-09  598.780000  1.658457e+07  ...      0.372039  0.111292\n",
              "2021-06-08  603.590000  2.605341e+07  ...      0.441778  0.148372\n",
              "2021-06-07  605.130000  2.254368e+07  ...      0.472968  0.174002\n",
              "2021-06-04  599.050000  2.403690e+07  ...      0.406474  0.112212\n",
              "2021-06-03  572.840000  3.011189e+07  ...      0.323765  0.088232\n",
              "...                ...           ...  ...           ...       ...\n",
              "2021-06-19   94.100336  3.412211e+07  ...      0.391640  0.148395\n",
              "2021-06-20   94.100336  3.412211e+07  ...      0.372926  0.308141\n",
              "2021-06-21   94.100336  3.412211e+07  ...      0.362845  0.272403\n",
              "2021-06-22   94.100336  3.412211e+07  ...      0.482284  0.308100\n",
              "2021-06-23   94.100336  3.412211e+07  ...      0.425555  0.199220\n",
              "\n",
              "[3261 rows x 12 columns]"
            ]
          },
          "metadata": {
            "tags": []
          },
          "execution_count": 74
        }
      ]
    },
    {
      "cell_type": "code",
      "metadata": {
        "colab": {
          "base_uri": "https://localhost:8080/",
          "height": 235
        },
        "id": "qKdPnSSShsLz",
        "outputId": "f21b5792-aff8-4521-d60c-d4262d255888"
      },
      "source": [
        "tsla = tsla[['Close', 'compound', 'negative', 'neutral', 'positive', 'Open', 'High', 'Low', 'Volume','Subjectivity','Polarity']]\n",
        "tsla.head()"
      ],
      "execution_count": 75,
      "outputs": [
        {
          "output_type": "execute_result",
          "data": {
            "text/html": [
              "<div>\n",
              "<style scoped>\n",
              "    .dataframe tbody tr th:only-of-type {\n",
              "        vertical-align: middle;\n",
              "    }\n",
              "\n",
              "    .dataframe tbody tr th {\n",
              "        vertical-align: top;\n",
              "    }\n",
              "\n",
              "    .dataframe thead th {\n",
              "        text-align: right;\n",
              "    }\n",
              "</style>\n",
              "<table border=\"1\" class=\"dataframe\">\n",
              "  <thead>\n",
              "    <tr style=\"text-align: right;\">\n",
              "      <th></th>\n",
              "      <th>Close</th>\n",
              "      <th>compound</th>\n",
              "      <th>negative</th>\n",
              "      <th>neutral</th>\n",
              "      <th>positive</th>\n",
              "      <th>Open</th>\n",
              "      <th>High</th>\n",
              "      <th>Low</th>\n",
              "      <th>Volume</th>\n",
              "      <th>Subjectivity</th>\n",
              "      <th>Polarity</th>\n",
              "    </tr>\n",
              "    <tr>\n",
              "      <th>Date</th>\n",
              "      <th></th>\n",
              "      <th></th>\n",
              "      <th></th>\n",
              "      <th></th>\n",
              "      <th></th>\n",
              "      <th></th>\n",
              "      <th></th>\n",
              "      <th></th>\n",
              "      <th></th>\n",
              "      <th></th>\n",
              "      <th></th>\n",
              "    </tr>\n",
              "  </thead>\n",
              "  <tbody>\n",
              "    <tr>\n",
              "      <th>2021-06-09</th>\n",
              "      <td>598.78</td>\n",
              "      <td>0.9905</td>\n",
              "      <td>0.051</td>\n",
              "      <td>0.850</td>\n",
              "      <td>0.099</td>\n",
              "      <td>602.170</td>\n",
              "      <td>611.79</td>\n",
              "      <td>597.6301</td>\n",
              "      <td>16584570.0</td>\n",
              "      <td>0.372039</td>\n",
              "      <td>0.111292</td>\n",
              "    </tr>\n",
              "    <tr>\n",
              "      <th>2021-06-08</th>\n",
              "      <td>603.59</td>\n",
              "      <td>0.9972</td>\n",
              "      <td>0.037</td>\n",
              "      <td>0.830</td>\n",
              "      <td>0.133</td>\n",
              "      <td>623.010</td>\n",
              "      <td>623.09</td>\n",
              "      <td>595.5000</td>\n",
              "      <td>26053410.0</td>\n",
              "      <td>0.441778</td>\n",
              "      <td>0.148372</td>\n",
              "    </tr>\n",
              "    <tr>\n",
              "      <th>2021-06-07</th>\n",
              "      <td>605.13</td>\n",
              "      <td>0.9972</td>\n",
              "      <td>0.023</td>\n",
              "      <td>0.869</td>\n",
              "      <td>0.109</td>\n",
              "      <td>591.825</td>\n",
              "      <td>610.00</td>\n",
              "      <td>582.8800</td>\n",
              "      <td>22543680.0</td>\n",
              "      <td>0.472968</td>\n",
              "      <td>0.174002</td>\n",
              "    </tr>\n",
              "    <tr>\n",
              "      <th>2021-06-04</th>\n",
              "      <td>599.05</td>\n",
              "      <td>0.9953</td>\n",
              "      <td>0.038</td>\n",
              "      <td>0.849</td>\n",
              "      <td>0.113</td>\n",
              "      <td>579.710</td>\n",
              "      <td>600.61</td>\n",
              "      <td>577.2000</td>\n",
              "      <td>24036900.0</td>\n",
              "      <td>0.406474</td>\n",
              "      <td>0.112212</td>\n",
              "    </tr>\n",
              "    <tr>\n",
              "      <th>2021-06-03</th>\n",
              "      <td>572.84</td>\n",
              "      <td>0.9926</td>\n",
              "      <td>0.059</td>\n",
              "      <td>0.822</td>\n",
              "      <td>0.119</td>\n",
              "      <td>601.800</td>\n",
              "      <td>604.55</td>\n",
              "      <td>571.2200</td>\n",
              "      <td>30111890.0</td>\n",
              "      <td>0.323765</td>\n",
              "      <td>0.088232</td>\n",
              "    </tr>\n",
              "  </tbody>\n",
              "</table>\n",
              "</div>"
            ],
            "text/plain": [
              "             Close  compound  negative  ...      Volume  Subjectivity  Polarity\n",
              "Date                                    ...                                    \n",
              "2021-06-09  598.78    0.9905     0.051  ...  16584570.0      0.372039  0.111292\n",
              "2021-06-08  603.59    0.9972     0.037  ...  26053410.0      0.441778  0.148372\n",
              "2021-06-07  605.13    0.9972     0.023  ...  22543680.0      0.472968  0.174002\n",
              "2021-06-04  599.05    0.9953     0.038  ...  24036900.0      0.406474  0.112212\n",
              "2021-06-03  572.84    0.9926     0.059  ...  30111890.0      0.323765  0.088232\n",
              "\n",
              "[5 rows x 11 columns]"
            ]
          },
          "metadata": {
            "tags": []
          },
          "execution_count": 75
        }
      ]
    },
    {
      "cell_type": "code",
      "metadata": {
        "colab": {
          "base_uri": "https://localhost:8080/"
        },
        "id": "1Wg4XO66fLTD",
        "outputId": "e9c19074-552a-4870-ee60-99dbde633e81"
      },
      "source": [
        "tsla.dtypes"
      ],
      "execution_count": 76,
      "outputs": [
        {
          "output_type": "execute_result",
          "data": {
            "text/plain": [
              "Close           float64\n",
              "compound        float64\n",
              "negative        float64\n",
              "neutral         float64\n",
              "positive        float64\n",
              "Open            float64\n",
              "High            float64\n",
              "Low             float64\n",
              "Volume          float64\n",
              "Subjectivity    float64\n",
              "Polarity        float64\n",
              "dtype: object"
            ]
          },
          "metadata": {
            "tags": []
          },
          "execution_count": 76
        }
      ]
    },
    {
      "cell_type": "code",
      "metadata": {
        "id": "V5uoigPtjN1-"
      },
      "source": [
        "X = tsla.loc[:,'compound':'Polarity']\n",
        "y = tsla['Close']"
      ],
      "execution_count": 77,
      "outputs": []
    },
    {
      "cell_type": "code",
      "metadata": {
        "id": "kL4dXotGjUpm"
      },
      "source": [
        "from sklearn.model_selection import train_test_split #for building regression model\n",
        "from sklearn.preprocessing import MinMaxScaler  #For preprocessing\n",
        "from sklearn.preprocessing import StandardScaler\n",
        "from sklearn.metrics import mean_squared_error as mse   #For model evaluation\n",
        "from sklearn.metrics import r2_score"
      ],
      "execution_count": 78,
      "outputs": []
    },
    {
      "cell_type": "code",
      "metadata": {
        "id": "EtYxicSbjZWi"
      },
      "source": [
        "X_train,X_test,y_train,y_test = train_test_split(X,y,test_size = 0.2,random_state = 0)"
      ],
      "execution_count": 79,
      "outputs": []
    },
    {
      "cell_type": "code",
      "metadata": {
        "colab": {
          "base_uri": "https://localhost:8080/"
        },
        "id": "dLFL8FzBjctg",
        "outputId": "f0c4ddd0-be84-4f8d-c8ab-755f983c01db"
      },
      "source": [
        "from sklearn.linear_model import LinearRegression\n",
        "l = LinearRegression()\n",
        "l.fit(X_train,y_train)"
      ],
      "execution_count": 80,
      "outputs": [
        {
          "output_type": "execute_result",
          "data": {
            "text/plain": [
              "LinearRegression(copy_X=True, fit_intercept=True, n_jobs=None, normalize=False)"
            ]
          },
          "metadata": {
            "tags": []
          },
          "execution_count": 80
        }
      ]
    },
    {
      "cell_type": "code",
      "metadata": {
        "colab": {
          "base_uri": "https://localhost:8080/"
        },
        "id": "gFmjP4l7jfZW",
        "outputId": "d71c48d1-3498-42de-9c30-7d1e704d7ba7"
      },
      "source": [
        "print(l.intercept_)"
      ],
      "execution_count": 81,
      "outputs": [
        {
          "output_type": "stream",
          "text": [
            "-0.5525241042245455\n"
          ],
          "name": "stdout"
        }
      ]
    },
    {
      "cell_type": "code",
      "metadata": {
        "id": "barfnuB3jjCW"
      },
      "source": [
        "yhat=l.predict(X_test)"
      ],
      "execution_count": 82,
      "outputs": []
    },
    {
      "cell_type": "code",
      "metadata": {
        "colab": {
          "base_uri": "https://localhost:8080/",
          "height": 450
        },
        "id": "XLSHiBUUjnMl",
        "outputId": "fd7b6a73-06b3-408e-93f6-6debd7c9ce5b"
      },
      "source": [
        "# Actual vs Predicted prizes\n",
        "dframe = pd.DataFrame(y_test,yhat)\n",
        "dfr=pd.DataFrame({\"Actual_price\":y_test,\"Predicted_price\":yhat})\n",
        "dfr"
      ],
      "execution_count": 83,
      "outputs": [
        {
          "output_type": "execute_result",
          "data": {
            "text/html": [
              "<div>\n",
              "<style scoped>\n",
              "    .dataframe tbody tr th:only-of-type {\n",
              "        vertical-align: middle;\n",
              "    }\n",
              "\n",
              "    .dataframe tbody tr th {\n",
              "        vertical-align: top;\n",
              "    }\n",
              "\n",
              "    .dataframe thead th {\n",
              "        text-align: right;\n",
              "    }\n",
              "</style>\n",
              "<table border=\"1\" class=\"dataframe\">\n",
              "  <thead>\n",
              "    <tr style=\"text-align: right;\">\n",
              "      <th></th>\n",
              "      <th>Actual_price</th>\n",
              "      <th>Predicted_price</th>\n",
              "    </tr>\n",
              "    <tr>\n",
              "      <th>Date</th>\n",
              "      <th></th>\n",
              "      <th></th>\n",
              "    </tr>\n",
              "  </thead>\n",
              "  <tbody>\n",
              "    <tr>\n",
              "      <th>2016-03-25</th>\n",
              "      <td>94.100336</td>\n",
              "      <td>94.092630</td>\n",
              "    </tr>\n",
              "    <tr>\n",
              "      <th>2015-06-16</th>\n",
              "      <td>50.624000</td>\n",
              "      <td>50.124104</td>\n",
              "    </tr>\n",
              "    <tr>\n",
              "      <th>2016-10-16</th>\n",
              "      <td>94.100336</td>\n",
              "      <td>94.097874</td>\n",
              "    </tr>\n",
              "    <tr>\n",
              "      <th>2017-11-06</th>\n",
              "      <td>60.556000</td>\n",
              "      <td>60.438951</td>\n",
              "    </tr>\n",
              "    <tr>\n",
              "      <th>2017-01-21</th>\n",
              "      <td>94.100336</td>\n",
              "      <td>93.853594</td>\n",
              "    </tr>\n",
              "    <tr>\n",
              "      <th>...</th>\n",
              "      <td>...</td>\n",
              "      <td>...</td>\n",
              "    </tr>\n",
              "    <tr>\n",
              "      <th>2017-05-12</th>\n",
              "      <td>64.962000</td>\n",
              "      <td>65.007299</td>\n",
              "    </tr>\n",
              "    <tr>\n",
              "      <th>2021-04-13</th>\n",
              "      <td>762.320000</td>\n",
              "      <td>741.649767</td>\n",
              "    </tr>\n",
              "    <tr>\n",
              "      <th>2017-01-20</th>\n",
              "      <td>48.946000</td>\n",
              "      <td>49.025427</td>\n",
              "    </tr>\n",
              "    <tr>\n",
              "      <th>2018-03-08</th>\n",
              "      <td>65.820000</td>\n",
              "      <td>65.762868</td>\n",
              "    </tr>\n",
              "    <tr>\n",
              "      <th>2019-08-29</th>\n",
              "      <td>44.342000</td>\n",
              "      <td>44.328857</td>\n",
              "    </tr>\n",
              "  </tbody>\n",
              "</table>\n",
              "<p>653 rows × 2 columns</p>\n",
              "</div>"
            ],
            "text/plain": [
              "            Actual_price  Predicted_price\n",
              "Date                                     \n",
              "2016-03-25     94.100336        94.092630\n",
              "2015-06-16     50.624000        50.124104\n",
              "2016-10-16     94.100336        94.097874\n",
              "2017-11-06     60.556000        60.438951\n",
              "2017-01-21     94.100336        93.853594\n",
              "...                  ...              ...\n",
              "2017-05-12     64.962000        65.007299\n",
              "2021-04-13    762.320000       741.649767\n",
              "2017-01-20     48.946000        49.025427\n",
              "2018-03-08     65.820000        65.762868\n",
              "2019-08-29     44.342000        44.328857\n",
              "\n",
              "[653 rows x 2 columns]"
            ]
          },
          "metadata": {
            "tags": []
          },
          "execution_count": 83
        }
      ]
    },
    {
      "cell_type": "code",
      "metadata": {
        "colab": {
          "base_uri": "https://localhost:8080/"
        },
        "id": "A-B-yi2SjrI5",
        "outputId": "85e52c2b-f491-4078-8364-aafd9e1bc778"
      },
      "source": [
        "l.score(X_test,y_test)*100"
      ],
      "execution_count": 84,
      "outputs": [
        {
          "output_type": "execute_result",
          "data": {
            "text/plain": [
              "99.91921983724474"
            ]
          },
          "metadata": {
            "tags": []
          },
          "execution_count": 84
        }
      ]
    },
    {
      "cell_type": "code",
      "metadata": {
        "colab": {
          "base_uri": "https://localhost:8080/"
        },
        "id": "JosGOb46jwRE",
        "outputId": "eda33680-f342-440c-a114-50954814cd2b"
      },
      "source": [
        "scores = f'''\n",
        "{'Metric'.ljust(10)}{'Train'.center(20)}{'Test'.center(20)}\n",
        "{'r2_score'.ljust(10)}{r2_score(y_train,l.predict(X_train))}\\t{r2_score(y_test,l.predict(X_test))}\n",
        "'''\n",
        "print(scores)"
      ],
      "execution_count": 85,
      "outputs": [
        {
          "output_type": "stream",
          "text": [
            "\n",
            "Metric           Train                Test        \n",
            "r2_score  0.9994621539805131\t0.9991921983724473\n",
            "\n"
          ],
          "name": "stdout"
        }
      ]
    },
    {
      "cell_type": "code",
      "metadata": {
        "colab": {
          "base_uri": "https://localhost:8080/"
        },
        "id": "TRAEbr_wj0gG",
        "outputId": "b5f3c82e-fa10-461f-ea3d-b5a63c74b739"
      },
      "source": [
        "from sklearn.model_selection import ShuffleSplit\n",
        "from sklearn.model_selection import cross_val_score\n",
        "\n",
        "cv = ShuffleSplit(n_splits=5, test_size=0.2, random_state=0)\n",
        "\n",
        "cross_val_score(LinearRegression(), X, y, cv=cv)"
      ],
      "execution_count": 86,
      "outputs": [
        {
          "output_type": "execute_result",
          "data": {
            "text/plain": [
              "array([0.9991922 , 0.99966863, 0.99956867, 0.99939167, 0.99962756])"
            ]
          },
          "metadata": {
            "tags": []
          },
          "execution_count": 86
        }
      ]
    },
    {
      "cell_type": "code",
      "metadata": {
        "colab": {
          "base_uri": "https://localhost:8080/"
        },
        "id": "5Ne68ptXj2l4",
        "outputId": "934a27a4-02e2-4ec9-c8fc-06d5a4a7bde5"
      },
      "source": [
        "import datetime\n",
        "last_day = tsla.index[-1]\n",
        "next_day = last_day + datetime.timedelta(days = 1)\n",
        "print(next_day)"
      ],
      "execution_count": 88,
      "outputs": [
        {
          "output_type": "stream",
          "text": [
            "2021-06-24 00:00:00\n"
          ],
          "name": "stdout"
        }
      ]
    },
    {
      "cell_type": "code",
      "metadata": {
        "colab": {
          "base_uri": "https://localhost:8080/"
        },
        "id": "EqYbmrtrj2eg",
        "outputId": "feb087c3-c7e0-4f25-e55e-0286b78a8d8c"
      },
      "source": [
        "X.columns"
      ],
      "execution_count": 89,
      "outputs": [
        {
          "output_type": "execute_result",
          "data": {
            "text/plain": [
              "Index(['compound', 'negative', 'neutral', 'positive', 'Open', 'High', 'Low',\n",
              "       'Volume', 'Subjectivity', 'Polarity'],\n",
              "      dtype='object')"
            ]
          },
          "metadata": {
            "tags": []
          },
          "execution_count": 89
        }
      ]
    },
    {
      "cell_type": "code",
      "metadata": {
        "id": "foALT_Z_j2W-"
      },
      "source": [
        "def Convert(Headlines):\n",
        "    Headline = list(Headlines.split(\"-\"))\n",
        "    return Headline\n",
        "\n",
        "def filter(Headline):\n",
        "    Head = [ x.lower() for x in Headline]\n",
        "    Head = [char_rmvl(x) for x in Head]\n",
        "    Head = [' '.join([word for word in s.split() if word not in (stop)]) for s in Head]\n",
        "    Head = [lemmat(s) for s in Head]\n",
        "    return Head\n",
        "\n",
        "def sent_anls(Head):\n",
        "    compound = [sid.polarity_scores(x)['compound'] for x in Head]\n",
        "    negative = [sid.polarity_scores(x)['neg'] for x in Head]\n",
        "    neutral = [sid.polarity_scores(x)['neu'] for x in Head]\n",
        "    positive = [sid.polarity_scores(x)['pos'] for x in Head]\n",
        "    subjectivity = [getsubj(x) for x in Head]\n",
        "    polarity = [getpolarity(x) for x in Head]\n",
        "\n",
        "    return compound,negative,neutral,positive,subjectivity,polarity\n",
        "\n",
        "\n",
        "\n",
        "\n",
        "def predict_price(Open,High,Low,Volume,Headlines):\n",
        "    head = filter(Headlines)\n",
        "    cmpd,negt,neut,post,subj,pol = sent_anls(head)\n",
        "    af = pd.DataFrame()\n",
        "    af['compound'] = cmpd\n",
        "    af['negative'] = negt\n",
        "    af['neutral'] = neut\n",
        "    af['positive'] = post\n",
        "    af['Open'] = Open \n",
        "    af['High'] = High\n",
        "    af['Low'] = Low\n",
        "    af['Volume'] = Volume\n",
        "    af['Subjectivity'] = subj\n",
        "    af['Polarity'] = pol\n",
        "    return l.predict(af)[0]"
      ],
      "execution_count": 93,
      "outputs": []
    },
    {
      "cell_type": "code",
      "metadata": {
        "id": "zouYHMlKk3Vj"
      },
      "source": [
        "prediction = predict_price(3272.87,3297.5800,3270.7000,2455530,'athenahealth is set to support the iOS 15 Feature that allows Patients to Share their Apple Health app Data with their Providers Buy Adobe Stock Before Q2 Earnings as a Long-Term Tech Hold? WWDC 2021: Apple Quietly Reinforces Its Moat EU trustbusters target Apple&quot;s Siri and other voice assistants Apple&quot;s First AR Headset To Launch In Q2 of 2022 Apple&quot;s First AR Headset To Launch In Q2 of 2022 The U.S. House of Representatives is working to introduce Five Antitrust Bills in the next week that will Squarely affect Apple and its App Store Carolyn Everson has left Facebook and is reportedly eyeing a CEO role Apple Podcasts to Launch In-app Subscriptions Globally On June 15: Report Feature: Why Did Fastly Stock Soar on the Day of the Outage? Think Apple. Several macOS Monterey Features Unavailable on Intel-Based Macs Several macOS Monterey Features Unavailable on Intel-Based Macs Apple may have accidentally confirmed the existence of an M1X MacBook Pro Apple and Facebook need each other more than they&quot;d ever admit Apple is Set to Launch its Podcasts Subscriptions Platform Next Week EU Antitrust Watchdog Raise Concerns Overs Alexa, Siri, Google&quot;s Voice Assistant Dominance: Reuters The creator economy is running into the Apple Tax - this startup is fighting back Facebook first-ever smartwatch will reportedly have two cameras and roll out next summer The Newton lives, kinda: Boffin turns Apple eMate 300 into Raspberry Pi laptop Mirrored Apple (mAAPL) Trading Up 2.2% This Week Lose the use of Apple&quot;s iCloud, and you lose more than storage Early Prime Day Apple Watch deals: Save $70 on a Series 6     - CNET Applebee&quot;s offered free appetizers in hopes of luring in 10,000 job candidates and more than 40,000 applied Pro: Facebook stock is still trading at a &quot;reasonable price&quot; Stock Market Today With Jim Cramer: FAANG and Clover Health Apple Podcasts subscriptions rolling out next week Facebook aiming smartwatch at summer 2022 release, with two cameras Apple&quot;s most exciting WWDC 2021 announcements for iPhone, Mac and more     - CNET Here are the most important new features coming to your iPhone this fall Apple Podcasts says it&quot;ll launch in-app subscriptions globally on June 15th WWDC 2021: Nothing in Apple&quot;s Developer Keynote Will Move the Bar on Apple Stock 10 Information Technology Stocks With Unusual Options Alerts In Today&quot;s Session Salesforce Says Up to 60% of Its Employees Will Work From Home Post-Pandemic Salesforce Says Up to 60% of Its Employees Will Work From Home Post-Pandemic Here&quot;s Why ClearBridge Reduced its Apple (AAPL) Stake Here&quot;s Why ClearBridge Reduced its Apple (AAPL) Stake Google Relaxes Search Engine Dominance Practices On European Android Ferrari Appoints STMicroelectronics Exec as New CEO 3 Top Tech Stocks to Buy During a Recession Apple Maps is getting a major makeover in iOS 15     - Roadshow New iPhone Health app feature gives doctors easier access to data Skyworks Solutions or Qorvo: Which 5G Stock Should You Buy With $200? MacOS Monterey: What you should know about Apple&quot;s latest Mac software update     - CNET Apple Stock Is Near Perfect, So Trade it With Confidence Apple and Snap Pick Up Where Pokemon Go Left Off iOS 15&quot;s most exciting new features: FaceTime, iMessages and Apple Wallet get new tricks     - CNET Music Streaming Stocks to Watch as Distancing Aids Adoption The Apple Watch Series 6 is $70 off What Netflix Needs to Do to Reach $1,000 Best Apple AirPods deals before Prime Day: Save $52 on AirPods Pro, $30 off AirPods Max     - CNET Why Quotient Technology Stock Fell 28% in May Cerner becomes EHR partner for new Apple feature Big tech companies resume hunt for Silicon Valley offices Big tech companies resume hunt for Silicon Valley offices 3 Must-See Takeaways From Apple&quot;s Big Event WWDC: Universal Control on the Mac and iPad explained WWDC: Universal Control on the Mac and iPad explained 4 Stocks to Capitalize on the Booming Virtual Reality Market 4 Stocks to Capitalize on the Booming Virtual Reality Market US-China Tech War: American Tech Bill Locks Huawei On Washington&quot;s Trade Blacklist As The Company Plays Up Its Cybersecurity Credentials Realme to launch its first laptop in India soon, may come with MacBook Air-like design 1 Popular Tech Stock to Avoid The Apple Gadgets You Should---and Shouldn&quot;t---Buy Right Now Why Netflix&quot;s Leading Position in Streaming May Be In Trouble Semiconductor Watchlist: Jim Cramer Says To Own Nvidia, AMD and Broadcom 5 Stocks Set to Gain From the Ongoing 5G Boom 5 Stocks Set to Gain From the Ongoing 5G Boom Wall Street Breakfast: Countering China 4 new ways Apple amps up your privacy on iOS 15: Siri, Mail and more     - CNET If You Want to Live in Apple World, Gather All Your iDevices ICYMI: Jim Cramer Live From NYSE Trading Floor Will Illumina Be a Trillion-Dollar Stock by 2035? The Zacks Analyst Blog Highlights: Google, Apple, Dow, Zoom and The Sherwin-Williams Co Leonard Rickey Investment Advisors P.L.L.C. Reduces Holdings in Apple Inc. (NASDAQ:AAPL) KFA Private Wealth Group LLC Has $3.45 Million Position in Apple Inc. (NASDAQ:AAPL) Apple Xcode 13 supports teams, Swift concurrency Apple In Talks With Chinese Manufacturers Over U.S. EV Battery Plant - Report Apple In Talks With Chinese Manufacturers Over U.S. EV Battery Plant - Report Apple Will Find It Hard To Recover From Fallout Over App Store Policies, Says Bill Gurley Ocean Capital Management LLC Raises Holdings in Apple Inc. (NASDAQ:AAPL) Apple settles lawsuit after iPhone techs posted woman&quot;s explicit photos on Facebook, report says Apple pays millions of dollars to student after repair staff leak her explicit photos online Apple Inc. (NASDAQ:AAPL) Shares Sold by Bridge Advisory LLC With an improved FaceTime, Apple is seeking a piece of Zoom&quot;s action Avion Wealth Decreases Holdings in Apple Inc. (NASDAQ:AAPL) Apple just showed us how it could finally bring iMessage to Android HBO Max update fixes the worst of its Apple TV woes Supply chain gearing up shipments for new MacBook Pro Apple has recorded its best-ever quarterly sales of laptops and tablets in India Apple Pays Multimillion Dollar Settlement to Woman Whose Explicit Photos Are Leaked by iPhone Repair Techs Global tax still far from becoming reality Big countries&quot; tax deal to reveal rift in Europe Apple EV Could be Too Late in the Game Notes Tesla Bull  Apple Starts While Tesla Moves to Autonomous Robots Analysts Have Conflicting Sentiments on These Technology Companies: Apple (AAPL), Boeing (BA) and Airbus Group SE (OtherEADSF) Apple Shazam Brings &quot;ShazamKit&quot; for Third-Party Apps to Recognize Beats, Hums-Coming to Android Apple doubles down on privacy in new iPhone software Report: Apple in Talks Over Batteries for Apple Car Report: Apple in Talks Over Batteries for Apple Car Apple Brings Back Magnifying Glass For Selecting Text In iOS 15 Apple Brings Back Magnifying Glass For Selecting Text In iOS 15')"
      ],
      "execution_count": 96,
      "outputs": []
    },
    {
      "cell_type": "code",
      "metadata": {
        "colab": {
          "base_uri": "https://localhost:8080/"
        },
        "id": "YgwpyQc4k-_h",
        "outputId": "6eeba8c6-2f8e-41f4-b645-03e4f038d5a8"
      },
      "source": [
        "print(\"Close :\" ,prediction)"
      ],
      "execution_count": 97,
      "outputs": [
        {
          "output_type": "stream",
          "text": [
            "Close : 3330.567796686831\n"
          ],
          "name": "stdout"
        }
      ]
    },
    {
      "cell_type": "code",
      "metadata": {
        "id": "wNJx7mPglCUA"
      },
      "source": [
        "import pickle\n",
        "pickle_out = open(\"model.pkl\",\"wb\")\n",
        "pickle.dump(l,pickle_out)\n",
        "pickle_out.close()"
      ],
      "execution_count": 98,
      "outputs": []
    },
    {
      "cell_type": "code",
      "metadata": {
        "colab": {
          "base_uri": "https://localhost:8080/",
          "height": 17
        },
        "id": "XGAg7doulGpp",
        "outputId": "2b262bb2-0e06-407b-beb0-13f0036aa59b"
      },
      "source": [
        "from google.colab import files\n",
        "files.download('model.pkl')"
      ],
      "execution_count": 99,
      "outputs": [
        {
          "output_type": "display_data",
          "data": {
            "application/javascript": [
              "\n",
              "    async function download(id, filename, size) {\n",
              "      if (!google.colab.kernel.accessAllowed) {\n",
              "        return;\n",
              "      }\n",
              "      const div = document.createElement('div');\n",
              "      const label = document.createElement('label');\n",
              "      label.textContent = `Downloading \"${filename}\": `;\n",
              "      div.appendChild(label);\n",
              "      const progress = document.createElement('progress');\n",
              "      progress.max = size;\n",
              "      div.appendChild(progress);\n",
              "      document.body.appendChild(div);\n",
              "\n",
              "      const buffers = [];\n",
              "      let downloaded = 0;\n",
              "\n",
              "      const channel = await google.colab.kernel.comms.open(id);\n",
              "      // Send a message to notify the kernel that we're ready.\n",
              "      channel.send({})\n",
              "\n",
              "      for await (const message of channel.messages) {\n",
              "        // Send a message to notify the kernel that we're ready.\n",
              "        channel.send({})\n",
              "        if (message.buffers) {\n",
              "          for (const buffer of message.buffers) {\n",
              "            buffers.push(buffer);\n",
              "            downloaded += buffer.byteLength;\n",
              "            progress.value = downloaded;\n",
              "          }\n",
              "        }\n",
              "      }\n",
              "      const blob = new Blob(buffers, {type: 'application/binary'});\n",
              "      const a = document.createElement('a');\n",
              "      a.href = window.URL.createObjectURL(blob);\n",
              "      a.download = filename;\n",
              "      div.appendChild(a);\n",
              "      a.click();\n",
              "      div.remove();\n",
              "    }\n",
              "  "
            ],
            "text/plain": [
              "<IPython.core.display.Javascript object>"
            ]
          },
          "metadata": {
            "tags": []
          }
        },
        {
          "output_type": "display_data",
          "data": {
            "application/javascript": [
              "download(\"download_07bef32f-71e6-4a86-a00f-572928abf92e\", \"model.pkl\", 663)"
            ],
            "text/plain": [
              "<IPython.core.display.Javascript object>"
            ]
          },
          "metadata": {
            "tags": []
          }
        }
      ]
    },
    {
      "cell_type": "code",
      "metadata": {
        "id": "vp7KgFrvlSq2"
      },
      "source": [
        ""
      ],
      "execution_count": null,
      "outputs": []
    }
  ]
}